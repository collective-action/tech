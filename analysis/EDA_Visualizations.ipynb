{
 "cells": [
  {
   "cell_type": "code",
   "execution_count": 1,
   "metadata": {},
   "outputs": [],
   "source": [
    "import pandas as pd\n",
    "import numpy as np\n",
    "from datetime import datetime\n",
    "import matplotlib.pyplot as plt"
   ]
  },
  {
   "cell_type": "markdown",
   "metadata": {},
   "source": [
    "# Set date range"
   ]
  },
  {
   "cell_type": "code",
   "execution_count": 2,
   "metadata": {},
   "outputs": [],
   "source": [
    "# specify the date range we wish to plot\n",
    "date_range = pd.date_range('01-01-2006', datetime.today().date())"
   ]
  },
  {
   "cell_type": "markdown",
   "metadata": {},
   "source": [
    "# Load csv"
   ]
  },
  {
   "cell_type": "code",
   "execution_count": 45,
   "metadata": {},
   "outputs": [
    {
     "data": {
      "text/html": [
       "<div>\n",
       "<style scoped>\n",
       "    .dataframe tbody tr th:only-of-type {\n",
       "        vertical-align: middle;\n",
       "    }\n",
       "\n",
       "    .dataframe tbody tr th {\n",
       "        vertical-align: top;\n",
       "    }\n",
       "\n",
       "    .dataframe thead th {\n",
       "        text-align: right;\n",
       "    }\n",
       "</style>\n",
       "<table border=\"1\" class=\"dataframe\">\n",
       "  <thead>\n",
       "    <tr style=\"text-align: right;\">\n",
       "      <th></th>\n",
       "      <th>id</th>\n",
       "      <th>date</th>\n",
       "      <th>sources</th>\n",
       "      <th>actions</th>\n",
       "      <th>struggles</th>\n",
       "      <th>employment_types</th>\n",
       "      <th>description</th>\n",
       "      <th>online</th>\n",
       "      <th>locations</th>\n",
       "      <th>companies</th>\n",
       "      <th>workers</th>\n",
       "      <th>tags</th>\n",
       "      <th>author</th>\n",
       "      <th>latlngs</th>\n",
       "      <th>addresses</th>\n",
       "    </tr>\n",
       "  </thead>\n",
       "  <tbody>\n",
       "    <tr>\n",
       "      <td>0</td>\n",
       "      <td>1</td>\n",
       "      <td>1979-09-01</td>\n",
       "      <td>['https://twitter.com/clancynewyork/status/117...</td>\n",
       "      <td>['protest']</td>\n",
       "      <td>['ethics']</td>\n",
       "      <td>['white_collar_workers']</td>\n",
       "      <td>IBM workers formed an organization, IBM: Speak...</td>\n",
       "      <td>None</td>\n",
       "      <td>['worldwide']</td>\n",
       "      <td>['ibm']</td>\n",
       "      <td>None</td>\n",
       "      <td>['international_solidarity']</td>\n",
       "      <td>['nataliyaned']</td>\n",
       "      <td>None</td>\n",
       "      <td>None</td>\n",
       "    </tr>\n",
       "    <tr>\n",
       "      <td>1</td>\n",
       "      <td>2</td>\n",
       "      <td>1986-09-16</td>\n",
       "      <td>['https://www.nytimes.com/1986/09/16/science/s...</td>\n",
       "      <td>['open_letter']</td>\n",
       "      <td>['ethics']</td>\n",
       "      <td>['white_collar_workers']</td>\n",
       "      <td>Fourteen employees at AT&amp;T sign a letter warni...</td>\n",
       "      <td>None</td>\n",
       "      <td>['usa']</td>\n",
       "      <td>['at&amp;t']</td>\n",
       "      <td>14</td>\n",
       "      <td>None</td>\n",
       "      <td>['nataliyaned']</td>\n",
       "      <td>[(45.5733162, -122.5587111463347)]</td>\n",
       "      <td>['10025, Northeast Cascades Parkway, Portland,...</td>\n",
       "    </tr>\n",
       "    <tr>\n",
       "      <td>2</td>\n",
       "      <td>3</td>\n",
       "      <td>1986-09-16</td>\n",
       "      <td>['https://www.nytimes.com/1986/09/16/science/s...</td>\n",
       "      <td>['open_letter']</td>\n",
       "      <td>['ethics']</td>\n",
       "      <td>['white_collar_workers']</td>\n",
       "      <td>A group of computer professionals, led by Comp...</td>\n",
       "      <td>None</td>\n",
       "      <td>['usa']</td>\n",
       "      <td>None</td>\n",
       "      <td>30</td>\n",
       "      <td>None</td>\n",
       "      <td>['nataliyaned']</td>\n",
       "      <td>[(39.7837304, -100.4458825)]</td>\n",
       "      <td>['United States']</td>\n",
       "    </tr>\n",
       "    <tr>\n",
       "      <td>3</td>\n",
       "      <td>4</td>\n",
       "      <td>1994-01-24</td>\n",
       "      <td>['https://www.nytimes.com/1994/06/12/magazine/...</td>\n",
       "      <td>['open_letter']</td>\n",
       "      <td>['ethics']</td>\n",
       "      <td>['white_collar_workers']</td>\n",
       "      <td>Computer Professionals for Social Responsibili...</td>\n",
       "      <td>True</td>\n",
       "      <td>None</td>\n",
       "      <td>None</td>\n",
       "      <td>50000</td>\n",
       "      <td>None</td>\n",
       "      <td>['nataliyaned']</td>\n",
       "      <td>None</td>\n",
       "      <td>None</td>\n",
       "    </tr>\n",
       "    <tr>\n",
       "      <td>4</td>\n",
       "      <td>5</td>\n",
       "      <td>1998-11-23</td>\n",
       "      <td>['http://www.cnn.com/tech/computing/9811/23/ms...</td>\n",
       "      <td>['legal_action']</td>\n",
       "      <td>['unfair_labor_practices', 'pay_and_benefits']</td>\n",
       "      <td>['contract_workers']</td>\n",
       "      <td>A law firm representing 10 current and former ...</td>\n",
       "      <td>None</td>\n",
       "      <td>['usa']</td>\n",
       "      <td>['microsoft']</td>\n",
       "      <td>10</td>\n",
       "      <td>None</td>\n",
       "      <td>['organizejs']</td>\n",
       "      <td>[(35.139622349999996, -80.92306993327955)]</td>\n",
       "      <td>['Microsoft, Yorkwood, Charlotte, Mecklenburg ...</td>\n",
       "    </tr>\n",
       "  </tbody>\n",
       "</table>\n",
       "</div>"
      ],
      "text/plain": [
       "   id       date                                            sources  \\\n",
       "0   1 1979-09-01  ['https://twitter.com/clancynewyork/status/117...   \n",
       "1   2 1986-09-16  ['https://www.nytimes.com/1986/09/16/science/s...   \n",
       "2   3 1986-09-16  ['https://www.nytimes.com/1986/09/16/science/s...   \n",
       "3   4 1994-01-24  ['https://www.nytimes.com/1994/06/12/magazine/...   \n",
       "4   5 1998-11-23  ['http://www.cnn.com/tech/computing/9811/23/ms...   \n",
       "\n",
       "            actions                                       struggles  \\\n",
       "0       ['protest']                                      ['ethics']   \n",
       "1   ['open_letter']                                      ['ethics']   \n",
       "2   ['open_letter']                                      ['ethics']   \n",
       "3   ['open_letter']                                      ['ethics']   \n",
       "4  ['legal_action']  ['unfair_labor_practices', 'pay_and_benefits']   \n",
       "\n",
       "           employment_types  \\\n",
       "0  ['white_collar_workers']   \n",
       "1  ['white_collar_workers']   \n",
       "2  ['white_collar_workers']   \n",
       "3  ['white_collar_workers']   \n",
       "4      ['contract_workers']   \n",
       "\n",
       "                                         description online      locations  \\\n",
       "0  IBM workers formed an organization, IBM: Speak...   None  ['worldwide']   \n",
       "1  Fourteen employees at AT&T sign a letter warni...   None        ['usa']   \n",
       "2  A group of computer professionals, led by Comp...   None        ['usa']   \n",
       "3  Computer Professionals for Social Responsibili...   True           None   \n",
       "4  A law firm representing 10 current and former ...   None        ['usa']   \n",
       "\n",
       "       companies workers                          tags           author  \\\n",
       "0        ['ibm']    None  ['international_solidarity']  ['nataliyaned']   \n",
       "1       ['at&t']      14                          None  ['nataliyaned']   \n",
       "2           None      30                          None  ['nataliyaned']   \n",
       "3           None   50000                          None  ['nataliyaned']   \n",
       "4  ['microsoft']      10                          None   ['organizejs']   \n",
       "\n",
       "                                      latlngs  \\\n",
       "0                                        None   \n",
       "1          [(45.5733162, -122.5587111463347)]   \n",
       "2                [(39.7837304, -100.4458825)]   \n",
       "3                                        None   \n",
       "4  [(35.139622349999996, -80.92306993327955)]   \n",
       "\n",
       "                                           addresses  \n",
       "0                                               None  \n",
       "1  ['10025, Northeast Cascades Parkway, Portland,...  \n",
       "2                                  ['United States']  \n",
       "3                                               None  \n",
       "4  ['Microsoft, Yorkwood, Charlotte, Mecklenburg ...  "
      ]
     },
     "execution_count": 45,
     "metadata": {},
     "output_type": "execute_result"
    }
   ],
   "source": [
    "df = pd.read_csv(\"https://raw.githubusercontent.com/collective-action/tech/master/actions.csv\")\n",
    "df[\"date\"] = pd.to_datetime(df[\"date\"])  # cast date col to datetime64\n",
    "df.drop(\"Unnamed: 0\", axis = 1, inplace = True)\n",
    "df.head()"
   ]
  },
  {
   "cell_type": "markdown",
   "metadata": {},
   "source": [
    "# Clean Text"
   ]
  },
  {
   "cell_type": "code",
   "execution_count": 46,
   "metadata": {},
   "outputs": [],
   "source": [
    "df[\"struggles\"] = df[\"struggles\"].astype(str).str.strip(\"[]\\'\\'\")\n",
    "df[\"actions\"] = df[\"actions\"].astype(str).str.strip(\"[]\\'\\'\")\n",
    "df[\"companies\"] = df[\"companies\"].astype(str).str.strip(\"[]\\'\\'\")\n",
    "df[\"employment_types\"] = df[\"employment_types\"].astype(str).str.strip(\"[]\\'\\'\")\n",
    "df[\"sources\"] = df[\"sources\"].astype(str).str.strip(\"[]\\'\\'\")\n",
    "df[\"tags\"] = df[\"tags\"].astype(str).str.strip(\"[]\\'\\'\")\n",
    "df[\"locations\"] = df[\"locations\"].astype(str).str.strip(\"[]\\'\\'\")\n",
    "\n",
    "df[\"struggles\"] = df[\"struggles\"].astype(str).str.replace(\"'\", \"\")\n",
    "df[\"actions\"] = df[\"actions\"].astype(str).str.replace(\"'\", \"\")\n",
    "df[\"companies\"] = df[\"companies\"].astype(str).str.replace(\"'\", \"\")\n",
    "df[\"employment_types\"] = df[\"employment_types\"].astype(str).str.replace(\"'\", \"\")\n",
    "df[\"sources\"] = df[\"sources\"].astype(str).str.replace(\"'\", \"\")\n",
    "df[\"tags\"] = df[\"tags\"].astype(str).str.replace(\"'\", \"\")\n",
    "df[\"locations\"] = df[\"locations\"].astype(str).str.replace(\"'\", \"\")\n",
    "\n",
    "df[\"struggles\"] = df[\"struggles\"].astype(str).str.replace(\" \", \"\")\n",
    "df[\"actions\"] = df[\"actions\"].astype(str).str.replace(\" \", \"\")\n",
    "df[\"companies\"] = df[\"companies\"].astype(str).str.replace(\" \", \"\")\n",
    "df[\"employment_types\"] = df[\"employment_types\"].astype(str).str.replace(\" \", \"\")\n",
    "df[\"sources\"] = df[\"sources\"].astype(str).str.replace(\" \", \"\")\n",
    "df[\"tags\"] = df[\"tags\"].astype(str).str.replace(\" \", \"\")\n",
    "df[\"locations\"] = df[\"locations\"].astype(str).str.replace(\" \", \"\")"
   ]
  },
  {
   "cell_type": "code",
   "execution_count": 47,
   "metadata": {},
   "outputs": [
    {
     "data": {
      "text/html": [
       "<div>\n",
       "<style scoped>\n",
       "    .dataframe tbody tr th:only-of-type {\n",
       "        vertical-align: middle;\n",
       "    }\n",
       "\n",
       "    .dataframe tbody tr th {\n",
       "        vertical-align: top;\n",
       "    }\n",
       "\n",
       "    .dataframe thead th {\n",
       "        text-align: right;\n",
       "    }\n",
       "</style>\n",
       "<table border=\"1\" class=\"dataframe\">\n",
       "  <thead>\n",
       "    <tr style=\"text-align: right;\">\n",
       "      <th></th>\n",
       "      <th>id</th>\n",
       "      <th>date</th>\n",
       "      <th>sources</th>\n",
       "      <th>actions</th>\n",
       "      <th>struggles</th>\n",
       "      <th>employment_types</th>\n",
       "      <th>description</th>\n",
       "      <th>online</th>\n",
       "      <th>locations</th>\n",
       "      <th>companies</th>\n",
       "      <th>workers</th>\n",
       "      <th>tags</th>\n",
       "      <th>author</th>\n",
       "      <th>latlngs</th>\n",
       "      <th>addresses</th>\n",
       "    </tr>\n",
       "  </thead>\n",
       "  <tbody>\n",
       "    <tr>\n",
       "      <td>0</td>\n",
       "      <td>1</td>\n",
       "      <td>1979-09-01</td>\n",
       "      <td>https://twitter.com/clancynewyork/status/11758...</td>\n",
       "      <td>protest</td>\n",
       "      <td>ethics</td>\n",
       "      <td>white_collar_workers</td>\n",
       "      <td>IBM workers formed an organization, IBM: Speak...</td>\n",
       "      <td>None</td>\n",
       "      <td>worldwide</td>\n",
       "      <td>ibm</td>\n",
       "      <td>None</td>\n",
       "      <td>international_solidarity</td>\n",
       "      <td>['nataliyaned']</td>\n",
       "      <td>None</td>\n",
       "      <td>None</td>\n",
       "    </tr>\n",
       "    <tr>\n",
       "      <td>1</td>\n",
       "      <td>2</td>\n",
       "      <td>1986-09-16</td>\n",
       "      <td>https://www.nytimes.com/1986/09/16/science/sof...</td>\n",
       "      <td>open_letter</td>\n",
       "      <td>ethics</td>\n",
       "      <td>white_collar_workers</td>\n",
       "      <td>Fourteen employees at AT&amp;T sign a letter warni...</td>\n",
       "      <td>None</td>\n",
       "      <td>usa</td>\n",
       "      <td>at&amp;t</td>\n",
       "      <td>14</td>\n",
       "      <td>None</td>\n",
       "      <td>['nataliyaned']</td>\n",
       "      <td>[(45.5733162, -122.5587111463347)]</td>\n",
       "      <td>['10025, Northeast Cascades Parkway, Portland,...</td>\n",
       "    </tr>\n",
       "    <tr>\n",
       "      <td>2</td>\n",
       "      <td>3</td>\n",
       "      <td>1986-09-16</td>\n",
       "      <td>https://www.nytimes.com/1986/09/16/science/sof...</td>\n",
       "      <td>open_letter</td>\n",
       "      <td>ethics</td>\n",
       "      <td>white_collar_workers</td>\n",
       "      <td>A group of computer professionals, led by Comp...</td>\n",
       "      <td>None</td>\n",
       "      <td>usa</td>\n",
       "      <td>None</td>\n",
       "      <td>30</td>\n",
       "      <td>None</td>\n",
       "      <td>['nataliyaned']</td>\n",
       "      <td>[(39.7837304, -100.4458825)]</td>\n",
       "      <td>['United States']</td>\n",
       "    </tr>\n",
       "    <tr>\n",
       "      <td>3</td>\n",
       "      <td>4</td>\n",
       "      <td>1994-01-24</td>\n",
       "      <td>https://www.nytimes.com/1994/06/12/magazine/ba...</td>\n",
       "      <td>open_letter</td>\n",
       "      <td>ethics</td>\n",
       "      <td>white_collar_workers</td>\n",
       "      <td>Computer Professionals for Social Responsibili...</td>\n",
       "      <td>True</td>\n",
       "      <td>None</td>\n",
       "      <td>None</td>\n",
       "      <td>50000</td>\n",
       "      <td>None</td>\n",
       "      <td>['nataliyaned']</td>\n",
       "      <td>None</td>\n",
       "      <td>None</td>\n",
       "    </tr>\n",
       "    <tr>\n",
       "      <td>4</td>\n",
       "      <td>5</td>\n",
       "      <td>1998-11-23</td>\n",
       "      <td>http://www.cnn.com/tech/computing/9811/23/mste...</td>\n",
       "      <td>legal_action</td>\n",
       "      <td>unfair_labor_practices,pay_and_benefits</td>\n",
       "      <td>contract_workers</td>\n",
       "      <td>A law firm representing 10 current and former ...</td>\n",
       "      <td>None</td>\n",
       "      <td>usa</td>\n",
       "      <td>microsoft</td>\n",
       "      <td>10</td>\n",
       "      <td>None</td>\n",
       "      <td>['organizejs']</td>\n",
       "      <td>[(35.139622349999996, -80.92306993327955)]</td>\n",
       "      <td>['Microsoft, Yorkwood, Charlotte, Mecklenburg ...</td>\n",
       "    </tr>\n",
       "  </tbody>\n",
       "</table>\n",
       "</div>"
      ],
      "text/plain": [
       "   id       date                                            sources  \\\n",
       "0   1 1979-09-01  https://twitter.com/clancynewyork/status/11758...   \n",
       "1   2 1986-09-16  https://www.nytimes.com/1986/09/16/science/sof...   \n",
       "2   3 1986-09-16  https://www.nytimes.com/1986/09/16/science/sof...   \n",
       "3   4 1994-01-24  https://www.nytimes.com/1994/06/12/magazine/ba...   \n",
       "4   5 1998-11-23  http://www.cnn.com/tech/computing/9811/23/mste...   \n",
       "\n",
       "        actions                                struggles  \\\n",
       "0       protest                                   ethics   \n",
       "1   open_letter                                   ethics   \n",
       "2   open_letter                                   ethics   \n",
       "3   open_letter                                   ethics   \n",
       "4  legal_action  unfair_labor_practices,pay_and_benefits   \n",
       "\n",
       "       employment_types                                        description  \\\n",
       "0  white_collar_workers  IBM workers formed an organization, IBM: Speak...   \n",
       "1  white_collar_workers  Fourteen employees at AT&T sign a letter warni...   \n",
       "2  white_collar_workers  A group of computer professionals, led by Comp...   \n",
       "3  white_collar_workers  Computer Professionals for Social Responsibili...   \n",
       "4      contract_workers  A law firm representing 10 current and former ...   \n",
       "\n",
       "  online  locations  companies workers                      tags  \\\n",
       "0   None  worldwide        ibm    None  international_solidarity   \n",
       "1   None        usa       at&t      14                      None   \n",
       "2   None        usa       None      30                      None   \n",
       "3   True       None       None   50000                      None   \n",
       "4   None        usa  microsoft      10                      None   \n",
       "\n",
       "            author                                     latlngs  \\\n",
       "0  ['nataliyaned']                                        None   \n",
       "1  ['nataliyaned']          [(45.5733162, -122.5587111463347)]   \n",
       "2  ['nataliyaned']                [(39.7837304, -100.4458825)]   \n",
       "3  ['nataliyaned']                                        None   \n",
       "4   ['organizejs']  [(35.139622349999996, -80.92306993327955)]   \n",
       "\n",
       "                                           addresses  \n",
       "0                                               None  \n",
       "1  ['10025, Northeast Cascades Parkway, Portland,...  \n",
       "2                                  ['United States']  \n",
       "3                                               None  \n",
       "4  ['Microsoft, Yorkwood, Charlotte, Mecklenburg ...  "
      ]
     },
     "execution_count": 47,
     "metadata": {},
     "output_type": "execute_result"
    }
   ],
   "source": [
    "df.head()"
   ]
  },
  {
   "cell_type": "markdown",
   "metadata": {},
   "source": [
    "# Visualizations"
   ]
  },
  {
   "cell_type": "code",
   "execution_count": 75,
   "metadata": {},
   "outputs": [],
   "source": [
    "def vizcolumn(df, col, limit = None):\n",
    "    lst = []\n",
    "    for i in df[col].unique():\n",
    "        lst.extend(i.split(\",\"))\n",
    "        \n",
    "    lst = list(set(lst))\n",
    "        \n",
    "    count = []\n",
    "    for i in lst:\n",
    "        count.append(sum(df[col].str.contains(i)))\n",
    "        \n",
    "    if limit:\n",
    "        sorted_list = sorted(zip(lst, count), key = lambda x: x[1], reverse = True)\n",
    "        sorted_list = sorted_list[:limit]\n",
    "        \n",
    "        lst, count = [], []\n",
    "        for i, j in sorted_list:\n",
    "            lst.append(i)\n",
    "            count.append(j)\n",
    "        \n",
    "    col_df = pd.DataFrame({col: lst, \"count\": count})\n",
    "    \n",
    "    col_df.plot(kind = \"barh\", x = col, y = \"count\", title = \"Number of Occurrence by \" + col)\n",
    "    plt.show()"
   ]
  },
  {
   "cell_type": "markdown",
   "metadata": {},
   "source": [
    "## Actions"
   ]
  },
  {
   "cell_type": "code",
   "execution_count": 69,
   "metadata": {},
   "outputs": [
    {
     "data": {
      "image/png": "[encoded data removed]",
      "text/plain": [
       "<Figure size 432x288 with 1 Axes>"
      ]
     },
     "metadata": {
      "needs_background": "light"
     },
     "output_type": "display_data"
    }
   ],
   "source": [
    "vizcolumn(df, \"actions\")"
   ]
  },
  {
   "cell_type": "code",
   "execution_count": 7,
   "metadata": {},
   "outputs": [
    {
     "data": {
      "text/plain": [
       "actions\n",
       "['legal_action', 'protest']                 1\n",
       "['legal_action']                           17\n",
       "['open_letter', 'legal_action']             1\n",
       "['open_letter', 'protest']                  2\n",
       "['open_letter', 'strike']                   4\n",
       "['open_letter']                            65\n",
       "['protest', 'open_letter']                  4\n",
       "['protest', 'strike']                       2\n",
       "['protest']                                90\n",
       "['strike', 'open_letter']                   1\n",
       "['strike', 'protest']                       5\n",
       "['strike', 'union_drive']                   1\n",
       "['strike']                                 45\n",
       "['union_drive']                            14\n",
       "['union_representation', 'union_drive']     1\n",
       "['union_representation']                   22\n",
       "Name: id, dtype: int64"
      ]
     },
     "execution_count": 7,
     "metadata": {},
     "output_type": "execute_result"
    }
   ],
   "source": [
    "df.groupby(\"actions\").count()[\"id\"]"
   ]
  },
  {
   "cell_type": "code",
   "execution_count": 52,
   "metadata": {},
   "outputs": [
    {
     "data": {
      "text/html": [
       "<div>\n",
       "<style scoped>\n",
       "    .dataframe tbody tr th:only-of-type {\n",
       "        vertical-align: middle;\n",
       "    }\n",
       "\n",
       "    .dataframe tbody tr th {\n",
       "        vertical-align: top;\n",
       "    }\n",
       "\n",
       "    .dataframe thead th {\n",
       "        text-align: right;\n",
       "    }\n",
       "</style>\n",
       "<table border=\"1\" class=\"dataframe\">\n",
       "  <thead>\n",
       "    <tr style=\"text-align: right;\">\n",
       "      <th></th>\n",
       "      <th>Actions</th>\n",
       "      <th>Count</th>\n",
       "    </tr>\n",
       "  </thead>\n",
       "  <tbody>\n",
       "    <tr>\n",
       "      <td>0</td>\n",
       "      <td>protest</td>\n",
       "      <td>104</td>\n",
       "    </tr>\n",
       "    <tr>\n",
       "      <td>1</td>\n",
       "      <td>open_letter</td>\n",
       "      <td>80</td>\n",
       "    </tr>\n",
       "    <tr>\n",
       "      <td>2</td>\n",
       "      <td>legal_action</td>\n",
       "      <td>20</td>\n",
       "    </tr>\n",
       "    <tr>\n",
       "      <td>3</td>\n",
       "      <td>union_drive</td>\n",
       "      <td>16</td>\n",
       "    </tr>\n",
       "    <tr>\n",
       "      <td>4</td>\n",
       "      <td>union_representation</td>\n",
       "      <td>24</td>\n",
       "    </tr>\n",
       "  </tbody>\n",
       "</table>\n",
       "</div>"
      ],
      "text/plain": [
       "                Actions  Count\n",
       "0               protest    104\n",
       "1           open_letter     80\n",
       "2          legal_action     20\n",
       "3           union_drive     16\n",
       "4  union_representation     24"
      ]
     },
     "execution_count": 52,
     "metadata": {},
     "output_type": "execute_result"
    }
   ],
   "source": [
    "actions_df = pd.DataFrame({\"Actions\": actions, \"Count\": actions_count})\n",
    "actions_df.head()"
   ]
  },
  {
   "cell_type": "markdown",
   "metadata": {},
   "source": [
    "## Employment Types"
   ]
  },
  {
   "cell_type": "code",
   "execution_count": 26,
   "metadata": {},
   "outputs": [
    {
     "data": {
      "text/plain": [
       "employment_types\n",
       "['blue_collar_workers', 'contract_workers']                    7\n",
       "['blue_collar_workers', 'gig_workers']                         2\n",
       "['blue_collar_workers', 'in_house_workers']                    9\n",
       "['blue_collar_workers', 'white_collar_workers']                1\n",
       "['blue_collar_workers']                                       37\n",
       "['contract_workers', 'blue_collar_workers']                    5\n",
       "['contract_workers', 'gig_workers']                            4\n",
       "['contract_workers', 'white_collar_workers']                   1\n",
       "['contract_workers']                                          12\n",
       "['gig_workers', 'blue_collar_workers']                         1\n",
       "['gig_workers']                                               60\n",
       "['in_house_workers', 'blue_collar_workers', 'gig_workers']     1\n",
       "['in_house_workers', 'blue_collar_workers']                    8\n",
       "['in_house_workers']                                           2\n",
       "['na']                                                        30\n",
       "['white_collar_workers', 'blue_collar_workers']                2\n",
       "['white_collar_workers', 'contract_workers']                   2\n",
       "['white_collar_workers', 'in_house_workers']                   8\n",
       "['white_collar_workers']                                      83\n",
       "Name: id, dtype: int64"
      ]
     },
     "execution_count": 26,
     "metadata": {},
     "output_type": "execute_result"
    }
   ],
   "source": [
    "df.groupby([\"employment_types\"]).count()[\"id\"]"
   ]
  },
  {
   "cell_type": "code",
   "execution_count": 28,
   "metadata": {},
   "outputs": [
    {
     "data": {
      "image/png": "[encoded data removed]",
      "text/plain": [
       "<Figure size 432x288 with 1 Axes>"
      ]
     },
     "metadata": {
      "needs_background": "light"
     },
     "output_type": "display_data"
    }
   ],
   "source": [
    "workers = ['blue_collar_workers', 'contract_workers', 'gig_workers', 'in_house_workers', 'na', 'white_collar_workers']\n",
    "\n",
    "workers_count = []\n",
    "for w in workers:\n",
    "    workers_count.append(sum(df[\"employment_types\"].str.contains(w)))\n",
    "    \n",
    "workers_df = pd.DataFrame({\"Employment Type\": workers, \"Count\": workers_count})\n",
    "\n",
    "workers_df.plot(kind = \"barh\", x = \"Employment Type\", y = \"Count\", title = \"Collective Actions by Employment Type\")\n",
    "plt.show()"
   ]
  },
  {
   "cell_type": "code",
   "execution_count": 62,
   "metadata": {},
   "outputs": [
    {
     "data": {
      "image/png": "[encoded data removed]",
      "text/plain": [
       "<Figure size 432x288 with 1 Axes>"
      ]
     },
     "metadata": {
      "needs_background": "light"
     },
     "output_type": "display_data"
    }
   ],
   "source": [
    "vizcolumn(df, \"employment_types\")"
   ]
  },
  {
   "cell_type": "markdown",
   "metadata": {},
   "source": [
    "## Struggles"
   ]
  },
  {
   "cell_type": "code",
   "execution_count": 34,
   "metadata": {},
   "outputs": [
    {
     "data": {
      "text/plain": [
       "Index(['['discrimination', 'ethics']',\n",
       "       '['discrimination', 'pay_and_benefits']', '['discrimination']',\n",
       "       '['ethics', 'discrimination']',\n",
       "       '['ethics', 'working conditions', 'unfair_labor_practices']',\n",
       "       '['ethics', 'working conditions']', '['ethics']',\n",
       "       '['job_security', 'discrimination']',\n",
       "       '['job_security', 'pay_and_benefits']',\n",
       "       '['job_security', 'working conditions', 'pay_and_benefits']',\n",
       "       '['job_security']', '['na']', '['pay_and_benefits', 'discrimination']',\n",
       "       '['pay_and_benefits', 'job_security']',\n",
       "       '['pay_and_benefits', 'unfair_labor_practices']',\n",
       "       '['pay_and_benefits', 'working conditions', 'unfair_labor_practices']',\n",
       "       '['pay_and_benefits', 'working conditions']', '['pay_and_benefits']',\n",
       "       '['unfair_labor_practices', 'job_security']',\n",
       "       '['unfair_labor_practices', 'pay_and_benefits']',\n",
       "       '['unfair_labor_practices']',\n",
       "       '['working conditions', 'discrimination']',\n",
       "       '['working conditions', 'job_security']',\n",
       "       '['working conditions', 'pay_and_benefits']',\n",
       "       '['working conditions', 'unfair_labor_practices']',\n",
       "       '['working conditions']'],\n",
       "      dtype='object', name='struggles')"
      ]
     },
     "execution_count": 34,
     "metadata": {},
     "output_type": "execute_result"
    }
   ],
   "source": [
    "df.groupby([\"struggles\"]).count()[\"id\"].index"
   ]
  },
  {
   "cell_type": "code",
   "execution_count": 35,
   "metadata": {},
   "outputs": [
    {
     "data": {
      "image/png": "[encoded data removed]",
      "text/plain": [
       "<Figure size 432x288 with 1 Axes>"
      ]
     },
     "metadata": {
      "needs_background": "light"
     },
     "output_type": "display_data"
    }
   ],
   "source": [
    "struggles = ['discrimination', 'ethics', 'job_security', 'pay_and_benefits', \n",
    "             'unfair_labor_practices', 'working conditions']\n",
    "\n",
    "struggles_count = []\n",
    "for s in struggles:\n",
    "    struggles_count.append(sum(df[\"struggles\"].str.contains(s)))\n",
    "    \n",
    "struggles_df = pd.DataFrame({\"Struggles\": struggles, \"Count\": struggles_count})\n",
    "\n",
    "struggles_df.plot(kind = \"barh\", x = \"Struggles\", y = \"Count\", title = \"Number of Occurences by Struggles\")\n",
    "plt.show()"
   ]
  },
  {
   "cell_type": "code",
   "execution_count": 63,
   "metadata": {},
   "outputs": [
    {
     "data": {
      "image/png": "[encoded data removed]",
      "text/plain": [
       "<Figure size 432x288 with 1 Axes>"
      ]
     },
     "metadata": {
      "needs_background": "light"
     },
     "output_type": "display_data"
    }
   ],
   "source": [
    "vizcolumn(df, \"struggles\")"
   ]
  },
  {
   "cell_type": "markdown",
   "metadata": {},
   "source": [
    "## Workers"
   ]
  },
  {
   "cell_type": "code",
   "execution_count": 77,
   "metadata": {},
   "outputs": [
    {
     "data": {
      "image/png": "[encoded data removed]",
      "text/plain": [
       "<Figure size 1440x432 with 1 Axes>"
      ]
     },
     "metadata": {
      "needs_background": "light"
     },
     "output_type": "display_data"
    }
   ],
   "source": [
    "plt.figure(figsize = (20, 6))\n",
    "workers_as_int = [int(i) for i in df[~(df[\"workers\"] == \"None\")][\"workers\"].values]\n",
    "plt.hist(workers_as_int)\n",
    "plt.show()"
   ]
  },
  {
   "cell_type": "markdown",
   "metadata": {},
   "source": [
    "## Companies"
   ]
  },
  {
   "cell_type": "code",
   "execution_count": 76,
   "metadata": {},
   "outputs": [
    {
     "data": {
      "image/png": "[encoded data removed]",
      "text/plain": [
       "<Figure size 432x288 with 1 Axes>"
      ]
     },
     "metadata": {
      "needs_background": "light"
     },
     "output_type": "display_data"
    }
   ],
   "source": [
    "vizcolumn(df, \"companies\", limit = 10)"
   ]
  },
  {
   "cell_type": "markdown",
   "metadata": {},
   "source": [
    "## Tags"
   ]
  },
  {
   "cell_type": "code",
   "execution_count": 78,
   "metadata": {},
   "outputs": [
    {
     "data": {
      "image/png": "[encoded data removed]",
      "text/plain": [
       "<Figure size 432x288 with 1 Axes>"
      ]
     },
     "metadata": {
      "needs_background": "light"
     },
     "output_type": "display_data"
    }
   ],
   "source": [
    "vizcolumn(df, \"tags\", limit = 20)"
   ]
  },
  {
   "cell_type": "markdown",
   "metadata": {},
   "source": [
    "## Locations"
   ]
  },
  {
   "cell_type": "code",
   "execution_count": 81,
   "metadata": {},
   "outputs": [
    {
     "data": {
      "image/png": "[encoded data removed]",
      "text/plain": [
       "<Figure size 432x288 with 1 Axes>"
      ]
     },
     "metadata": {
      "needs_background": "light"
     },
     "output_type": "display_data"
    }
   ],
   "source": [
    "vizcolumn(df, \"locations\", limit = 20)"
   ]
  },
  {
   "cell_type": "markdown",
   "metadata": {},
   "source": [
    "## Addresses"
   ]
  },
  {
   "cell_type": "code",
   "execution_count": 84,
   "metadata": {},
   "outputs": [
    {
     "data": {
      "text/html": [
       "<div>\n",
       "<style scoped>\n",
       "    .dataframe tbody tr th:only-of-type {\n",
       "        vertical-align: middle;\n",
       "    }\n",
       "\n",
       "    .dataframe tbody tr th {\n",
       "        vertical-align: top;\n",
       "    }\n",
       "\n",
       "    .dataframe thead th {\n",
       "        text-align: right;\n",
       "    }\n",
       "</style>\n",
       "<table border=\"1\" class=\"dataframe\">\n",
       "  <thead>\n",
       "    <tr style=\"text-align: right;\">\n",
       "      <th></th>\n",
       "      <th>id</th>\n",
       "      <th>date</th>\n",
       "      <th>sources</th>\n",
       "      <th>actions</th>\n",
       "      <th>struggles</th>\n",
       "      <th>employment_types</th>\n",
       "      <th>description</th>\n",
       "      <th>online</th>\n",
       "      <th>locations</th>\n",
       "      <th>companies</th>\n",
       "      <th>workers</th>\n",
       "      <th>tags</th>\n",
       "      <th>author</th>\n",
       "      <th>latlngs</th>\n",
       "    </tr>\n",
       "    <tr>\n",
       "      <th>addresses</th>\n",
       "      <th></th>\n",
       "      <th></th>\n",
       "      <th></th>\n",
       "      <th></th>\n",
       "      <th></th>\n",
       "      <th></th>\n",
       "      <th></th>\n",
       "      <th></th>\n",
       "      <th></th>\n",
       "      <th></th>\n",
       "      <th></th>\n",
       "      <th></th>\n",
       "      <th></th>\n",
       "      <th></th>\n",
       "    </tr>\n",
       "  </thead>\n",
       "  <tbody>\n",
       "    <tr>\n",
       "      <td>None</td>\n",
       "      <td>89</td>\n",
       "      <td>89</td>\n",
       "      <td>89</td>\n",
       "      <td>89</td>\n",
       "      <td>89</td>\n",
       "      <td>89</td>\n",
       "      <td>89</td>\n",
       "      <td>89</td>\n",
       "      <td>89</td>\n",
       "      <td>89</td>\n",
       "      <td>89</td>\n",
       "      <td>89</td>\n",
       "      <td>89</td>\n",
       "      <td>89</td>\n",
       "    </tr>\n",
       "    <tr>\n",
       "      <td>[\"Amazon.fr ORY1, Rue de l'Olivier, Deret Logistique, Saran, Orléans, Loiret, Centre-Val de Loire, France métropolitaine, 45770, France\", 'Amazon, Rue de Charenton, Quartier de Bercy, Paris, Île-de-France, France métropolitaine, 75012, France']</td>\n",
       "      <td>1</td>\n",
       "      <td>1</td>\n",
       "      <td>1</td>\n",
       "      <td>1</td>\n",
       "      <td>1</td>\n",
       "      <td>1</td>\n",
       "      <td>1</td>\n",
       "      <td>1</td>\n",
       "      <td>1</td>\n",
       "      <td>1</td>\n",
       "      <td>1</td>\n",
       "      <td>1</td>\n",
       "      <td>1</td>\n",
       "      <td>1</td>\n",
       "    </tr>\n",
       "    <tr>\n",
       "      <td>[\"Amazon.fr ORY1, Rue de l'Olivier, Deret Logistique, Saran, Orléans, Loiret, Centre-Val de Loire, France métropolitaine, 45770, France\"]</td>\n",
       "      <td>1</td>\n",
       "      <td>1</td>\n",
       "      <td>1</td>\n",
       "      <td>1</td>\n",
       "      <td>1</td>\n",
       "      <td>1</td>\n",
       "      <td>1</td>\n",
       "      <td>1</td>\n",
       "      <td>1</td>\n",
       "      <td>1</td>\n",
       "      <td>1</td>\n",
       "      <td>1</td>\n",
       "      <td>1</td>\n",
       "      <td>1</td>\n",
       "    </tr>\n",
       "    <tr>\n",
       "      <td>['1, 东长安街, 北京市, 东城区, 北京市, 100010, China 中国']</td>\n",
       "      <td>1</td>\n",
       "      <td>1</td>\n",
       "      <td>1</td>\n",
       "      <td>1</td>\n",
       "      <td>1</td>\n",
       "      <td>1</td>\n",
       "      <td>1</td>\n",
       "      <td>1</td>\n",
       "      <td>1</td>\n",
       "      <td>1</td>\n",
       "      <td>1</td>\n",
       "      <td>1</td>\n",
       "      <td>1</td>\n",
       "      <td>1</td>\n",
       "    </tr>\n",
       "    <tr>\n",
       "      <td>['10025, Northeast Cascades Parkway, Portland, Multnomah County, Oregon, 97220, United States of America']</td>\n",
       "      <td>1</td>\n",
       "      <td>1</td>\n",
       "      <td>1</td>\n",
       "      <td>1</td>\n",
       "      <td>1</td>\n",
       "      <td>1</td>\n",
       "      <td>1</td>\n",
       "      <td>1</td>\n",
       "      <td>1</td>\n",
       "      <td>1</td>\n",
       "      <td>1</td>\n",
       "      <td>1</td>\n",
       "      <td>1</td>\n",
       "      <td>1</td>\n",
       "    </tr>\n",
       "    <tr>\n",
       "      <td>...</td>\n",
       "      <td>...</td>\n",
       "      <td>...</td>\n",
       "      <td>...</td>\n",
       "      <td>...</td>\n",
       "      <td>...</td>\n",
       "      <td>...</td>\n",
       "      <td>...</td>\n",
       "      <td>...</td>\n",
       "      <td>...</td>\n",
       "      <td>...</td>\n",
       "      <td>...</td>\n",
       "      <td>...</td>\n",
       "      <td>...</td>\n",
       "      <td>...</td>\n",
       "    </tr>\n",
       "    <tr>\n",
       "      <td>['华三通信, 长河街道, 杭州市, 浙江省, China 中国']</td>\n",
       "      <td>1</td>\n",
       "      <td>1</td>\n",
       "      <td>1</td>\n",
       "      <td>1</td>\n",
       "      <td>1</td>\n",
       "      <td>1</td>\n",
       "      <td>1</td>\n",
       "      <td>1</td>\n",
       "      <td>1</td>\n",
       "      <td>1</td>\n",
       "      <td>1</td>\n",
       "      <td>1</td>\n",
       "      <td>1</td>\n",
       "      <td>1</td>\n",
       "    </tr>\n",
       "    <tr>\n",
       "      <td>['华为技术有限公司, 龙岗区, 深圳市, 广东省, 518100, China 中国']</td>\n",
       "      <td>1</td>\n",
       "      <td>1</td>\n",
       "      <td>1</td>\n",
       "      <td>1</td>\n",
       "      <td>1</td>\n",
       "      <td>1</td>\n",
       "      <td>1</td>\n",
       "      <td>1</td>\n",
       "      <td>1</td>\n",
       "      <td>1</td>\n",
       "      <td>1</td>\n",
       "      <td>1</td>\n",
       "      <td>1</td>\n",
       "      <td>1</td>\n",
       "    </tr>\n",
       "    <tr>\n",
       "      <td>['甲骨文大厦, 软件园三号路, 中关村软件园, 东北旺村, 海淀区, 北京市, 100093, China 中国']</td>\n",
       "      <td>1</td>\n",
       "      <td>1</td>\n",
       "      <td>1</td>\n",
       "      <td>1</td>\n",
       "      <td>1</td>\n",
       "      <td>1</td>\n",
       "      <td>1</td>\n",
       "      <td>1</td>\n",
       "      <td>1</td>\n",
       "      <td>1</td>\n",
       "      <td>1</td>\n",
       "      <td>1</td>\n",
       "      <td>1</td>\n",
       "      <td>1</td>\n",
       "    </tr>\n",
       "    <tr>\n",
       "      <td>['联想研发中心, 高新南一道, 大冲, 粤海街道, 深圳市, 广东省, 518057, China 中国']</td>\n",
       "      <td>1</td>\n",
       "      <td>1</td>\n",
       "      <td>1</td>\n",
       "      <td>1</td>\n",
       "      <td>1</td>\n",
       "      <td>1</td>\n",
       "      <td>1</td>\n",
       "      <td>1</td>\n",
       "      <td>1</td>\n",
       "      <td>1</td>\n",
       "      <td>1</td>\n",
       "      <td>1</td>\n",
       "      <td>1</td>\n",
       "      <td>1</td>\n",
       "    </tr>\n",
       "    <tr>\n",
       "      <td>['臺北市, 信義區, 臺北市, 11008, Taiwan']</td>\n",
       "      <td>1</td>\n",
       "      <td>1</td>\n",
       "      <td>1</td>\n",
       "      <td>1</td>\n",
       "      <td>1</td>\n",
       "      <td>1</td>\n",
       "      <td>1</td>\n",
       "      <td>1</td>\n",
       "      <td>1</td>\n",
       "      <td>1</td>\n",
       "      <td>1</td>\n",
       "      <td>1</td>\n",
       "      <td>1</td>\n",
       "      <td>1</td>\n",
       "    </tr>\n",
       "  </tbody>\n",
       "</table>\n",
       "<p>108 rows × 14 columns</p>\n",
       "</div>"
      ],
      "text/plain": [
       "                                                    id  date  sources  \\\n",
       "addresses                                                               \n",
       "None                                                89    89       89   \n",
       "[\"Amazon.fr ORY1, Rue de l'Olivier, Deret Logis...   1     1        1   \n",
       "[\"Amazon.fr ORY1, Rue de l'Olivier, Deret Logis...   1     1        1   \n",
       "['1, 东长安街, 北京市, 东城区, 北京市, 100010, China 中国']         1     1        1   \n",
       "['10025, Northeast Cascades Parkway, Portland, ...   1     1        1   \n",
       "...                                                 ..   ...      ...   \n",
       "['华三通信, 长河街道, 杭州市, 浙江省, China 中国']                   1     1        1   \n",
       "['华为技术有限公司, 龙岗区, 深圳市, 广东省, 518100, China 中国']        1     1        1   \n",
       "['甲骨文大厦, 软件园三号路, 中关村软件园, 东北旺村, 海淀区, 北京市, 100093...   1     1        1   \n",
       "['联想研发中心, 高新南一道, 大冲, 粤海街道, 深圳市, 广东省, 518057, Ch...   1     1        1   \n",
       "['臺北市, 信義區, 臺北市, 11008, Taiwan']                     1     1        1   \n",
       "\n",
       "                                                    actions  struggles  \\\n",
       "addresses                                                                \n",
       "None                                                     89         89   \n",
       "[\"Amazon.fr ORY1, Rue de l'Olivier, Deret Logis...        1          1   \n",
       "[\"Amazon.fr ORY1, Rue de l'Olivier, Deret Logis...        1          1   \n",
       "['1, 东长安街, 北京市, 东城区, 北京市, 100010, China 中国']              1          1   \n",
       "['10025, Northeast Cascades Parkway, Portland, ...        1          1   \n",
       "...                                                     ...        ...   \n",
       "['华三通信, 长河街道, 杭州市, 浙江省, China 中国']                        1          1   \n",
       "['华为技术有限公司, 龙岗区, 深圳市, 广东省, 518100, China 中国']             1          1   \n",
       "['甲骨文大厦, 软件园三号路, 中关村软件园, 东北旺村, 海淀区, 北京市, 100093...        1          1   \n",
       "['联想研发中心, 高新南一道, 大冲, 粤海街道, 深圳市, 广东省, 518057, Ch...        1          1   \n",
       "['臺北市, 信義區, 臺北市, 11008, Taiwan']                          1          1   \n",
       "\n",
       "                                                    employment_types  \\\n",
       "addresses                                                              \n",
       "None                                                              89   \n",
       "[\"Amazon.fr ORY1, Rue de l'Olivier, Deret Logis...                 1   \n",
       "[\"Amazon.fr ORY1, Rue de l'Olivier, Deret Logis...                 1   \n",
       "['1, 东长安街, 北京市, 东城区, 北京市, 100010, China 中国']                       1   \n",
       "['10025, Northeast Cascades Parkway, Portland, ...                 1   \n",
       "...                                                              ...   \n",
       "['华三通信, 长河街道, 杭州市, 浙江省, China 中国']                                 1   \n",
       "['华为技术有限公司, 龙岗区, 深圳市, 广东省, 518100, China 中国']                      1   \n",
       "['甲骨文大厦, 软件园三号路, 中关村软件园, 东北旺村, 海淀区, 北京市, 100093...                 1   \n",
       "['联想研发中心, 高新南一道, 大冲, 粤海街道, 深圳市, 广东省, 518057, Ch...                 1   \n",
       "['臺北市, 信義區, 臺北市, 11008, Taiwan']                                   1   \n",
       "\n",
       "                                                    description  online  \\\n",
       "addresses                                                                 \n",
       "None                                                         89      89   \n",
       "[\"Amazon.fr ORY1, Rue de l'Olivier, Deret Logis...            1       1   \n",
       "[\"Amazon.fr ORY1, Rue de l'Olivier, Deret Logis...            1       1   \n",
       "['1, 东长安街, 北京市, 东城区, 北京市, 100010, China 中国']                  1       1   \n",
       "['10025, Northeast Cascades Parkway, Portland, ...            1       1   \n",
       "...                                                         ...     ...   \n",
       "['华三通信, 长河街道, 杭州市, 浙江省, China 中国']                            1       1   \n",
       "['华为技术有限公司, 龙岗区, 深圳市, 广东省, 518100, China 中国']                 1       1   \n",
       "['甲骨文大厦, 软件园三号路, 中关村软件园, 东北旺村, 海淀区, 北京市, 100093...            1       1   \n",
       "['联想研发中心, 高新南一道, 大冲, 粤海街道, 深圳市, 广东省, 518057, Ch...            1       1   \n",
       "['臺北市, 信義區, 臺北市, 11008, Taiwan']                              1       1   \n",
       "\n",
       "                                                    locations  companies  \\\n",
       "addresses                                                                  \n",
       "None                                                       89         89   \n",
       "[\"Amazon.fr ORY1, Rue de l'Olivier, Deret Logis...          1          1   \n",
       "[\"Amazon.fr ORY1, Rue de l'Olivier, Deret Logis...          1          1   \n",
       "['1, 东长安街, 北京市, 东城区, 北京市, 100010, China 中国']                1          1   \n",
       "['10025, Northeast Cascades Parkway, Portland, ...          1          1   \n",
       "...                                                       ...        ...   \n",
       "['华三通信, 长河街道, 杭州市, 浙江省, China 中国']                          1          1   \n",
       "['华为技术有限公司, 龙岗区, 深圳市, 广东省, 518100, China 中国']               1          1   \n",
       "['甲骨文大厦, 软件园三号路, 中关村软件园, 东北旺村, 海淀区, 北京市, 100093...          1          1   \n",
       "['联想研发中心, 高新南一道, 大冲, 粤海街道, 深圳市, 广东省, 518057, Ch...          1          1   \n",
       "['臺北市, 信義區, 臺北市, 11008, Taiwan']                            1          1   \n",
       "\n",
       "                                                    workers  tags  author  \\\n",
       "addresses                                                                   \n",
       "None                                                     89    89      89   \n",
       "[\"Amazon.fr ORY1, Rue de l'Olivier, Deret Logis...        1     1       1   \n",
       "[\"Amazon.fr ORY1, Rue de l'Olivier, Deret Logis...        1     1       1   \n",
       "['1, 东长安街, 北京市, 东城区, 北京市, 100010, China 中国']              1     1       1   \n",
       "['10025, Northeast Cascades Parkway, Portland, ...        1     1       1   \n",
       "...                                                     ...   ...     ...   \n",
       "['华三通信, 长河街道, 杭州市, 浙江省, China 中国']                        1     1       1   \n",
       "['华为技术有限公司, 龙岗区, 深圳市, 广东省, 518100, China 中国']             1     1       1   \n",
       "['甲骨文大厦, 软件园三号路, 中关村软件园, 东北旺村, 海淀区, 北京市, 100093...        1     1       1   \n",
       "['联想研发中心, 高新南一道, 大冲, 粤海街道, 深圳市, 广东省, 518057, Ch...        1     1       1   \n",
       "['臺北市, 信義區, 臺北市, 11008, Taiwan']                          1     1       1   \n",
       "\n",
       "                                                    latlngs  \n",
       "addresses                                                    \n",
       "None                                                     89  \n",
       "[\"Amazon.fr ORY1, Rue de l'Olivier, Deret Logis...        1  \n",
       "[\"Amazon.fr ORY1, Rue de l'Olivier, Deret Logis...        1  \n",
       "['1, 东长安街, 北京市, 东城区, 北京市, 100010, China 中国']              1  \n",
       "['10025, Northeast Cascades Parkway, Portland, ...        1  \n",
       "...                                                     ...  \n",
       "['华三通信, 长河街道, 杭州市, 浙江省, China 中国']                        1  \n",
       "['华为技术有限公司, 龙岗区, 深圳市, 广东省, 518100, China 中国']             1  \n",
       "['甲骨文大厦, 软件园三号路, 中关村软件园, 东北旺村, 海淀区, 北京市, 100093...        1  \n",
       "['联想研发中心, 高新南一道, 大冲, 粤海街道, 深圳市, 广东省, 518057, Ch...        1  \n",
       "['臺北市, 信義區, 臺北市, 11008, Taiwan']                          1  \n",
       "\n",
       "[108 rows x 14 columns]"
      ]
     },
     "execution_count": 84,
     "metadata": {},
     "output_type": "execute_result"
    }
   ],
   "source": [
    "df.groupby([\"addresses\"]).count()"
   ]
  },
  {
   "cell_type": "code",
   "execution_count": null,
   "metadata": {},
   "outputs": [],
   "source": []
  }
 ],
 "metadata": {
  "kernelspec": {
   "display_name": "Python 3",
   "language": "python",
   "name": "python3"
  },
  "language_info": {
   "codemirror_mode": {
    "name": "ipython",
    "version": 3
   },
   "file_extension": ".py",
   "mimetype": "text/x-python",
   "name": "python",
   "nbconvert_exporter": "python",
   "pygments_lexer": "ipython3",
   "version": "3.7.4"
  }
 },
 "nbformat": 4,
 "nbformat_minor": 2
}
