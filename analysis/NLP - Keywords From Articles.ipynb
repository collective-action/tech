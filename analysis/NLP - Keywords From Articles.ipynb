{
 "cells": [
  {
   "cell_type": "code",
   "execution_count": 1,
   "metadata": {},
   "outputs": [],
   "source": [
    "import requests\n",
    "import urllib.request\n",
    "import time\n",
    "from bs4 import BeautifulSoup"
   ]
  },
  {
   "cell_type": "code",
   "execution_count": 2,
   "metadata": {},
   "outputs": [],
   "source": [
    "import pandas as pd\n",
    "import numpy as np\n",
    "from datetime import datetime\n",
    "import matplotlib.pyplot as plt"
   ]
  },
  {
   "cell_type": "markdown",
   "metadata": {},
   "source": [
    "# Identifying Keywords from News Articles"
   ]
  },
  {
   "cell_type": "markdown",
   "metadata": {},
   "source": [
    "Idea:\n",
    "- Webscrape text from article links\n",
    "- Use TFIDF/NER to idenitfy keywords from the text for tagging purposes\n",
    "- Use Keywords to create a summary\n"
   ]
  },
  {
   "cell_type": "markdown",
   "metadata": {},
   "source": [
    "## Import Data"
   ]
  },
  {
   "cell_type": "code",
   "execution_count": 3,
   "metadata": {},
   "outputs": [
    {
     "data": {
      "text/html": [
       "<div>\n",
       "<style scoped>\n",
       "    .dataframe tbody tr th:only-of-type {\n",
       "        vertical-align: middle;\n",
       "    }\n",
       "\n",
       "    .dataframe tbody tr th {\n",
       "        vertical-align: top;\n",
       "    }\n",
       "\n",
       "    .dataframe thead th {\n",
       "        text-align: right;\n",
       "    }\n",
       "</style>\n",
       "<table border=\"1\" class=\"dataframe\">\n",
       "  <thead>\n",
       "    <tr style=\"text-align: right;\">\n",
       "      <th></th>\n",
       "      <th>Unnamed: 0</th>\n",
       "      <th>id</th>\n",
       "      <th>date</th>\n",
       "      <th>sources</th>\n",
       "      <th>actions</th>\n",
       "      <th>struggles</th>\n",
       "      <th>employment_types</th>\n",
       "      <th>description</th>\n",
       "      <th>online</th>\n",
       "      <th>locations</th>\n",
       "      <th>companies</th>\n",
       "      <th>workers</th>\n",
       "      <th>tags</th>\n",
       "      <th>author</th>\n",
       "      <th>latlngs</th>\n",
       "      <th>addresses</th>\n",
       "    </tr>\n",
       "  </thead>\n",
       "  <tbody>\n",
       "    <tr>\n",
       "      <th>0</th>\n",
       "      <td>0</td>\n",
       "      <td>1</td>\n",
       "      <td>1979-09-01</td>\n",
       "      <td>['https://twitter.com/clancynewyork/status/117...</td>\n",
       "      <td>['protest']</td>\n",
       "      <td>['ethics']</td>\n",
       "      <td>['white collar workers']</td>\n",
       "      <td>IBM workers formed an organization, IBM: Speak...</td>\n",
       "      <td>None</td>\n",
       "      <td>['worldwide']</td>\n",
       "      <td>['ibm']</td>\n",
       "      <td>None</td>\n",
       "      <td>['international_solidarity']</td>\n",
       "      <td>['nataliyaned']</td>\n",
       "      <td>None</td>\n",
       "      <td>None</td>\n",
       "    </tr>\n",
       "    <tr>\n",
       "      <th>1</th>\n",
       "      <td>1</td>\n",
       "      <td>2</td>\n",
       "      <td>1986-09-16</td>\n",
       "      <td>['https://www.nytimes.com/1986/09/16/science/s...</td>\n",
       "      <td>['open letter']</td>\n",
       "      <td>['ethics']</td>\n",
       "      <td>['white collar workers']</td>\n",
       "      <td>Fourteen employees at AT&amp;T sign a letter warni...</td>\n",
       "      <td>None</td>\n",
       "      <td>['usa']</td>\n",
       "      <td>['at&amp;t']</td>\n",
       "      <td>14</td>\n",
       "      <td>None</td>\n",
       "      <td>['nataliyaned']</td>\n",
       "      <td>[(45.5733162, -122.5587111463347)]</td>\n",
       "      <td>['AT&amp;T, 10025, Northeast Cascades Parkway, Por...</td>\n",
       "    </tr>\n",
       "    <tr>\n",
       "      <th>2</th>\n",
       "      <td>2</td>\n",
       "      <td>3</td>\n",
       "      <td>1986-09-16</td>\n",
       "      <td>['https://www.nytimes.com/1986/09/16/science/s...</td>\n",
       "      <td>['open letter']</td>\n",
       "      <td>['ethics']</td>\n",
       "      <td>['white collar workers']</td>\n",
       "      <td>A group of computer professionals, led by Comp...</td>\n",
       "      <td>None</td>\n",
       "      <td>['usa']</td>\n",
       "      <td>None</td>\n",
       "      <td>30</td>\n",
       "      <td>None</td>\n",
       "      <td>['nataliyaned']</td>\n",
       "      <td>[(39.7837304, -100.4458825)]</td>\n",
       "      <td>['United States']</td>\n",
       "    </tr>\n",
       "    <tr>\n",
       "      <th>3</th>\n",
       "      <td>3</td>\n",
       "      <td>4</td>\n",
       "      <td>1994-01-24</td>\n",
       "      <td>['https://www.nytimes.com/1994/06/12/magazine/...</td>\n",
       "      <td>['open letter']</td>\n",
       "      <td>['ethics']</td>\n",
       "      <td>['white collar workers']</td>\n",
       "      <td>Computer Professionals for Social Responsibili...</td>\n",
       "      <td>True</td>\n",
       "      <td>None</td>\n",
       "      <td>None</td>\n",
       "      <td>50000</td>\n",
       "      <td>None</td>\n",
       "      <td>['nataliyaned']</td>\n",
       "      <td>None</td>\n",
       "      <td>None</td>\n",
       "    </tr>\n",
       "    <tr>\n",
       "      <th>4</th>\n",
       "      <td>4</td>\n",
       "      <td>5</td>\n",
       "      <td>1998-11-23</td>\n",
       "      <td>['http://www.cnn.com/tech/computing/9811/23/ms...</td>\n",
       "      <td>['legal action']</td>\n",
       "      <td>['unfair labor practices', 'pay and benefits']</td>\n",
       "      <td>['contract workers']</td>\n",
       "      <td>A law firm representing 10 current and former ...</td>\n",
       "      <td>None</td>\n",
       "      <td>['usa']</td>\n",
       "      <td>['microsoft']</td>\n",
       "      <td>10</td>\n",
       "      <td>None</td>\n",
       "      <td>['organizejs']</td>\n",
       "      <td>[(35.139622349999996, -80.92306993327955)]</td>\n",
       "      <td>['Microsoft, Yorkwood, Charlotte, Mecklenburg ...</td>\n",
       "    </tr>\n",
       "  </tbody>\n",
       "</table>\n",
       "</div>"
      ],
      "text/plain": [
       "   Unnamed: 0  id       date  \\\n",
       "0           0   1 1979-09-01   \n",
       "1           1   2 1986-09-16   \n",
       "2           2   3 1986-09-16   \n",
       "3           3   4 1994-01-24   \n",
       "4           4   5 1998-11-23   \n",
       "\n",
       "                                             sources           actions  \\\n",
       "0  ['https://twitter.com/clancynewyork/status/117...       ['protest']   \n",
       "1  ['https://www.nytimes.com/1986/09/16/science/s...   ['open letter']   \n",
       "2  ['https://www.nytimes.com/1986/09/16/science/s...   ['open letter']   \n",
       "3  ['https://www.nytimes.com/1994/06/12/magazine/...   ['open letter']   \n",
       "4  ['http://www.cnn.com/tech/computing/9811/23/ms...  ['legal action']   \n",
       "\n",
       "                                        struggles          employment_types  \\\n",
       "0                                      ['ethics']  ['white collar workers']   \n",
       "1                                      ['ethics']  ['white collar workers']   \n",
       "2                                      ['ethics']  ['white collar workers']   \n",
       "3                                      ['ethics']  ['white collar workers']   \n",
       "4  ['unfair labor practices', 'pay and benefits']      ['contract workers']   \n",
       "\n",
       "                                         description online      locations  \\\n",
       "0  IBM workers formed an organization, IBM: Speak...   None  ['worldwide']   \n",
       "1  Fourteen employees at AT&T sign a letter warni...   None        ['usa']   \n",
       "2  A group of computer professionals, led by Comp...   None        ['usa']   \n",
       "3  Computer Professionals for Social Responsibili...   True           None   \n",
       "4  A law firm representing 10 current and former ...   None        ['usa']   \n",
       "\n",
       "       companies workers                          tags           author  \\\n",
       "0        ['ibm']    None  ['international_solidarity']  ['nataliyaned']   \n",
       "1       ['at&t']      14                          None  ['nataliyaned']   \n",
       "2           None      30                          None  ['nataliyaned']   \n",
       "3           None   50000                          None  ['nataliyaned']   \n",
       "4  ['microsoft']      10                          None   ['organizejs']   \n",
       "\n",
       "                                      latlngs  \\\n",
       "0                                        None   \n",
       "1          [(45.5733162, -122.5587111463347)]   \n",
       "2                [(39.7837304, -100.4458825)]   \n",
       "3                                        None   \n",
       "4  [(35.139622349999996, -80.92306993327955)]   \n",
       "\n",
       "                                           addresses  \n",
       "0                                               None  \n",
       "1  ['AT&T, 10025, Northeast Cascades Parkway, Por...  \n",
       "2                                  ['United States']  \n",
       "3                                               None  \n",
       "4  ['Microsoft, Yorkwood, Charlotte, Mecklenburg ...  "
      ]
     },
     "execution_count": 3,
     "metadata": {},
     "output_type": "execute_result"
    }
   ],
   "source": [
    "date_range = pd.date_range('01-01-2006', datetime.today().date())\n",
    "df = pd.read_csv(\"../actions.csv\")\n",
    "df[\"date\"] = pd.to_datetime(df[\"date\"])\n",
    "df.head()"
   ]
  },
  {
   "cell_type": "markdown",
   "metadata": {},
   "source": [
    "## Links to Explore"
   ]
  },
  {
   "cell_type": "code",
   "execution_count": 4,
   "metadata": {},
   "outputs": [
    {
     "data": {
      "text/plain": [
       "0      ['https://twitter.com/clancynewyork/status/117...\n",
       "1      ['https://www.nytimes.com/1986/09/16/science/s...\n",
       "2      ['https://www.nytimes.com/1986/09/16/science/s...\n",
       "3      ['https://www.nytimes.com/1994/06/12/magazine/...\n",
       "4      ['http://www.cnn.com/tech/computing/9811/23/ms...\n",
       "                             ...                        \n",
       "292    ['https://www.msn.com/en-us/news/us/boycott-co...\n",
       "293    ['https://www.vice.com/en_au/article/ep4qdz/am...\n",
       "294    ['https://www.news.com.au/finance/work/at-work...\n",
       "295    ['https://www.cnbc.com/2020/08/13/german-digit...\n",
       "296    ['https://www.nytimes.com/2020/08/14/technolog...\n",
       "Name: sources, Length: 297, dtype: object"
      ]
     },
     "execution_count": 4,
     "metadata": {},
     "output_type": "execute_result"
    }
   ],
   "source": [
    "df[\"sources\"]"
   ]
  },
  {
   "cell_type": "code",
   "execution_count": 5,
   "metadata": {},
   "outputs": [
    {
     "data": {
      "text/plain": [
       "\"['https://twitter.com/clancynewyork/status/1175872040814993408?s=19', 'http://www-cs-students.stanford.edu/~cale/cs201/apartheid.comp.html']\""
      ]
     },
     "execution_count": 5,
     "metadata": {},
     "output_type": "execute_result"
    }
   ],
   "source": [
    "df[\"sources\"][0]"
   ]
  },
  {
   "cell_type": "markdown",
   "metadata": {},
   "source": [
    "## Webscrape for source text"
   ]
  },
  {
   "cell_type": "code",
   "execution_count": 6,
   "metadata": {},
   "outputs": [],
   "source": [
    "url = \"http://www-cs-students.stanford.edu/~cale/cs201/apartheid.comp.html\"\n",
    "response = requests.get(url)"
   ]
  },
  {
   "cell_type": "code",
   "execution_count": 7,
   "metadata": {},
   "outputs": [],
   "source": [
    "soup = BeautifulSoup(response.text, \"html.parser\")"
   ]
  },
  {
   "cell_type": "code",
   "execution_count": 8,
   "metadata": {},
   "outputs": [
    {
     "name": "stdout",
     "output_type": "stream",
     "text": [
      "<html>\n",
      "<title>The Use of Computers to Support Oppression</title>\n",
      "<body alink=\"#FFFF00\" background=\"pictures/olive_paper.gif\" link=\"#F2F295\" text=\"#FFFFFF\" vlink=\"#C9B720\">\n",
      "<center>\n",
      "<h1><b>The Use of Computers to Support Oppression</b></h1><p>\n",
      "</p></center>\n",
      "\n",
      "Computer technology enabled the government to organize and enforce such an atrocious system of segregation and control.\n",
      "\n",
      "<blockquote>\n",
      "More than any other single technological advancement, the computer fostered the concentration of administrative power in the hands of Africa's white elite. <a href=\"apartheid.bib.html\"><b>[NAR82]</b></a>\n",
      "</blockquote>\n",
      "\n",
      "Despite the U.N. arms embargoes, American computers were in widespread use throughout South Africa.  The United States was the largest supplier of computers used in South Africa. American computers were in use in virtually every governmental agency, the police system, and the military, all of which contributed to the control system known as apartheid.  Computer technology did not merely support the system of oppression, rather the entire country was utterly dependent upon it.  As the managing director of the South African subsidiary of <a href=\"http://fs1.itdean.umn.edu/cbi/burros/burros.htm\"><b>Burroughs Corporations</b></a> said, \n",
      "\n",
      "<blockquote>\n",
      "We are entirely dependent on the U.S.  The economy would grind to a halt without access to the computer technology of the West.  No bank could function; the government couldn't collect its money and couldn't account for it; business couldn't operate; payrolls could not be paid.  Retail and wholesale marketing and related services would be disrupted. <a href=\"apartheid.bib.html\"><b>[NAR82]</b></a>\n",
      "</blockquote><p>\n",
      "<img align=\"LEFT\" alt=\"IBM advertisement\" src=\"pictures/ibm.jpg\"/>\n",
      "\n",
      "The extensive history of the export of American computer technology began in 1952 with an order for the first \"electric tabulator\" to IBM-South Africa.  Three years later, the streamlining of the hated pass system resulted in an automated population register implemented on foreign computers.  1970 found South Africa with an estimated four hundred computers -- a value of about one hundred million dollars.  The number of computers continued to grow, totaling more than forty five hundred in 1982.  In 1977, only the U.S. and Britain spent more on computer technology than South Africa as a percentage of gross national product, while in 1980, 75% of the computers in South Africa were purchased from American corporations.  South Africa continued to import a large number of computers despite an attempt by the government to promote domestic production.  Local products accounted for less than 5% of South African computer equipment sales in 1988.  Many of these sales occured despite restrictions in U.S. law.<p>\n",
      "\n",
      "American corporation IBM was the largest computer supplier in South Africa throughout the years of apartheid.  In 1978 alone, IBM's South African sales jumped 250%; total annual sales amounted to approximately three hundred million dollars in 1982.  Not only did IBM contribute tremendous computing power to the South African apartheid system, but of the fifteen hundred South African workers employed by IBM in 1982, less than 20% were classified as coloured, black or Asian.  IBM continually asserted that the applications of their computers were not used to abridge human rights, despite acknowledgment that the uses to which their computers were put could not be known in all cases.  In fact, the South African Parliament made it illegal for companies to report the uses of their computers.  Although IBM officially divested from South Africa in 1987, their products continued to be distributed by Information Services Group.<p>\n",
      "\n",
      "We will first consider the sale of computers to the South African government, followed by an investigation of sales to the police, then to the military.  The number of computers used by the government is not to be underestimated: the government absorbed 41% of all South African computer sales in 1986. Even if thesesales were made to \"non-repressive\" agencies, or sold for supposedly \"non-repressive\" purposes, the technology contributed to the repressive system for two reasons.  First, the computers were often used for purposes other than the expressed intentions. Second, the government was extremely highly centralized and tightly controlled in order to protect the \"sovereignty\" of the country.\n",
      "<blockquote>\n",
      "The significance of the role of U.S. computers in S.A. [was] not restricted to their use by repressive agencies of the government. <a href=\"apartheid.bib.html\"><b>[Leo80]</b></a>\n",
      "</blockquote><p>\n",
      "\n",
      "It is likely that the tool which made the most crucial contribution to the system of apartheid was the computerized population register.  The Plural Affairs Department maintained the passbook system on the more than twenty five million Africans defined as black.  These records were all kept electronically on British-made ICL hardware.  The Department of the Interior maintained the \"Book of Life\" files on the other seven million citizens classified as non-blacks using an IBM hardware system.  The passbook records included data on \"racial classification\", name, sex, date of birth, residence, photo, marital status, drivers license, dates of departure from and return to the country, place of work or study, and fingerprints.  One South African described the population register at work as,\n",
      "<blockquote>\n",
      "Computers flashing out reference numbers, photocopies relayed by telephone, perhaps even instant transmission of fingerprints-all to keep track of members of the population. Sounds like George Orwell's 1984, doesn't it?  Well it's South Africa's way of modernizing and streamlining its pass and influx control system. <a href=\"apartheid.bib.html\"><b>[NAR82]</b></a>\n",
      "</blockquote><p>\n",
      "<img align=\"RIGHT\" alt=\"PASSBOOK PICTURE\" src=\"pictures/passbook2.jpg\"/>\n",
      "\n",
      "The main purpose of the population registry was administration of the influx control system, a system which channeled needed black workers into the labor force to be exploited, and confined others to the desolate homelands.  The passbooks, which every black person was automatically given at the age of sixteen, coupled with the computer database, guaranteed one's instant identification and one's history of government opposition.  If these passbooks were properly endorsed, the owner had the right to work or live in \"white areas\", and lack of these endorsements or failure to produce the passbook resulted in arrest and jail.  Many were detained for months at a time without a trial and their families were not given notification of their whereabouts.<p>\n",
      "\n",
      "The Bantu boards were the local branches of the minority government for the black townships, which ran the housing for black workers, known as the hostel system, as well as the Bantu tax system. It also administered a complicated system of permits and controls which governed the movement of blacks.  This system broke down the structure of the African family, as the workers were prohibited from living with their families.  Rent and taxes were significantly higher for blacks than for whites in other districts, leaving the workers with very little on which to subsist.  This system is little different from organized slavery.  Virtually all the computers used in the Bantu Boards were of foreign origin.  In 1982, the East Rand Bantu Administration Board, a board located near Johannesburg, rented computers for which they paid R228,000 per year, a sum totaling over one fourth of what it spent on housing for blacks in an average year.  These computers were used for financial matters and registered blacks for the labor allocation system.<p>\n",
      "\n",
      "The Department of Justice used imported computer equipment , which implicitly sanctioned police violence and torture against opponents of apartheid, both black and white.  The Department of Prisons held political prisoners without trial, and used an IBM computer for \"financial\" purposes.  The Department of Prisons used two Data General Nova computers.  The Department of Labor controlled the terms and conditions of work under apartheid, i.e., no black worker could supervise a white worker, black trade unions were not recognized, and most strikes were illegal. Computer equipment was also used in the Department of the Prime Minister, the South African Reserve Bank, South Africa's electrical utility, and the Treasury Department.\n",
      "\n",
      "The South African police made active use of the population registry.  In 1982, they examined 179,285 fingerprints stored in the population registry, making 13,024 positive identifications.  Eight hundred and fifty thousand queries were made at display screens.\n",
      "\n",
      "<blockquote>\n",
      "Using remote terminal links, police operators at regional centers around the country [had] immediate access to a secret criminal data bank which stores details about anyone on the government's wanted list. <a href=\"apartheid.bib.html\"><b>[Slo90]</b></a>\n",
      "</blockquote>\n",
      "\n",
      "This gave the police remarkable power over political opposition.  The population registry was not the only computerized resource the police had to aid in controlling the citizens.  Foreign products such as X-ray machines to check personal possessions, passbook fingerprinting equipment, and communications logging recorders were all available to the South African police.  Electronic sensing equipment, infrared alarm systems, and photo identifications systems were on the market as well. Their use in repressing the citizens is obvious.  IBM even marketed a \"Law Enforcement System\" software package, but later denied that it had developed or marketed it when IBM realized the product might jeopardize sales at home.  Philips marketed an \"Access Control System\" which registers who enters a building where and when. Seemingly innocuous software could be applied to disastrous ends. For example, a city planning software package available in the 1980's helped the police to design black townships with the goal of allowing maximum police access and control in cases of revolt.\n",
      "\n",
      "<blockquote>\n",
      "Given the mission of the private police industry, its allegiance with Pretoria's police, military and other state departments, and given the complete lack of procedural rights and safeguards for non-whites, it would be naive to assume that U.S. security and surveillance gear sold in S.A. is not used as a tool of repression. <a href=\"apartheid.bib.html\"><b>[NAR82]</b></a>\n",
      "</blockquote><p>\n",
      "\n",
      "As the largest arm of the government, the bulk of the computer equipment purchased by the state undoubtedly found its way into the various military branches despite the fact that the military was the express target of the U.N. sanctions.  The military utilized advanced equipment not only in its invasion and occupation of Namibia, but also in the Total War against its people.  The South African Defense Force had six major computing centers; these computers were used to analyze battlefield data, guide weapons, transport equipment, and send notices to draftees. Computers were used at the Silvermine naval database to monitor naval movements around the coast of South Africa, in the Air Force's early-warning radar system, and in satellite communications.  A majority, if not all, of the components of these systems were of foreign origin.<p>\n",
      "\n",
      "One reason for the military's dependence on computers was the severe personnel shortage, since only whites were drafted.  The ratio of front-line soldiers to support troops was 1:1.3; the norm is at least 1:3.  Computers enabled the support of the front lines, and were also integral to many weapons used on the front lines.\n",
      "\n",
      "<blockquote>\n",
      "The speed of modern warfare necessitates support and help from several staff officers.  It is impossible to keep up with a lean mobile force unless you use a computer. <a href=\"apartheid.bib.html\"><b>[Slo90]</b></a>\n",
      "</blockquote>\n",
      "\n",
      "IBM lost no time in providing the military with all the computers it needed.  These and other foreign computers were routed around the sanctions by exporting to the Armaments Development Production Corporations (ARMSCOR), the government-owned company responsible for the development and acquisition of arms. The U.S. exported computers to ARMSCOR, under the pretense that they would be used for \"inventory maintenance\" purposes.<p>\n",
      "<p><hr size=\"5\"/><p>\n",
      "<b>Where to go from here:\n",
      "\n",
      "<center>\n",
      "Previous\n",
      "\n",
      "<a href=\"apartheid.hist.html\"><img alt=\"[PREV]\" src=\"pictures/arrow.marble.left.gif\"/></a>\n",
      "<a href=\"index.html\"><img alt=\"[INDEX]\" src=\"pictures/arrow.marble.up2.gif\"/></a>\n",
      "<a href=\"apartheid.ethics.html\"><img alt=\"[NEXT]\" src=\"pictures/arrow.marble.right.gif\"/></a>\n",
      "\n",
      "Next</center></b>\n",
      "</p></p></p></p></p></p></p></p></p></p></p></p></body></html>\n",
      "\n"
     ]
    }
   ],
   "source": [
    "print(soup)"
   ]
  },
  {
   "cell_type": "markdown",
   "metadata": {},
   "source": [
    "## Analyze Sample Source Text"
   ]
  },
  {
   "cell_type": "code",
   "execution_count": 9,
   "metadata": {},
   "outputs": [
    {
     "data": {
      "text/plain": [
       "<title>The Use of Computers to Support Oppression</title>"
      ]
     },
     "execution_count": 9,
     "metadata": {},
     "output_type": "execute_result"
    }
   ],
   "source": [
    "soup.title"
   ]
  },
  {
   "cell_type": "code",
   "execution_count": 10,
   "metadata": {
    "scrolled": false
   },
   "outputs": [
    {
     "data": {
      "text/plain": [
       "<body alink=\"#FFFF00\" background=\"pictures/olive_paper.gif\" link=\"#F2F295\" text=\"#FFFFFF\" vlink=\"#C9B720\">\n",
       "<center>\n",
       "<h1><b>The Use of Computers to Support Oppression</b></h1><p>\n",
       "</p></center>\n",
       "\n",
       "Computer technology enabled the government to organize and enforce such an atrocious system of segregation and control.\n",
       "\n",
       "<blockquote>\n",
       "More than any other single technological advancement, the computer fostered the concentration of administrative power in the hands of Africa's white elite. <a href=\"apartheid.bib.html\"><b>[NAR82]</b></a>\n",
       "</blockquote>\n",
       "\n",
       "Despite the U.N. arms embargoes, American computers were in widespread use throughout South Africa.  The United States was the largest supplier of computers used in South Africa. American computers were in use in virtually every governmental agency, the police system, and the military, all of which contributed to the control system known as apartheid.  Computer technology did not merely support the system of oppression, rather the entire country was utterly dependent upon it.  As the managing director of the South African subsidiary of <a href=\"http://fs1.itdean.umn.edu/cbi/burros/burros.htm\"><b>Burroughs Corporations</b></a> said, \n",
       "\n",
       "<blockquote>\n",
       "We are entirely dependent on the U.S.  The economy would grind to a halt without access to the computer technology of the West.  No bank could function; the government couldn't collect its money and couldn't account for it; business couldn't operate; payrolls could not be paid.  Retail and wholesale marketing and related services would be disrupted. <a href=\"apartheid.bib.html\"><b>[NAR82]</b></a>\n",
       "</blockquote><p>\n",
       "<img align=\"LEFT\" alt=\"IBM advertisement\" src=\"pictures/ibm.jpg\"/>\n",
       "\n",
       "The extensive history of the export of American computer technology began in 1952 with an order for the first \"electric tabulator\" to IBM-South Africa.  Three years later, the streamlining of the hated pass system resulted in an automated population register implemented on foreign computers.  1970 found South Africa with an estimated four hundred computers -- a value of about one hundred million dollars.  The number of computers continued to grow, totaling more than forty five hundred in 1982.  In 1977, only the U.S. and Britain spent more on computer technology than South Africa as a percentage of gross national product, while in 1980, 75% of the computers in South Africa were purchased from American corporations.  South Africa continued to import a large number of computers despite an attempt by the government to promote domestic production.  Local products accounted for less than 5% of South African computer equipment sales in 1988.  Many of these sales occured despite restrictions in U.S. law.<p>\n",
       "\n",
       "American corporation IBM was the largest computer supplier in South Africa throughout the years of apartheid.  In 1978 alone, IBM's South African sales jumped 250%; total annual sales amounted to approximately three hundred million dollars in 1982.  Not only did IBM contribute tremendous computing power to the South African apartheid system, but of the fifteen hundred South African workers employed by IBM in 1982, less than 20% were classified as coloured, black or Asian.  IBM continually asserted that the applications of their computers were not used to abridge human rights, despite acknowledgment that the uses to which their computers were put could not be known in all cases.  In fact, the South African Parliament made it illegal for companies to report the uses of their computers.  Although IBM officially divested from South Africa in 1987, their products continued to be distributed by Information Services Group.<p>\n",
       "\n",
       "We will first consider the sale of computers to the South African government, followed by an investigation of sales to the police, then to the military.  The number of computers used by the government is not to be underestimated: the government absorbed 41% of all South African computer sales in 1986. Even if thesesales were made to \"non-repressive\" agencies, or sold for supposedly \"non-repressive\" purposes, the technology contributed to the repressive system for two reasons.  First, the computers were often used for purposes other than the expressed intentions. Second, the government was extremely highly centralized and tightly controlled in order to protect the \"sovereignty\" of the country.\n",
       "<blockquote>\n",
       "The significance of the role of U.S. computers in S.A. [was] not restricted to their use by repressive agencies of the government. <a href=\"apartheid.bib.html\"><b>[Leo80]</b></a>\n",
       "</blockquote><p>\n",
       "\n",
       "It is likely that the tool which made the most crucial contribution to the system of apartheid was the computerized population register.  The Plural Affairs Department maintained the passbook system on the more than twenty five million Africans defined as black.  These records were all kept electronically on British-made ICL hardware.  The Department of the Interior maintained the \"Book of Life\" files on the other seven million citizens classified as non-blacks using an IBM hardware system.  The passbook records included data on \"racial classification\", name, sex, date of birth, residence, photo, marital status, drivers license, dates of departure from and return to the country, place of work or study, and fingerprints.  One South African described the population register at work as,\n",
       "<blockquote>\n",
       "Computers flashing out reference numbers, photocopies relayed by telephone, perhaps even instant transmission of fingerprints-all to keep track of members of the population. Sounds like George Orwell's 1984, doesn't it?  Well it's South Africa's way of modernizing and streamlining its pass and influx control system. <a href=\"apartheid.bib.html\"><b>[NAR82]</b></a>\n",
       "</blockquote><p>\n",
       "<img align=\"RIGHT\" alt=\"PASSBOOK PICTURE\" src=\"pictures/passbook2.jpg\"/>\n",
       "\n",
       "The main purpose of the population registry was administration of the influx control system, a system which channeled needed black workers into the labor force to be exploited, and confined others to the desolate homelands.  The passbooks, which every black person was automatically given at the age of sixteen, coupled with the computer database, guaranteed one's instant identification and one's history of government opposition.  If these passbooks were properly endorsed, the owner had the right to work or live in \"white areas\", and lack of these endorsements or failure to produce the passbook resulted in arrest and jail.  Many were detained for months at a time without a trial and their families were not given notification of their whereabouts.<p>\n",
       "\n",
       "The Bantu boards were the local branches of the minority government for the black townships, which ran the housing for black workers, known as the hostel system, as well as the Bantu tax system. It also administered a complicated system of permits and controls which governed the movement of blacks.  This system broke down the structure of the African family, as the workers were prohibited from living with their families.  Rent and taxes were significantly higher for blacks than for whites in other districts, leaving the workers with very little on which to subsist.  This system is little different from organized slavery.  Virtually all the computers used in the Bantu Boards were of foreign origin.  In 1982, the East Rand Bantu Administration Board, a board located near Johannesburg, rented computers for which they paid R228,000 per year, a sum totaling over one fourth of what it spent on housing for blacks in an average year.  These computers were used for financial matters and registered blacks for the labor allocation system.<p>\n",
       "\n",
       "The Department of Justice used imported computer equipment , which implicitly sanctioned police violence and torture against opponents of apartheid, both black and white.  The Department of Prisons held political prisoners without trial, and used an IBM computer for \"financial\" purposes.  The Department of Prisons used two Data General Nova computers.  The Department of Labor controlled the terms and conditions of work under apartheid, i.e., no black worker could supervise a white worker, black trade unions were not recognized, and most strikes were illegal. Computer equipment was also used in the Department of the Prime Minister, the South African Reserve Bank, South Africa's electrical utility, and the Treasury Department.\n",
       "\n",
       "The South African police made active use of the population registry.  In 1982, they examined 179,285 fingerprints stored in the population registry, making 13,024 positive identifications.  Eight hundred and fifty thousand queries were made at display screens.\n",
       "\n",
       "<blockquote>\n",
       "Using remote terminal links, police operators at regional centers around the country [had] immediate access to a secret criminal data bank which stores details about anyone on the government's wanted list. <a href=\"apartheid.bib.html\"><b>[Slo90]</b></a>\n",
       "</blockquote>\n",
       "\n",
       "This gave the police remarkable power over political opposition.  The population registry was not the only computerized resource the police had to aid in controlling the citizens.  Foreign products such as X-ray machines to check personal possessions, passbook fingerprinting equipment, and communications logging recorders were all available to the South African police.  Electronic sensing equipment, infrared alarm systems, and photo identifications systems were on the market as well. Their use in repressing the citizens is obvious.  IBM even marketed a \"Law Enforcement System\" software package, but later denied that it had developed or marketed it when IBM realized the product might jeopardize sales at home.  Philips marketed an \"Access Control System\" which registers who enters a building where and when. Seemingly innocuous software could be applied to disastrous ends. For example, a city planning software package available in the 1980's helped the police to design black townships with the goal of allowing maximum police access and control in cases of revolt.\n",
       "\n",
       "<blockquote>\n",
       "Given the mission of the private police industry, its allegiance with Pretoria's police, military and other state departments, and given the complete lack of procedural rights and safeguards for non-whites, it would be naive to assume that U.S. security and surveillance gear sold in S.A. is not used as a tool of repression. <a href=\"apartheid.bib.html\"><b>[NAR82]</b></a>\n",
       "</blockquote><p>\n",
       "\n",
       "As the largest arm of the government, the bulk of the computer equipment purchased by the state undoubtedly found its way into the various military branches despite the fact that the military was the express target of the U.N. sanctions.  The military utilized advanced equipment not only in its invasion and occupation of Namibia, but also in the Total War against its people.  The South African Defense Force had six major computing centers; these computers were used to analyze battlefield data, guide weapons, transport equipment, and send notices to draftees. Computers were used at the Silvermine naval database to monitor naval movements around the coast of South Africa, in the Air Force's early-warning radar system, and in satellite communications.  A majority, if not all, of the components of these systems were of foreign origin.<p>\n",
       "\n",
       "One reason for the military's dependence on computers was the severe personnel shortage, since only whites were drafted.  The ratio of front-line soldiers to support troops was 1:1.3; the norm is at least 1:3.  Computers enabled the support of the front lines, and were also integral to many weapons used on the front lines.\n",
       "\n",
       "<blockquote>\n",
       "The speed of modern warfare necessitates support and help from several staff officers.  It is impossible to keep up with a lean mobile force unless you use a computer. <a href=\"apartheid.bib.html\"><b>[Slo90]</b></a>\n",
       "</blockquote>\n",
       "\n",
       "IBM lost no time in providing the military with all the computers it needed.  These and other foreign computers were routed around the sanctions by exporting to the Armaments Development Production Corporations (ARMSCOR), the government-owned company responsible for the development and acquisition of arms. The U.S. exported computers to ARMSCOR, under the pretense that they would be used for \"inventory maintenance\" purposes.<p>\n",
       "<p><hr size=\"5\"/><p>\n",
       "<b>Where to go from here:\n",
       "\n",
       "<center>\n",
       "Previous\n",
       "\n",
       "<a href=\"apartheid.hist.html\"><img alt=\"[PREV]\" src=\"pictures/arrow.marble.left.gif\"/></a>\n",
       "<a href=\"index.html\"><img alt=\"[INDEX]\" src=\"pictures/arrow.marble.up2.gif\"/></a>\n",
       "<a href=\"apartheid.ethics.html\"><img alt=\"[NEXT]\" src=\"pictures/arrow.marble.right.gif\"/></a>\n",
       "\n",
       "Next</center></b>\n",
       "</p></p></p></p></p></p></p></p></p></p></p></p></body>"
      ]
     },
     "execution_count": 10,
     "metadata": {},
     "output_type": "execute_result"
    }
   ],
   "source": [
    "soup.body"
   ]
  },
  {
   "cell_type": "code",
   "execution_count": 11,
   "metadata": {},
   "outputs": [
    {
     "data": {
      "text/plain": [
       "'\\n\\nIBM lost no time in providing the military with all the computers it needed.  These and other foreign computers were routed around the sanctions by exporting to the Armaments Development Production Corporations (ARMSCOR), the government-owned company responsible for the development and acquisition of arms. The U.S. exported computers to ARMSCOR, under the pretense that they would be used for \"inventory maintenance\" purposes. \\n\\nIt is likely that the tool which made the most crucial contribution to the system of apartheid was the computerized population register.  The Plural Affairs Department maintained the passbook system on the more than twenty five million Africans defined as black.  These records were all kept electronically on British-made ICL hardware.  The Department of the Interior maintained the \"Book of Life\" files on the other seven million citizens classified as non-blacks using an IBM hardware system.  The passbook records included data on \"racial classification\", name, sex, date of birth, residence, photo, marital status, drivers license, dates of departure from and return to the country, place of work or study, and fingerprints.  One South African described the population register at work as,\\n Where to go from here:\\n\\n \\n\\nThe main purpose of the population registry was administration of the influx control system, a system which channeled needed black workers into the labor force to be exploited, and confined others to the desolate homelands.  The passbooks, which every black person was automatically given at the age of sixteen, coupled with the computer database, guaranteed one\\'s instant identification and one\\'s history of government opposition.  If these passbooks were properly endorsed, the owner had the right to work or live in \"white areas\", and lack of these endorsements or failure to produce the passbook resulted in arrest and jail.  Many were detained for months at a time without a trial and their families were not given notification of their whereabouts. \\n\\nThe extensive history of the export of American computer technology began in 1952 with an order for the first \"electric tabulator\" to IBM-South Africa.  Three years later, the streamlining of the hated pass system resulted in an automated population register implemented on foreign computers.  1970 found South Africa with an estimated four hundred computers -- a value of about one hundred million dollars.  The number of computers continued to grow, totaling more than forty five hundred in 1982.  In 1977, only the U.S. and Britain spent more on computer technology than South Africa as a percentage of gross national product, while in 1980, 75% of the computers in South Africa were purchased from American corporations.  South Africa continued to import a large number of computers despite an attempt by the government to promote domestic production.  Local products accounted for less than 5% of South African computer equipment sales in 1988.  Many of these sales occured despite restrictions in U.S. law. \\nThe significance of the role of U.S. computers in S.A. [was] not restricted to their use by repressive agencies of the government.  \\n\\nAs the largest arm of the government, the bulk of the computer equipment purchased by the state undoubtedly found its way into the various military branches despite the fact that the military was the express target of the U.N. sanctions.  The military utilized advanced equipment not only in its invasion and occupation of Namibia, but also in the Total War against its people.  The South African Defense Force had six major computing centers; these computers were used to analyze battlefield data, guide weapons, transport equipment, and send notices to draftees. Computers were used at the Silvermine naval database to monitor naval movements around the coast of South Africa, in the Air Force\\'s early-warning radar system, and in satellite communications.  A majority, if not all, of the components of these systems were of foreign origin. \\nUsing remote terminal links, police operators at regional centers around the country [had] immediate access to a secret criminal data bank which stores details about anyone on the government\\'s wanted list.  \\n \\n\\nWe will first consider the sale of computers to the South African government, followed by an investigation of sales to the police, then to the military.  The number of computers used by the government is not to be underestimated: the government absorbed 41% of all South African computer sales in 1986. Even if thesesales were made to \"non-repressive\" agencies, or sold for supposedly \"non-repressive\" purposes, the technology contributed to the repressive system for two reasons.  First, the computers were often used for purposes other than the expressed intentions. Second, the government was extremely highly centralized and tightly controlled in order to protect the \"sovereignty\" of the country.\\n \\n\\nNext [Leo80] \\n\\nOne reason for the military\\'s dependence on computers was the severe personnel shortage, since only whites were drafted.  The ratio of front-line soldiers to support troops was 1:1.3; the norm is at least 1:3.  Computers enabled the support of the front lines, and were also integral to many weapons used on the front lines.\\n\\n \\nComputers flashing out reference numbers, photocopies relayed by telephone, perhaps even instant transmission of fingerprints-all to keep track of members of the population. Sounds like George Orwell\\'s 1984, doesn\\'t it?  Well it\\'s South Africa\\'s way of modernizing and streamlining its pass and influx control system.  \\nPrevious\\n\\n \\n\\nThe Bantu boards were the local branches of the minority government for the black townships, which ran the housing for black workers, known as the hostel system, as well as the Bantu tax system. It also administered a complicated system of permits and controls which governed the movement of blacks.  This system broke down the structure of the African family, as the workers were prohibited from living with their families.  Rent and taxes were significantly higher for blacks than for whites in other districts, leaving the workers with very little on which to subsist.  This system is little different from organized slavery.  Virtually all the computers used in the Bantu Boards were of foreign origin.  In 1982, the East Rand Bantu Administration Board, a board located near Johannesburg, rented computers for which they paid R228,000 per year, a sum totaling over one fourth of what it spent on housing for blacks in an average year.  These computers were used for financial matters and registered blacks for the labor allocation system. \\n\\nThis gave the police remarkable power over political opposition.  The population registry was not the only computerized resource the police had to aid in controlling the citizens.  Foreign products such as X-ray machines to check personal possessions, passbook fingerprinting equipment, and communications logging recorders were all available to the South African police.  Electronic sensing equipment, infrared alarm systems, and photo identifications systems were on the market as well. Their use in repressing the citizens is obvious.  IBM even marketed a \"Law Enforcement System\" software package, but later denied that it had developed or marketed it when IBM realized the product might jeopardize sales at home.  Philips marketed an \"Access Control System\" which registers who enters a building where and when. Seemingly innocuous software could be applied to disastrous ends. For example, a city planning software package available in the 1980\\'s helped the police to design black townships with the goal of allowing maximum police access and control in cases of revolt.\\n\\n \\nThe speed of modern warfare necessitates support and help from several staff officers.  It is impossible to keep up with a lean mobile force unless you use a computer.  [Slo90] [NAR82] \\n\\nAmerican corporation IBM was the largest computer supplier in South Africa throughout the years of apartheid.  In 1978 alone, IBM\\'s South African sales jumped 250%; total annual sales amounted to approximately three hundred million dollars in 1982.  Not only did IBM contribute tremendous computing power to the South African apartheid system, but of the fifteen hundred South African workers employed by IBM in 1982, less than 20% were classified as coloured, black or Asian.  IBM continually asserted that the applications of their computers were not used to abridge human rights, despite acknowledgment that the uses to which their computers were put could not be known in all cases.  In fact, the South African Parliament made it illegal for companies to report the uses of their computers.  Although IBM officially divested from South Africa in 1987, their products continued to be distributed by Information Services Group. \\nGiven the mission of the private police industry, its allegiance with Pretoria\\'s police, military and other state departments, and given the complete lack of procedural rights and safeguards for non-whites, it would be naive to assume that U.S. security and surveillance gear sold in S.A. is not used as a tool of repression.  \\n\\nThe Department of Justice used imported computer equipment , which implicitly sanctioned police violence and torture against opponents of apartheid, both black and white.  The Department of Prisons held political prisoners without trial, and used an IBM computer for \"financial\" purposes.  The Department of Prisons used two Data General Nova computers.  The Department of Labor controlled the terms and conditions of work under apartheid, i.e., no black worker could supervise a white worker, black trade unions were not recognized, and most strikes were illegal. Computer equipment was also used in the Department of the Prime Minister, the South African Reserve Bank, South Africa\\'s electrical utility, and the Treasury Department.\\n\\nThe South African police made active use of the population registry.  In 1982, they examined 179,285 fingerprints stored in the population registry, making 13,024 positive identifications.  Eight hundred and fifty thousand queries were made at display screens.\\n\\n'"
      ]
     },
     "execution_count": 11,
     "metadata": {},
     "output_type": "execute_result"
    }
   ],
   "source": [
    "if soup.find(\"img\"):\n",
    "    img_tag = soup.img\n",
    "    img_tag.decompose()\n",
    "paragraphs = soup.body.find_all(\"p\")\n",
    "texts = []\n",
    "for para in paragraphs:\n",
    "    texts.extend(para.find_all(text = True))\n",
    "texts = set(texts)\n",
    "article = \" \".join(texts)\n",
    "\n",
    "article"
   ]
  },
  {
   "cell_type": "markdown",
   "metadata": {},
   "source": [
    "### Does the article mention companies that we are already tracking? Which ones?"
   ]
  },
  {
   "cell_type": "code",
   "execution_count": 12,
   "metadata": {},
   "outputs": [
    {
     "name": "stdout",
     "output_type": "stream",
     "text": [
      "['etown', 'chinese literature', 'cisco', 'wayfair', 'sony', 'hp', 'google', 'at&t', 'N26', 'caviar', 'spin', 'accenture', 'tableau', 'oracle', 'naver', 'foodora', 'ibm', 'salesforce', 'hilfr', 'adobe', 'npm', 'kickstarter', 'compass_group', 'doordash', 'mit', 'iFood', 'mozilla', 'yahoo', 'shutterstock', 'whole_foods', 'rappi', 'ele.me', 'github', 'loop transportation', 'foxconn', 'foodera', 'wikipedia', 'samsung', 'carnegie mellon university', 'lionbridge', 'wework', 'tencent', 'bolt', 'microsoft', 'pinterest', 'instacart', 'huawei', 'meituan', 'walmart', 'glitch', 'okcupid', 'glovo', 'korea_advanced_institute_of_science_and_technology', 'ebay', 'sindelantal', 'alibaba', 'amazon', 'deliveroo', 'postmates', 'internet_archive', 'uber', 'loggi', 'lg', 'lyft', 'broadcom', 'youtube', 'intel', 'universal protection service', 'slack', 'square', 'target', 'h3c', 'instagram', 'little_cab', 'didi_food', 'baidu', 'lanetix', 'shipt', 'reddit', 'facebook', 'palantir', 'daemo', 'mechanical_turk', 'blue apron', 'netflix', 'nokia', 'didi', 'apple', 'lexmark', 'springer publishing', 'genentech', 'lenovo', 'filter_digital']\n"
     ]
    }
   ],
   "source": [
    "df[\"companies\"] = df[\"companies\"].astype(str).str.strip(\"[]\\'\")\n",
    "df[\"companies\"] = df[\"companies\"].astype(str).str.replace(\"'\", \"\")\n",
    "\n",
    "companies = []\n",
    "for i in df[\"companies\"].unique():\n",
    "    companies.extend(i.split(\", \"))\n",
    "companies = list(set(companies))\n",
    "\n",
    "companies.remove(\"None\")\n",
    "companies.remove(\"na\")\n",
    "\n",
    "print(companies)"
   ]
  },
  {
   "cell_type": "code",
   "execution_count": 13,
   "metadata": {},
   "outputs": [
    {
     "name": "stdout",
     "output_type": "stream",
     "text": [
      "['ibm', 'mit', 'loggi', 'target']\n"
     ]
    }
   ],
   "source": [
    "article = article.lower()\n",
    "\n",
    "mentioned = []\n",
    "for c in companies:\n",
    "    if c in article:\n",
    "        mentioned.append(c)\n",
    "\n",
    "print(mentioned)"
   ]
  },
  {
   "cell_type": "markdown",
   "metadata": {},
   "source": [
    "- this has possiblity of false positive. ex: target is mentioned but not with reference to the company"
   ]
  },
  {
   "cell_type": "markdown",
   "metadata": {},
   "source": [
    "### Keyword Extraction"
   ]
  },
  {
   "cell_type": "code",
   "execution_count": 14,
   "metadata": {},
   "outputs": [
    {
     "data": {
      "text/plain": [
       "'ibm lost no time in providing the military with all the computers it needed these and other foreign computers were routed around the sanctions by exporting to the armaments development production corporations armscor the government owned company responsible for the development and acquisition of arms the u s exported computers to armscor under the pretense that they would be used for inventory maintenance purposes it is likely that the tool which made the most crucial contribution to the system of apartheid was the computerized population register the plural affairs department maintained the passbook system on the more than twenty five million africans defined as black these records were all kept electronically on british made icl hardware the department of the interior maintained the book of life files on the other seven million citizens classified as non blacks using an ibm hardware system the passbook records included data on racial classification name sex date of birth residence photo marital status drivers license dates of departure from and return to the country place of work or study and fingerprints one south african described the population register at work as where to go from here the main purpose of the population registry was administration of the influx control system a system which channeled needed black workers into the labor force to be exploited and confined others to the desolate homelands the passbooks which every black person was automatically given at the age of sixteen coupled with the computer database guaranteed one s instant identification and one s history of government opposition if these passbooks were properly endorsed the owner had the right to work or live in white areas and lack of these endorsements or failure to produce the passbook resulted in arrest and jail many were detained for months at a time without a trial and their families were not given notification of their whereabouts the extensive history of the export of american computer technology began in with an order for the first electric tabulator to ibm south africa three years later the streamlining of the hated pass system resulted in an automated population register implemented on foreign computers found south africa with an estimated four hundred computers a value of about one hundred million dollars the number of computers continued to grow totaling more than forty five hundred in in only the u s and britain spent more on computer technology than south africa as a percentage of gross national product while in of the computers in south africa were purchased from american corporations south africa continued to import a large number of computers despite an attempt by the government to promote domestic production local products accounted for less than of south african computer equipment sales in many of these sales occured despite restrictions in u s law the significance of the role of u s computers in s a was not restricted to their use by repressive agencies of the government as the largest arm of the government the bulk of the computer equipment purchased by the state undoubtedly found its way into the various military branches despite the fact that the military was the express target of the u n sanctions the military utilized advanced equipment not only in its invasion and occupation of namibia but also in the total war against its people the south african defense force had six major computing centers these computers were used to analyze battlefield data guide weapons transport equipment and send notices to draftees computers were used at the silvermine naval database to monitor naval movements around the coast of south africa in the air force s early warning radar system and in satellite communications a majority if not all of the components of these systems were of foreign origin using remote terminal links police operators at regional centers around the country had immediate access to a secret criminal data bank which stores details about anyone on the government s wanted list we will first consider the sale of computers to the south african government followed by an investigation of sales to the police then to the military the number of computers used by the government is not to be underestimated the government absorbed of all south african computer sales in even if thesesales were made to non repressive agencies or sold for supposedly non repressive purposes the technology contributed to the repressive system for two reasons first the computers were often used for purposes other than the expressed intentions second the government was extremely highly centralized and tightly controlled in order to protect the sovereignty of the country next leo one reason for the military s dependence on computers was the severe personnel shortage since only whites were drafted the ratio of front line soldiers to support troops was the norm is at least computers enabled the support of the front lines and were also integral to many weapons used on the front lines computers flashing out reference numbers photocopies relayed by telephone perhaps even instant transmission of fingerprints all to keep track of members of the population sounds like george orwell s doesn t it well it s south africa s way of modernizing and streamlining its pass and influx control system previous the bantu boards were the local branches of the minority government for the black townships which ran the housing for black workers known as the hostel system as well as the bantu tax system it also administered a complicated system of permits and controls which governed the movement of blacks this system broke down the structure of the african family as the workers were prohibited from living with their families rent and taxes were significantly higher for blacks than for whites in other districts leaving the workers with very little on which to subsist this system is little different from organized slavery virtually all the computers used in the bantu boards were of foreign origin in the east rand bantu administration board a board located near johannesburg rented computers for which they paid r per year a sum totaling over one fourth of what it spent on housing for blacks in an average year these computers were used for financial matters and registered blacks for the labor allocation system this gave the police remarkable power over political opposition the population registry was not the only computerized resource the police had to aid in controlling the citizens foreign products such as x ray machines to check personal possessions passbook fingerprinting equipment and communications logging recorders were all available to the south african police electronic sensing equipment infrared alarm systems and photo identifications systems were on the market as well their use in repressing the citizens is obvious ibm even marketed a law enforcement system software package but later denied that it had developed or marketed it when ibm realized the product might jeopardize sales at home philips marketed an access control system which registers who enters a building where and when seemingly innocuous software could be applied to disastrous ends for example a city planning software package available in the s helped the police to design black townships with the goal of allowing maximum police access and control in cases of revolt the speed of modern warfare necessitates support and help from several staff officers it is impossible to keep up with a lean mobile force unless you use a computer slo nar american corporation ibm was the largest computer supplier in south africa throughout the years of apartheid in alone ibm s south african sales jumped total annual sales amounted to approximately three hundred million dollars in not only did ibm contribute tremendous computing power to the south african apartheid system but of the fifteen hundred south african workers employed by ibm in less than were classified as coloured black or asian ibm continually asserted that the applications of their computers were not used to abridge human rights despite acknowledgment that the uses to which their computers were put could not be known in all cases in fact the south african parliament made it illegal for companies to report the uses of their computers although ibm officially divested from south africa in their products continued to be distributed by information services group given the mission of the private police industry its allegiance with pretoria s police military and other state departments and given the complete lack of procedural rights and safeguards for non whites it would be naive to assume that u s security and surveillance gear sold in s a is not used as a tool of repression the department of justice used imported computer equipment which implicitly sanctioned police violence and torture against opponents of apartheid both black and white the department of prisons held political prisoners without trial and used an ibm computer for financial purposes the department of prisons used two data general nova computers the department of labor controlled the terms and conditions of work under apartheid i e no black worker could supervise a white worker black trade unions were not recognized and most strikes were illegal computer equipment was also used in the department of the prime minister the south african reserve bank south africa s electrical utility and the treasury department the south african police made active use of the population registry in they examined fingerprints stored in the population registry making positive identifications eight hundred and fifty thousand queries were made at display screens '"
      ]
     },
     "execution_count": 14,
     "metadata": {},
     "output_type": "execute_result"
    }
   ],
   "source": [
    "import re\n",
    "\n",
    "article = article.lower()\n",
    "article = re.sub(\"\\n\", \"\", article)\n",
    "article = re.sub(\"(\\\\d|\\\\W)+\", \" \", article)\n",
    "article = re.sub(\"[^a-zA-Z]\", \" \", article)\n",
    "article = re.sub(\"&lt;/?.*?&gt;\",\" &lt;&gt; \", article)\n",
    "\n",
    "article"
   ]
  },
  {
   "cell_type": "code",
   "execution_count": 22,
   "metadata": {},
   "outputs": [
    {
     "name": "stderr",
     "output_type": "stream",
     "text": [
      "[nltk_data] Downloading package brown to\n",
      "[nltk_data]     C:\\Users\\tygar\\AppData\\Roaming\\nltk_data...\n",
      "[nltk_data]   Package brown is already up-to-date!\n"
     ]
    },
    {
     "ename": "ValueError",
     "evalue": "Iterable over raw text documents expected, string object received.",
     "output_type": "error",
     "traceback": [
      "\u001b[1;31m---------------------------------------------------------------------------\u001b[0m",
      "\u001b[1;31mValueError\u001b[0m                                Traceback (most recent call last)",
      "\u001b[1;32m<ipython-input-22-cb88d809382f>\u001b[0m in \u001b[0;36m<module>\u001b[1;34m\u001b[0m\n\u001b[0;32m      7\u001b[0m \u001b[1;33m\u001b[0m\u001b[0m\n\u001b[0;32m      8\u001b[0m \u001b[0mcv\u001b[0m\u001b[1;33m=\u001b[0m\u001b[0mCountVectorizer\u001b[0m\u001b[1;33m(\u001b[0m\u001b[0mmax_df\u001b[0m\u001b[1;33m=\u001b[0m\u001b[1;36m0.8\u001b[0m\u001b[1;33m,\u001b[0m\u001b[0mstop_words\u001b[0m\u001b[1;33m=\u001b[0m\u001b[0mstopwords\u001b[0m\u001b[1;33m,\u001b[0m \u001b[0mmax_features\u001b[0m\u001b[1;33m=\u001b[0m\u001b[1;36m10000\u001b[0m\u001b[1;33m,\u001b[0m \u001b[0mngram_range\u001b[0m\u001b[1;33m=\u001b[0m\u001b[1;33m(\u001b[0m\u001b[1;36m1\u001b[0m\u001b[1;33m,\u001b[0m\u001b[1;36m3\u001b[0m\u001b[1;33m)\u001b[0m\u001b[1;33m)\u001b[0m\u001b[1;33m\u001b[0m\u001b[1;33m\u001b[0m\u001b[0m\n\u001b[1;32m----> 9\u001b[1;33m \u001b[0mX\u001b[0m\u001b[1;33m=\u001b[0m\u001b[0mcv\u001b[0m\u001b[1;33m.\u001b[0m\u001b[0mfit_transform\u001b[0m\u001b[1;33m(\u001b[0m\u001b[1;34m\" \"\u001b[0m\u001b[1;33m.\u001b[0m\u001b[0mjoin\u001b[0m\u001b[1;33m(\u001b[0m\u001b[0mbrown\u001b[0m\u001b[1;33m.\u001b[0m\u001b[0mwords\u001b[0m\u001b[1;33m(\u001b[0m\u001b[1;33m)\u001b[0m\u001b[1;33m)\u001b[0m\u001b[1;33m)\u001b[0m\u001b[1;33m\u001b[0m\u001b[1;33m\u001b[0m\u001b[0m\n\u001b[0m",
      "\u001b[1;32m~\\anaconda3\\lib\\site-packages\\sklearn\\feature_extraction\\text.py\u001b[0m in \u001b[0;36mfit_transform\u001b[1;34m(self, raw_documents, y)\u001b[0m\n\u001b[0;32m   1208\u001b[0m         \u001b[1;32mif\u001b[0m \u001b[0misinstance\u001b[0m\u001b[1;33m(\u001b[0m\u001b[0mraw_documents\u001b[0m\u001b[1;33m,\u001b[0m \u001b[0mstr\u001b[0m\u001b[1;33m)\u001b[0m\u001b[1;33m:\u001b[0m\u001b[1;33m\u001b[0m\u001b[1;33m\u001b[0m\u001b[0m\n\u001b[0;32m   1209\u001b[0m             raise ValueError(\n\u001b[1;32m-> 1210\u001b[1;33m                 \u001b[1;34m\"Iterable over raw text documents expected, \"\u001b[0m\u001b[1;33m\u001b[0m\u001b[1;33m\u001b[0m\u001b[0m\n\u001b[0m\u001b[0;32m   1211\u001b[0m                 \"string object received.\")\n\u001b[0;32m   1212\u001b[0m \u001b[1;33m\u001b[0m\u001b[0m\n",
      "\u001b[1;31mValueError\u001b[0m: Iterable over raw text documents expected, string object received."
     ]
    }
   ],
   "source": [
    "import nltk\n",
    "nltk.download(\"brown\")\n",
    "\n",
    "from sklearn.feature_extraction.text import CountVectorizer\n",
    "from nltk.corpus import stopwords\n",
    "from nltk.corpus import brown\n",
    "\n",
    "cv=CountVectorizer(max_df=0.8,stop_words=stopwords, max_features=10000, ngram_range=(1,3))\n",
    "X=cv.fit_transform(\" \".join(brown.words()))"
   ]
  },
  {
   "cell_type": "code",
   "execution_count": 15,
   "metadata": {},
   "outputs": [
    {
     "ename": "NameError",
     "evalue": "name 'X' is not defined",
     "output_type": "error",
     "traceback": [
      "\u001b[1;31m---------------------------------------------------------------------------\u001b[0m",
      "\u001b[1;31mNameError\u001b[0m                                 Traceback (most recent call last)",
      "\u001b[1;32m<ipython-input-15-96e38fa55bc8>\u001b[0m in \u001b[0;36m<module>\u001b[1;34m\u001b[0m\n\u001b[0;32m      2\u001b[0m \u001b[1;33m\u001b[0m\u001b[0m\n\u001b[0;32m      3\u001b[0m \u001b[0mtfidf_transformer\u001b[0m\u001b[1;33m=\u001b[0m\u001b[0mTfidfTransformer\u001b[0m\u001b[1;33m(\u001b[0m\u001b[0msmooth_idf\u001b[0m\u001b[1;33m=\u001b[0m\u001b[1;32mTrue\u001b[0m\u001b[1;33m,\u001b[0m \u001b[0muse_idf\u001b[0m\u001b[1;33m=\u001b[0m\u001b[1;32mTrue\u001b[0m\u001b[1;33m)\u001b[0m\u001b[1;33m\u001b[0m\u001b[1;33m\u001b[0m\u001b[0m\n\u001b[1;32m----> 4\u001b[1;33m \u001b[0mtfidf_transformer\u001b[0m\u001b[1;33m.\u001b[0m\u001b[0mfit\u001b[0m\u001b[1;33m(\u001b[0m\u001b[0mX\u001b[0m\u001b[1;33m)\u001b[0m\u001b[1;33m\u001b[0m\u001b[1;33m\u001b[0m\u001b[0m\n\u001b[0m\u001b[0;32m      5\u001b[0m \u001b[1;33m\u001b[0m\u001b[0m\n\u001b[0;32m      6\u001b[0m \u001b[1;31m# get feature names\u001b[0m\u001b[1;33m\u001b[0m\u001b[1;33m\u001b[0m\u001b[1;33m\u001b[0m\u001b[0m\n",
      "\u001b[1;31mNameError\u001b[0m: name 'X' is not defined"
     ]
    }
   ],
   "source": [
    "from sklearn.feature_extraction.text import TfidfTransformer\n",
    " \n",
    "tfidf_transformer=TfidfTransformer(smooth_idf=True, use_idf=True)\n",
    "tfidf_transformer.fit(X)\n",
    "\n",
    "# get feature names\n",
    "feature_names=cv.get_feature_names()\n",
    " \n",
    "# fetch document for which keywords needs to be extracted\n",
    "doc = article\n",
    " \n",
    "#generate tf-idf for the given document\n",
    "tf_idf_vector=tfidf_transformer.transform(cv.transform([doc]))"
   ]
  },
  {
   "cell_type": "code",
   "execution_count": null,
   "metadata": {},
   "outputs": [],
   "source": [
    "#Function for sorting tf_idf in descending order\n",
    "from scipy.sparse import coo_matrix\n",
    "def sort_coo(coo_matrix):\n",
    "    tuples = zip(coo_matrix.col, coo_matrix.data)\n",
    "    return sorted(tuples, key=lambda x: (x[1], x[0]), reverse=True)\n",
    " \n",
    "def extract_topn_from_vector(feature_names, sorted_items, topn=10):\n",
    "    \"\"\"get the feature names and tf-idf score of top n items\"\"\"\n",
    "    \n",
    "    #use only topn items from vector\n",
    "    sorted_items = sorted_items[:topn]\n",
    " \n",
    "    score_vals = []\n",
    "    feature_vals = []\n",
    "    \n",
    "    # word index and corresponding tf-idf score\n",
    "    for idx, score in sorted_items:\n",
    "        \n",
    "        #keep track of feature name and its corresponding score\n",
    "        score_vals.append(round(score, 3))\n",
    "        feature_vals.append(feature_names[idx])\n",
    " \n",
    "    #create a tuples of feature,score\n",
    "    #results = zip(feature_vals,score_vals)\n",
    "    results= {}\n",
    "    for idx in range(len(feature_vals)):\n",
    "        results[feature_vals[idx]]=score_vals[idx]\n",
    "    \n",
    "    return results\n",
    "#sort the tf-idf vectors by descending order of scores\n",
    "sorted_items=sort_coo(tf_idf_vector.tocoo())\n",
    "#extract only the top n; n here is 10\n",
    "keywords=extract_topn_from_vector(feature_names,sorted_items,5)\n",
    " \n",
    "# now print the results\n",
    "print(\"\\nAbstract:\")\n",
    "print(doc)\n",
    "print(\"\\nKeywords:\")\n",
    "for k in keywords:\n",
    "    print(k,keywords[k])"
   ]
  },
  {
   "cell_type": "markdown",
   "metadata": {},
   "source": [
    "### Text Summarizer\n",
    "\n",
    "Source Code/Reference: https://glowingpython.blogspot.com/2014/09/text-summarization-with-nltk.html"
   ]
  },
  {
   "cell_type": "code",
   "execution_count": 16,
   "metadata": {},
   "outputs": [
    {
     "name": "stderr",
     "output_type": "stream",
     "text": [
      "[nltk_data] Downloading package stopwords to\n",
      "[nltk_data]     C:\\Users\\tygar\\AppData\\Roaming\\nltk_data...\n",
      "[nltk_data]   Package stopwords is already up-to-date!\n",
      "[nltk_data] Downloading package punkt to\n",
      "[nltk_data]     C:\\Users\\tygar\\AppData\\Roaming\\nltk_data...\n",
      "[nltk_data]   Package punkt is already up-to-date!\n"
     ]
    }
   ],
   "source": [
    "import nltk\n",
    "nltk.download('stopwords')\n",
    "nltk.download('punkt')\n",
    "\n",
    "from nltk.tokenize import sent_tokenize,word_tokenize\n",
    "from nltk.corpus import stopwords\n",
    "from collections import defaultdict\n",
    "from string import punctuation\n",
    "from heapq import nlargest\n",
    "\n",
    "class FrequencySummarizer:\n",
    "    def __init__(self, min_cut=0.05, max_cut=0.9):\n",
    "        \"\"\"\n",
    "         Initilize the text summarizer.\n",
    "         Words that have a frequency term lower than min_cut \n",
    "         or higer than max_cut will be ignored.\n",
    "        \"\"\"\n",
    "        self._min_cut = min_cut\n",
    "        self._max_cut = max_cut \n",
    "        self._stopwords = set(stopwords.words('english') + list(punctuation))\n",
    "\n",
    "    def _compute_frequencies(self, word_sent):\n",
    "        \"\"\" \n",
    "          Compute the frequency of each of word.\n",
    "          Input: \n",
    "           word_sent, a list of sentences already tokenized.\n",
    "          Output: \n",
    "           freq, a dictionary where freq[w] is the frequency of w.\n",
    "        \"\"\"\n",
    "        freq = defaultdict(int)\n",
    "        for s in word_sent:\n",
    "            for word in s:\n",
    "                if word not in self._stopwords:\n",
    "                    freq[word] += 1\n",
    "        # frequencies normalization and fitering\n",
    "        m = float(max(freq.values()))\n",
    "        keys = freq.copy().keys()\n",
    "        for w in keys:\n",
    "            freq[w] = freq[w]/m\n",
    "            if freq[w] >= self._max_cut or freq[w] <= self._min_cut:\n",
    "                del freq[w]\n",
    "        return freq\n",
    "\n",
    "    def summarize(self, text, n):\n",
    "        \"\"\"\n",
    "          Return a list of n sentences \n",
    "          which represent the summary of text.\n",
    "        \"\"\"\n",
    "        sents = sent_tokenize(text)\n",
    "        assert n <= len(sents)\n",
    "        word_sent = [word_tokenize(s.lower()) for s in sents]\n",
    "        self._freq = self._compute_frequencies(word_sent)\n",
    "        ranking = defaultdict(int)\n",
    "        for i,sent in enumerate(word_sent):\n",
    "            for w in sent:\n",
    "                if w in self._freq:\n",
    "                    ranking[i] += self._freq[w]\n",
    "        sents_idx = self._rank(ranking, n)    \n",
    "        return [sents[j] for j in sents_idx]\n",
    "\n",
    "    def _rank(self, ranking, n):\n",
    "        \"\"\" return the first n sentences with highest ranking \"\"\"\n",
    "        return nlargest(n, ranking, key=ranking.get)"
   ]
  },
  {
   "cell_type": "code",
   "execution_count": 17,
   "metadata": {},
   "outputs": [
    {
     "name": "stdout",
     "output_type": "stream",
     "text": [
      "----------------------------------\n",
      "The Use of Computers to Support Oppression (http://www-cs-students.stanford.edu/~cale/cs201/apartheid.comp.html)\n",
      "* Not only did IBM contribute tremendous computing power to the South African apartheid system, but of the fifteen hundred South African workers employed by IBM in 1982, less than 20% were classified as coloured, black or Asian.\n",
      "* One South African described the population register at work as,\n",
      " Where to go from here:\n",
      "\n",
      " \n",
      "\n",
      "The main purpose of the population registry was administration of the influx control system, a system which channeled needed black workers into the labor force to be exploited, and confined others to the desolate homelands.\n",
      "* Computer equipment was also used in the Department of the Prime Minister, the South African Reserve Bank, South Africa's electrical utility, and the Treasury Department.\n",
      "----------------------------------\n",
      "The Open Source Community Is Calling on Github to ‘Drop ICE' (https://www.vice.com/en_us/article/m7jpgy/open-source-community-changing-github-avatars-drop-ice)\n",
      "* has been signed by over 700 people “As a matter of principle, we believe the appropriate way to advocate for our values in a democracy is to use our corporate voice, and not to unplug technology services when government customers use them to do things to which we object,”  Though a simple gesture, the illustration speaks to a growing movement within the open source community calling on Github to cancel its contract with the law enforcement agency.\n",
      "* published an open letter on the platform Siân Griffin has been heavily involved in open source for eight years and decided to use the image as a way to spread word about the issue and “subtly” remind people Github still contracts with ICE.\n",
      "* “America is built on immigrant populations inventing, creating new markets, and pushing the country forward.” “While Github's enterprise offerings may seem fairly benign, I'm sure the  By signing up to the VICE newsletter you agree to receive electronic communications from VICE that may sometimes include advertisements or sponsored content.\n",
      "----------------------------------\n",
      "Protesters boycott Whole Foods over Black Lives Matter mask policy (https://nypost.com/2020/07/06/protesters-boycott-whole-foods-over-black-lives-matter-mask-policy/)\n",
      "* change its policy banning workers from wearing Black Lives Matter masks   Critics are calling on Whole Foods Market to  Days after the initial workers were turned away, more than 20 employees at the Whole Foods walked off the job June 30 in protest of the company’s policy,  190,859 141,234 WHDH reported.\n",
      "* reversed its policy banning Black Lives Matter masks \n",
      "\t\t\t\tYes Please\t\t\t Frith, a seasonal Whole Foods employee of two years, said he was surprised when he and his co-workers were told to leave over the masks, adding that managers have latitude in the policies they enforce, he told the Globe.\n",
      "* July 6, 2020 | 1:54pm \n",
      "\t\t\t\tUS increasing naval presence in South China Sea as check o...\t\t\t Slavick, who lives across the street from the store, used to shop there but is now urging others to stop doing business at the location as he and other boycott organizers handed out contact information for Whole Foods management.\n"
     ]
    }
   ],
   "source": [
    "# Add URLs of articles to summarize to `to_summarize`\n",
    "to_summarize = [\"http://www-cs-students.stanford.edu/~cale/cs201/apartheid.comp.html\",\n",
    "               \"https://www.vice.com/en_us/article/m7jpgy/open-source-community-changing-github-avatars-drop-ice\",\n",
    "               \"https://nypost.com/2020/07/06/protesters-boycott-whole-foods-over-black-lives-matter-mask-policy/\"]\n",
    "\n",
    "fs = FrequencySummarizer()\n",
    "for article_url in to_summarize:\n",
    "    \n",
    "    page = requests.get(article_url)\n",
    "    soup = BeautifulSoup(page.text, \"html.parser\")\n",
    "    \n",
    "    if soup.find(\"img\"):\n",
    "        img_tag = soup.img\n",
    "        img_tag.decompose()\n",
    "    paragraphs = soup.body.find_all(\"p\")\n",
    "    texts = []\n",
    "    for para in paragraphs:\n",
    "        texts.extend(para.find_all(text = True))\n",
    "    texts = set(texts)\n",
    "    article = \" \".join(texts)\n",
    "    \n",
    "    title = soup.title.text\n",
    "    \n",
    "    print('----------------------------------')\n",
    "    print(title + \" (\" + article_url + \")\")\n",
    "    summary = fs.summarize(article, 3)\n",
    "    if summary:\n",
    "        for s in summary:\n",
    "            print('*',s)\n",
    "    else:\n",
    "        print(\"* No summary available.\")"
   ]
  },
  {
   "cell_type": "markdown",
   "metadata": {},
   "source": [
    "## Create Sources & Text DataFrame"
   ]
  },
  {
   "cell_type": "code",
   "execution_count": 18,
   "metadata": {},
   "outputs": [],
   "source": [
    "df[\"sources\"] = df[\"sources\"] = df[\"sources\"].astype(str).str.strip(\"[]\\'\")"
   ]
  },
  {
   "cell_type": "code",
   "execution_count": 19,
   "metadata": {},
   "outputs": [],
   "source": [
    "sources = []\n",
    "for i in df[\"sources\"].unique():\n",
    "    sources.extend(i.split(\", \"))\n",
    "\n",
    "sources = list(set(sources))"
   ]
  },
  {
   "cell_type": "code",
   "execution_count": 20,
   "metadata": {},
   "outputs": [
    {
     "data": {
      "text/html": [
       "<div>\n",
       "<style scoped>\n",
       "    .dataframe tbody tr th:only-of-type {\n",
       "        vertical-align: middle;\n",
       "    }\n",
       "\n",
       "    .dataframe tbody tr th {\n",
       "        vertical-align: top;\n",
       "    }\n",
       "\n",
       "    .dataframe thead th {\n",
       "        text-align: right;\n",
       "    }\n",
       "</style>\n",
       "<table border=\"1\" class=\"dataframe\">\n",
       "  <thead>\n",
       "    <tr style=\"text-align: right;\">\n",
       "      <th></th>\n",
       "      <th>Source</th>\n",
       "    </tr>\n",
       "  </thead>\n",
       "  <tbody>\n",
       "    <tr>\n",
       "      <th>0</th>\n",
       "      <td>'https://fortune.com/2019/09/16/global-climate...</td>\n",
       "    </tr>\n",
       "    <tr>\n",
       "      <th>1</th>\n",
       "      <td>http://www.theinvestor.co.kr/view.php?ud=20180...</td>\n",
       "    </tr>\n",
       "    <tr>\n",
       "      <th>2</th>\n",
       "      <td>'https://twitter.com/IfeomaOzoma/status/127254...</td>\n",
       "    </tr>\n",
       "    <tr>\n",
       "      <th>3</th>\n",
       "      <td>'https://www.vice.com/en_us/article/g5ppqq/ube...</td>\n",
       "    </tr>\n",
       "    <tr>\n",
       "      <th>4</th>\n",
       "      <td>https://medium.com/@fbcontentmods/this-is-a-me...</td>\n",
       "    </tr>\n",
       "  </tbody>\n",
       "</table>\n",
       "</div>"
      ],
      "text/plain": [
       "                                              Source\n",
       "0  'https://fortune.com/2019/09/16/global-climate...\n",
       "1  http://www.theinvestor.co.kr/view.php?ud=20180...\n",
       "2  'https://twitter.com/IfeomaOzoma/status/127254...\n",
       "3  'https://www.vice.com/en_us/article/g5ppqq/ube...\n",
       "4  https://medium.com/@fbcontentmods/this-is-a-me..."
      ]
     },
     "execution_count": 20,
     "metadata": {},
     "output_type": "execute_result"
    }
   ],
   "source": [
    "sources_df = pd.DataFrame({\"Source\": sources})\n",
    "sources_df.head()"
   ]
  },
  {
   "cell_type": "code",
   "execution_count": 21,
   "metadata": {},
   "outputs": [
    {
     "name": "stderr",
     "output_type": "stream",
     "text": [
      "  0%|                                                                                          | 0/521 [00:00<?, ?it/s]\n"
     ]
    },
    {
     "ename": "InvalidSchema",
     "evalue": "No connection adapters were found for ''https://fortune.com/2019/09/16/global-climate-strike-protest-google-amazon-microsoft-walkout'",
     "output_type": "error",
     "traceback": [
      "\u001b[1;31m---------------------------------------------------------------------------\u001b[0m",
      "\u001b[1;31mInvalidSchema\u001b[0m                             Traceback (most recent call last)",
      "\u001b[1;32m<ipython-input-21-3f2d7acd94ec>\u001b[0m in \u001b[0;36m<module>\u001b[1;34m\u001b[0m\n\u001b[0;32m      4\u001b[0m \u001b[1;32mfor\u001b[0m \u001b[0murl\u001b[0m \u001b[1;32min\u001b[0m \u001b[0mtqdm\u001b[0m\u001b[1;33m(\u001b[0m\u001b[0msources_df\u001b[0m\u001b[1;33m[\u001b[0m\u001b[1;34m\"Source\"\u001b[0m\u001b[1;33m]\u001b[0m\u001b[1;33m.\u001b[0m\u001b[0mto_numpy\u001b[0m\u001b[1;33m(\u001b[0m\u001b[1;33m)\u001b[0m\u001b[1;33m)\u001b[0m\u001b[1;33m:\u001b[0m\u001b[1;33m\u001b[0m\u001b[1;33m\u001b[0m\u001b[0m\n\u001b[0;32m      5\u001b[0m     \u001b[1;32mtry\u001b[0m\u001b[1;33m:\u001b[0m\u001b[1;33m\u001b[0m\u001b[1;33m\u001b[0m\u001b[0m\n\u001b[1;32m----> 6\u001b[1;33m         \u001b[0mresp\u001b[0m \u001b[1;33m=\u001b[0m \u001b[0mrequests\u001b[0m\u001b[1;33m.\u001b[0m\u001b[0mget\u001b[0m\u001b[1;33m(\u001b[0m\u001b[0murl\u001b[0m\u001b[1;33m)\u001b[0m\u001b[1;33m\u001b[0m\u001b[1;33m\u001b[0m\u001b[0m\n\u001b[0m\u001b[0;32m      7\u001b[0m         \u001b[0msoup\u001b[0m \u001b[1;33m=\u001b[0m \u001b[0mBeautifulSoup\u001b[0m\u001b[1;33m(\u001b[0m\u001b[0mresp\u001b[0m\u001b[1;33m.\u001b[0m\u001b[0mtext\u001b[0m\u001b[1;33m,\u001b[0m \u001b[1;34m\"html.parser\"\u001b[0m\u001b[1;33m)\u001b[0m\u001b[1;33m\u001b[0m\u001b[1;33m\u001b[0m\u001b[0m\n\u001b[0;32m      8\u001b[0m     \u001b[1;32mexcept\u001b[0m \u001b[0mConnectionError\u001b[0m \u001b[1;32mor\u001b[0m \u001b[0mProtocolError\u001b[0m \u001b[1;32mor\u001b[0m \u001b[0mOSError\u001b[0m\u001b[1;33m:\u001b[0m\u001b[1;33m\u001b[0m\u001b[1;33m\u001b[0m\u001b[0m\n",
      "\u001b[1;32m~\\anaconda3\\lib\\site-packages\\requests\\api.py\u001b[0m in \u001b[0;36mget\u001b[1;34m(url, params, **kwargs)\u001b[0m\n\u001b[0;32m     73\u001b[0m \u001b[1;33m\u001b[0m\u001b[0m\n\u001b[0;32m     74\u001b[0m     \u001b[0mkwargs\u001b[0m\u001b[1;33m.\u001b[0m\u001b[0msetdefault\u001b[0m\u001b[1;33m(\u001b[0m\u001b[1;34m'allow_redirects'\u001b[0m\u001b[1;33m,\u001b[0m \u001b[1;32mTrue\u001b[0m\u001b[1;33m)\u001b[0m\u001b[1;33m\u001b[0m\u001b[1;33m\u001b[0m\u001b[0m\n\u001b[1;32m---> 75\u001b[1;33m     \u001b[1;32mreturn\u001b[0m \u001b[0mrequest\u001b[0m\u001b[1;33m(\u001b[0m\u001b[1;34m'get'\u001b[0m\u001b[1;33m,\u001b[0m \u001b[0murl\u001b[0m\u001b[1;33m,\u001b[0m \u001b[0mparams\u001b[0m\u001b[1;33m=\u001b[0m\u001b[0mparams\u001b[0m\u001b[1;33m,\u001b[0m \u001b[1;33m**\u001b[0m\u001b[0mkwargs\u001b[0m\u001b[1;33m)\u001b[0m\u001b[1;33m\u001b[0m\u001b[1;33m\u001b[0m\u001b[0m\n\u001b[0m\u001b[0;32m     76\u001b[0m \u001b[1;33m\u001b[0m\u001b[0m\n\u001b[0;32m     77\u001b[0m \u001b[1;33m\u001b[0m\u001b[0m\n",
      "\u001b[1;32m~\\anaconda3\\lib\\site-packages\\requests\\api.py\u001b[0m in \u001b[0;36mrequest\u001b[1;34m(method, url, **kwargs)\u001b[0m\n\u001b[0;32m     58\u001b[0m     \u001b[1;31m# cases, and look like a memory leak in others.\u001b[0m\u001b[1;33m\u001b[0m\u001b[1;33m\u001b[0m\u001b[1;33m\u001b[0m\u001b[0m\n\u001b[0;32m     59\u001b[0m     \u001b[1;32mwith\u001b[0m \u001b[0msessions\u001b[0m\u001b[1;33m.\u001b[0m\u001b[0mSession\u001b[0m\u001b[1;33m(\u001b[0m\u001b[1;33m)\u001b[0m \u001b[1;32mas\u001b[0m \u001b[0msession\u001b[0m\u001b[1;33m:\u001b[0m\u001b[1;33m\u001b[0m\u001b[1;33m\u001b[0m\u001b[0m\n\u001b[1;32m---> 60\u001b[1;33m         \u001b[1;32mreturn\u001b[0m \u001b[0msession\u001b[0m\u001b[1;33m.\u001b[0m\u001b[0mrequest\u001b[0m\u001b[1;33m(\u001b[0m\u001b[0mmethod\u001b[0m\u001b[1;33m=\u001b[0m\u001b[0mmethod\u001b[0m\u001b[1;33m,\u001b[0m \u001b[0murl\u001b[0m\u001b[1;33m=\u001b[0m\u001b[0murl\u001b[0m\u001b[1;33m,\u001b[0m \u001b[1;33m**\u001b[0m\u001b[0mkwargs\u001b[0m\u001b[1;33m)\u001b[0m\u001b[1;33m\u001b[0m\u001b[1;33m\u001b[0m\u001b[0m\n\u001b[0m\u001b[0;32m     61\u001b[0m \u001b[1;33m\u001b[0m\u001b[0m\n\u001b[0;32m     62\u001b[0m \u001b[1;33m\u001b[0m\u001b[0m\n",
      "\u001b[1;32m~\\anaconda3\\lib\\site-packages\\requests\\sessions.py\u001b[0m in \u001b[0;36mrequest\u001b[1;34m(self, method, url, params, data, headers, cookies, files, auth, timeout, allow_redirects, proxies, hooks, stream, verify, cert, json)\u001b[0m\n\u001b[0;32m    531\u001b[0m         }\n\u001b[0;32m    532\u001b[0m         \u001b[0msend_kwargs\u001b[0m\u001b[1;33m.\u001b[0m\u001b[0mupdate\u001b[0m\u001b[1;33m(\u001b[0m\u001b[0msettings\u001b[0m\u001b[1;33m)\u001b[0m\u001b[1;33m\u001b[0m\u001b[1;33m\u001b[0m\u001b[0m\n\u001b[1;32m--> 533\u001b[1;33m         \u001b[0mresp\u001b[0m \u001b[1;33m=\u001b[0m \u001b[0mself\u001b[0m\u001b[1;33m.\u001b[0m\u001b[0msend\u001b[0m\u001b[1;33m(\u001b[0m\u001b[0mprep\u001b[0m\u001b[1;33m,\u001b[0m \u001b[1;33m**\u001b[0m\u001b[0msend_kwargs\u001b[0m\u001b[1;33m)\u001b[0m\u001b[1;33m\u001b[0m\u001b[1;33m\u001b[0m\u001b[0m\n\u001b[0m\u001b[0;32m    534\u001b[0m \u001b[1;33m\u001b[0m\u001b[0m\n\u001b[0;32m    535\u001b[0m         \u001b[1;32mreturn\u001b[0m \u001b[0mresp\u001b[0m\u001b[1;33m\u001b[0m\u001b[1;33m\u001b[0m\u001b[0m\n",
      "\u001b[1;32m~\\anaconda3\\lib\\site-packages\\requests\\sessions.py\u001b[0m in \u001b[0;36msend\u001b[1;34m(self, request, **kwargs)\u001b[0m\n\u001b[0;32m    638\u001b[0m \u001b[1;33m\u001b[0m\u001b[0m\n\u001b[0;32m    639\u001b[0m         \u001b[1;31m# Get the appropriate adapter to use\u001b[0m\u001b[1;33m\u001b[0m\u001b[1;33m\u001b[0m\u001b[1;33m\u001b[0m\u001b[0m\n\u001b[1;32m--> 640\u001b[1;33m         \u001b[0madapter\u001b[0m \u001b[1;33m=\u001b[0m \u001b[0mself\u001b[0m\u001b[1;33m.\u001b[0m\u001b[0mget_adapter\u001b[0m\u001b[1;33m(\u001b[0m\u001b[0murl\u001b[0m\u001b[1;33m=\u001b[0m\u001b[0mrequest\u001b[0m\u001b[1;33m.\u001b[0m\u001b[0murl\u001b[0m\u001b[1;33m)\u001b[0m\u001b[1;33m\u001b[0m\u001b[1;33m\u001b[0m\u001b[0m\n\u001b[0m\u001b[0;32m    641\u001b[0m \u001b[1;33m\u001b[0m\u001b[0m\n\u001b[0;32m    642\u001b[0m         \u001b[1;31m# Start time (approximately) of the request\u001b[0m\u001b[1;33m\u001b[0m\u001b[1;33m\u001b[0m\u001b[1;33m\u001b[0m\u001b[0m\n",
      "\u001b[1;32m~\\anaconda3\\lib\\site-packages\\requests\\sessions.py\u001b[0m in \u001b[0;36mget_adapter\u001b[1;34m(self, url)\u001b[0m\n\u001b[0;32m    729\u001b[0m \u001b[1;33m\u001b[0m\u001b[0m\n\u001b[0;32m    730\u001b[0m         \u001b[1;31m# Nothing matches :-/\u001b[0m\u001b[1;33m\u001b[0m\u001b[1;33m\u001b[0m\u001b[1;33m\u001b[0m\u001b[0m\n\u001b[1;32m--> 731\u001b[1;33m         \u001b[1;32mraise\u001b[0m \u001b[0mInvalidSchema\u001b[0m\u001b[1;33m(\u001b[0m\u001b[1;34m\"No connection adapters were found for '%s'\"\u001b[0m \u001b[1;33m%\u001b[0m \u001b[0murl\u001b[0m\u001b[1;33m)\u001b[0m\u001b[1;33m\u001b[0m\u001b[1;33m\u001b[0m\u001b[0m\n\u001b[0m\u001b[0;32m    732\u001b[0m \u001b[1;33m\u001b[0m\u001b[0m\n\u001b[0;32m    733\u001b[0m     \u001b[1;32mdef\u001b[0m \u001b[0mclose\u001b[0m\u001b[1;33m(\u001b[0m\u001b[0mself\u001b[0m\u001b[1;33m)\u001b[0m\u001b[1;33m:\u001b[0m\u001b[1;33m\u001b[0m\u001b[1;33m\u001b[0m\u001b[0m\n",
      "\u001b[1;31mInvalidSchema\u001b[0m: No connection adapters were found for ''https://fortune.com/2019/09/16/global-climate-strike-protest-google-amazon-microsoft-walkout'"
     ]
    }
   ],
   "source": [
    "from tqdm import tqdm\n",
    "\n",
    "texts = []\n",
    "for url in tqdm(sources_df[\"Source\"].to_numpy()):\n",
    "    try:\n",
    "        resp = requests.get(url)\n",
    "        soup = BeautifulSoup(resp.text, \"html.parser\")\n",
    "    except ConnectionError or ProtocolError or OSError:\n",
    "        soup = \"None\"\n",
    "        \n",
    "    texts.append(soup)\n",
    "    \n",
    "print(len(sources), len(texts))"
   ]
  },
  {
   "cell_type": "code",
   "execution_count": 16,
   "metadata": {},
   "outputs": [
    {
     "data": {
      "text/plain": [
       "'http://wiki.wearedynamo.org/index.php/guidelines_for_academic_requesters'"
      ]
     },
     "execution_count": 16,
     "metadata": {},
     "output_type": "execute_result"
    }
   ],
   "source": [
    "# Problem URL\n",
    "sources[175]\n",
    "\n",
    "# Figure out how to define a time-out/connection fail situation (Text will be \"Null\")"
   ]
  },
  {
   "cell_type": "code",
   "execution_count": 40,
   "metadata": {},
   "outputs": [
    {
     "ename": "ConnectionError",
     "evalue": "('Connection aborted.', OSError(\"(10060, 'WSAETIMEDOUT')\"))",
     "output_type": "error",
     "traceback": [
      "\u001b[1;31m---------------------------------------------------------------------------\u001b[0m",
      "\u001b[1;31mOSError\u001b[0m                                   Traceback (most recent call last)",
      "\u001b[1;32m~\\Anaconda3\\lib\\site-packages\\urllib3\\connectionpool.py\u001b[0m in \u001b[0;36murlopen\u001b[1;34m(self, method, url, body, headers, retries, redirect, assert_same_host, timeout, pool_timeout, release_conn, chunked, body_pos, **response_kw)\u001b[0m\n\u001b[0;32m    599\u001b[0m                                                   \u001b[0mbody\u001b[0m\u001b[1;33m=\u001b[0m\u001b[0mbody\u001b[0m\u001b[1;33m,\u001b[0m \u001b[0mheaders\u001b[0m\u001b[1;33m=\u001b[0m\u001b[0mheaders\u001b[0m\u001b[1;33m,\u001b[0m\u001b[1;33m\u001b[0m\u001b[1;33m\u001b[0m\u001b[0m\n\u001b[1;32m--> 600\u001b[1;33m                                                   chunked=chunked)\n\u001b[0m\u001b[0;32m    601\u001b[0m \u001b[1;33m\u001b[0m\u001b[0m\n",
      "\u001b[1;32m~\\Anaconda3\\lib\\site-packages\\urllib3\\connectionpool.py\u001b[0m in \u001b[0;36m_make_request\u001b[1;34m(self, conn, method, url, timeout, chunked, **httplib_request_kw)\u001b[0m\n\u001b[0;32m    383\u001b[0m                     \u001b[1;31m# otherwise it looks like a programming error was the cause.\u001b[0m\u001b[1;33m\u001b[0m\u001b[1;33m\u001b[0m\u001b[1;33m\u001b[0m\u001b[0m\n\u001b[1;32m--> 384\u001b[1;33m                     \u001b[0msix\u001b[0m\u001b[1;33m.\u001b[0m\u001b[0mraise_from\u001b[0m\u001b[1;33m(\u001b[0m\u001b[0me\u001b[0m\u001b[1;33m,\u001b[0m \u001b[1;32mNone\u001b[0m\u001b[1;33m)\u001b[0m\u001b[1;33m\u001b[0m\u001b[1;33m\u001b[0m\u001b[0m\n\u001b[0m\u001b[0;32m    385\u001b[0m         \u001b[1;32mexcept\u001b[0m \u001b[1;33m(\u001b[0m\u001b[0mSocketTimeout\u001b[0m\u001b[1;33m,\u001b[0m \u001b[0mBaseSSLError\u001b[0m\u001b[1;33m,\u001b[0m \u001b[0mSocketError\u001b[0m\u001b[1;33m)\u001b[0m \u001b[1;32mas\u001b[0m \u001b[0me\u001b[0m\u001b[1;33m:\u001b[0m\u001b[1;33m\u001b[0m\u001b[1;33m\u001b[0m\u001b[0m\n",
      "\u001b[1;32m~\\Anaconda3\\lib\\site-packages\\urllib3\\packages\\six.py\u001b[0m in \u001b[0;36mraise_from\u001b[1;34m(value, from_value)\u001b[0m\n",
      "\u001b[1;32m~\\Anaconda3\\lib\\site-packages\\urllib3\\connectionpool.py\u001b[0m in \u001b[0;36m_make_request\u001b[1;34m(self, conn, method, url, timeout, chunked, **httplib_request_kw)\u001b[0m\n\u001b[0;32m    379\u001b[0m                 \u001b[1;32mtry\u001b[0m\u001b[1;33m:\u001b[0m\u001b[1;33m\u001b[0m\u001b[1;33m\u001b[0m\u001b[0m\n\u001b[1;32m--> 380\u001b[1;33m                     \u001b[0mhttplib_response\u001b[0m \u001b[1;33m=\u001b[0m \u001b[0mconn\u001b[0m\u001b[1;33m.\u001b[0m\u001b[0mgetresponse\u001b[0m\u001b[1;33m(\u001b[0m\u001b[1;33m)\u001b[0m\u001b[1;33m\u001b[0m\u001b[1;33m\u001b[0m\u001b[0m\n\u001b[0m\u001b[0;32m    381\u001b[0m                 \u001b[1;32mexcept\u001b[0m \u001b[0mException\u001b[0m \u001b[1;32mas\u001b[0m \u001b[0me\u001b[0m\u001b[1;33m:\u001b[0m\u001b[1;33m\u001b[0m\u001b[1;33m\u001b[0m\u001b[0m\n",
      "\u001b[1;32m~\\Anaconda3\\lib\\http\\client.py\u001b[0m in \u001b[0;36mgetresponse\u001b[1;34m(self)\u001b[0m\n\u001b[0;32m   1335\u001b[0m             \u001b[1;32mtry\u001b[0m\u001b[1;33m:\u001b[0m\u001b[1;33m\u001b[0m\u001b[1;33m\u001b[0m\u001b[0m\n\u001b[1;32m-> 1336\u001b[1;33m                 \u001b[0mresponse\u001b[0m\u001b[1;33m.\u001b[0m\u001b[0mbegin\u001b[0m\u001b[1;33m(\u001b[0m\u001b[1;33m)\u001b[0m\u001b[1;33m\u001b[0m\u001b[1;33m\u001b[0m\u001b[0m\n\u001b[0m\u001b[0;32m   1337\u001b[0m             \u001b[1;32mexcept\u001b[0m \u001b[0mConnectionError\u001b[0m\u001b[1;33m:\u001b[0m\u001b[1;33m\u001b[0m\u001b[1;33m\u001b[0m\u001b[0m\n",
      "\u001b[1;32m~\\Anaconda3\\lib\\http\\client.py\u001b[0m in \u001b[0;36mbegin\u001b[1;34m(self)\u001b[0m\n\u001b[0;32m    305\u001b[0m         \u001b[1;32mwhile\u001b[0m \u001b[1;32mTrue\u001b[0m\u001b[1;33m:\u001b[0m\u001b[1;33m\u001b[0m\u001b[1;33m\u001b[0m\u001b[0m\n\u001b[1;32m--> 306\u001b[1;33m             \u001b[0mversion\u001b[0m\u001b[1;33m,\u001b[0m \u001b[0mstatus\u001b[0m\u001b[1;33m,\u001b[0m \u001b[0mreason\u001b[0m \u001b[1;33m=\u001b[0m \u001b[0mself\u001b[0m\u001b[1;33m.\u001b[0m\u001b[0m_read_status\u001b[0m\u001b[1;33m(\u001b[0m\u001b[1;33m)\u001b[0m\u001b[1;33m\u001b[0m\u001b[1;33m\u001b[0m\u001b[0m\n\u001b[0m\u001b[0;32m    307\u001b[0m             \u001b[1;32mif\u001b[0m \u001b[0mstatus\u001b[0m \u001b[1;33m!=\u001b[0m \u001b[0mCONTINUE\u001b[0m\u001b[1;33m:\u001b[0m\u001b[1;33m\u001b[0m\u001b[1;33m\u001b[0m\u001b[0m\n",
      "\u001b[1;32m~\\Anaconda3\\lib\\http\\client.py\u001b[0m in \u001b[0;36m_read_status\u001b[1;34m(self)\u001b[0m\n\u001b[0;32m    266\u001b[0m     \u001b[1;32mdef\u001b[0m \u001b[0m_read_status\u001b[0m\u001b[1;33m(\u001b[0m\u001b[0mself\u001b[0m\u001b[1;33m)\u001b[0m\u001b[1;33m:\u001b[0m\u001b[1;33m\u001b[0m\u001b[1;33m\u001b[0m\u001b[0m\n\u001b[1;32m--> 267\u001b[1;33m         \u001b[0mline\u001b[0m \u001b[1;33m=\u001b[0m \u001b[0mstr\u001b[0m\u001b[1;33m(\u001b[0m\u001b[0mself\u001b[0m\u001b[1;33m.\u001b[0m\u001b[0mfp\u001b[0m\u001b[1;33m.\u001b[0m\u001b[0mreadline\u001b[0m\u001b[1;33m(\u001b[0m\u001b[0m_MAXLINE\u001b[0m \u001b[1;33m+\u001b[0m \u001b[1;36m1\u001b[0m\u001b[1;33m)\u001b[0m\u001b[1;33m,\u001b[0m \u001b[1;34m\"iso-8859-1\"\u001b[0m\u001b[1;33m)\u001b[0m\u001b[1;33m\u001b[0m\u001b[1;33m\u001b[0m\u001b[0m\n\u001b[0m\u001b[0;32m    268\u001b[0m         \u001b[1;32mif\u001b[0m \u001b[0mlen\u001b[0m\u001b[1;33m(\u001b[0m\u001b[0mline\u001b[0m\u001b[1;33m)\u001b[0m \u001b[1;33m>\u001b[0m \u001b[0m_MAXLINE\u001b[0m\u001b[1;33m:\u001b[0m\u001b[1;33m\u001b[0m\u001b[1;33m\u001b[0m\u001b[0m\n",
      "\u001b[1;32m~\\Anaconda3\\lib\\socket.py\u001b[0m in \u001b[0;36mreadinto\u001b[1;34m(self, b)\u001b[0m\n\u001b[0;32m    588\u001b[0m             \u001b[1;32mtry\u001b[0m\u001b[1;33m:\u001b[0m\u001b[1;33m\u001b[0m\u001b[1;33m\u001b[0m\u001b[0m\n\u001b[1;32m--> 589\u001b[1;33m                 \u001b[1;32mreturn\u001b[0m \u001b[0mself\u001b[0m\u001b[1;33m.\u001b[0m\u001b[0m_sock\u001b[0m\u001b[1;33m.\u001b[0m\u001b[0mrecv_into\u001b[0m\u001b[1;33m(\u001b[0m\u001b[0mb\u001b[0m\u001b[1;33m)\u001b[0m\u001b[1;33m\u001b[0m\u001b[1;33m\u001b[0m\u001b[0m\n\u001b[0m\u001b[0;32m    590\u001b[0m             \u001b[1;32mexcept\u001b[0m \u001b[0mtimeout\u001b[0m\u001b[1;33m:\u001b[0m\u001b[1;33m\u001b[0m\u001b[1;33m\u001b[0m\u001b[0m\n",
      "\u001b[1;32m~\\Anaconda3\\lib\\site-packages\\urllib3\\contrib\\pyopenssl.py\u001b[0m in \u001b[0;36mrecv_into\u001b[1;34m(self, *args, **kwargs)\u001b[0m\n\u001b[0;32m    301\u001b[0m             \u001b[1;32melse\u001b[0m\u001b[1;33m:\u001b[0m\u001b[1;33m\u001b[0m\u001b[1;33m\u001b[0m\u001b[0m\n\u001b[1;32m--> 302\u001b[1;33m                 \u001b[1;32mraise\u001b[0m \u001b[0mSocketError\u001b[0m\u001b[1;33m(\u001b[0m\u001b[0mstr\u001b[0m\u001b[1;33m(\u001b[0m\u001b[0me\u001b[0m\u001b[1;33m)\u001b[0m\u001b[1;33m)\u001b[0m\u001b[1;33m\u001b[0m\u001b[1;33m\u001b[0m\u001b[0m\n\u001b[0m\u001b[0;32m    303\u001b[0m         \u001b[1;32mexcept\u001b[0m \u001b[0mOpenSSL\u001b[0m\u001b[1;33m.\u001b[0m\u001b[0mSSL\u001b[0m\u001b[1;33m.\u001b[0m\u001b[0mZeroReturnError\u001b[0m \u001b[1;32mas\u001b[0m \u001b[0me\u001b[0m\u001b[1;33m:\u001b[0m\u001b[1;33m\u001b[0m\u001b[1;33m\u001b[0m\u001b[0m\n",
      "\u001b[1;31mOSError\u001b[0m: (10060, 'WSAETIMEDOUT')",
      "\nDuring handling of the above exception, another exception occurred:\n",
      "\u001b[1;31mProtocolError\u001b[0m                             Traceback (most recent call last)",
      "\u001b[1;32m~\\Anaconda3\\lib\\site-packages\\requests\\adapters.py\u001b[0m in \u001b[0;36msend\u001b[1;34m(self, request, stream, timeout, verify, cert, proxies)\u001b[0m\n\u001b[0;32m    448\u001b[0m                     \u001b[0mretries\u001b[0m\u001b[1;33m=\u001b[0m\u001b[0mself\u001b[0m\u001b[1;33m.\u001b[0m\u001b[0mmax_retries\u001b[0m\u001b[1;33m,\u001b[0m\u001b[1;33m\u001b[0m\u001b[1;33m\u001b[0m\u001b[0m\n\u001b[1;32m--> 449\u001b[1;33m                     \u001b[0mtimeout\u001b[0m\u001b[1;33m=\u001b[0m\u001b[0mtimeout\u001b[0m\u001b[1;33m\u001b[0m\u001b[1;33m\u001b[0m\u001b[0m\n\u001b[0m\u001b[0;32m    450\u001b[0m                 )\n",
      "\u001b[1;32m~\\Anaconda3\\lib\\site-packages\\urllib3\\connectionpool.py\u001b[0m in \u001b[0;36murlopen\u001b[1;34m(self, method, url, body, headers, retries, redirect, assert_same_host, timeout, pool_timeout, release_conn, chunked, body_pos, **response_kw)\u001b[0m\n\u001b[0;32m    637\u001b[0m             retries = retries.increment(method, url, error=e, _pool=self,\n\u001b[1;32m--> 638\u001b[1;33m                                         _stacktrace=sys.exc_info()[2])\n\u001b[0m\u001b[0;32m    639\u001b[0m             \u001b[0mretries\u001b[0m\u001b[1;33m.\u001b[0m\u001b[0msleep\u001b[0m\u001b[1;33m(\u001b[0m\u001b[1;33m)\u001b[0m\u001b[1;33m\u001b[0m\u001b[1;33m\u001b[0m\u001b[0m\n",
      "\u001b[1;32m~\\Anaconda3\\lib\\site-packages\\urllib3\\util\\retry.py\u001b[0m in \u001b[0;36mincrement\u001b[1;34m(self, method, url, response, error, _pool, _stacktrace)\u001b[0m\n\u001b[0;32m    367\u001b[0m             \u001b[1;32mif\u001b[0m \u001b[0mread\u001b[0m \u001b[1;32mis\u001b[0m \u001b[1;32mFalse\u001b[0m \u001b[1;32mor\u001b[0m \u001b[1;32mnot\u001b[0m \u001b[0mself\u001b[0m\u001b[1;33m.\u001b[0m\u001b[0m_is_method_retryable\u001b[0m\u001b[1;33m(\u001b[0m\u001b[0mmethod\u001b[0m\u001b[1;33m)\u001b[0m\u001b[1;33m:\u001b[0m\u001b[1;33m\u001b[0m\u001b[1;33m\u001b[0m\u001b[0m\n\u001b[1;32m--> 368\u001b[1;33m                 \u001b[1;32mraise\u001b[0m \u001b[0msix\u001b[0m\u001b[1;33m.\u001b[0m\u001b[0mreraise\u001b[0m\u001b[1;33m(\u001b[0m\u001b[0mtype\u001b[0m\u001b[1;33m(\u001b[0m\u001b[0merror\u001b[0m\u001b[1;33m)\u001b[0m\u001b[1;33m,\u001b[0m \u001b[0merror\u001b[0m\u001b[1;33m,\u001b[0m \u001b[0m_stacktrace\u001b[0m\u001b[1;33m)\u001b[0m\u001b[1;33m\u001b[0m\u001b[1;33m\u001b[0m\u001b[0m\n\u001b[0m\u001b[0;32m    369\u001b[0m             \u001b[1;32melif\u001b[0m \u001b[0mread\u001b[0m \u001b[1;32mis\u001b[0m \u001b[1;32mnot\u001b[0m \u001b[1;32mNone\u001b[0m\u001b[1;33m:\u001b[0m\u001b[1;33m\u001b[0m\u001b[1;33m\u001b[0m\u001b[0m\n",
      "\u001b[1;32m~\\Anaconda3\\lib\\site-packages\\urllib3\\packages\\six.py\u001b[0m in \u001b[0;36mreraise\u001b[1;34m(tp, value, tb)\u001b[0m\n\u001b[0;32m    684\u001b[0m         \u001b[1;32mif\u001b[0m \u001b[0mvalue\u001b[0m\u001b[1;33m.\u001b[0m\u001b[0m__traceback__\u001b[0m \u001b[1;32mis\u001b[0m \u001b[1;32mnot\u001b[0m \u001b[0mtb\u001b[0m\u001b[1;33m:\u001b[0m\u001b[1;33m\u001b[0m\u001b[1;33m\u001b[0m\u001b[0m\n\u001b[1;32m--> 685\u001b[1;33m             \u001b[1;32mraise\u001b[0m \u001b[0mvalue\u001b[0m\u001b[1;33m.\u001b[0m\u001b[0mwith_traceback\u001b[0m\u001b[1;33m(\u001b[0m\u001b[0mtb\u001b[0m\u001b[1;33m)\u001b[0m\u001b[1;33m\u001b[0m\u001b[1;33m\u001b[0m\u001b[0m\n\u001b[0m\u001b[0;32m    686\u001b[0m         \u001b[1;32mraise\u001b[0m \u001b[0mvalue\u001b[0m\u001b[1;33m\u001b[0m\u001b[1;33m\u001b[0m\u001b[0m\n",
      "\u001b[1;32m~\\Anaconda3\\lib\\site-packages\\urllib3\\connectionpool.py\u001b[0m in \u001b[0;36murlopen\u001b[1;34m(self, method, url, body, headers, retries, redirect, assert_same_host, timeout, pool_timeout, release_conn, chunked, body_pos, **response_kw)\u001b[0m\n\u001b[0;32m    599\u001b[0m                                                   \u001b[0mbody\u001b[0m\u001b[1;33m=\u001b[0m\u001b[0mbody\u001b[0m\u001b[1;33m,\u001b[0m \u001b[0mheaders\u001b[0m\u001b[1;33m=\u001b[0m\u001b[0mheaders\u001b[0m\u001b[1;33m,\u001b[0m\u001b[1;33m\u001b[0m\u001b[1;33m\u001b[0m\u001b[0m\n\u001b[1;32m--> 600\u001b[1;33m                                                   chunked=chunked)\n\u001b[0m\u001b[0;32m    601\u001b[0m \u001b[1;33m\u001b[0m\u001b[0m\n",
      "\u001b[1;32m~\\Anaconda3\\lib\\site-packages\\urllib3\\connectionpool.py\u001b[0m in \u001b[0;36m_make_request\u001b[1;34m(self, conn, method, url, timeout, chunked, **httplib_request_kw)\u001b[0m\n\u001b[0;32m    383\u001b[0m                     \u001b[1;31m# otherwise it looks like a programming error was the cause.\u001b[0m\u001b[1;33m\u001b[0m\u001b[1;33m\u001b[0m\u001b[1;33m\u001b[0m\u001b[0m\n\u001b[1;32m--> 384\u001b[1;33m                     \u001b[0msix\u001b[0m\u001b[1;33m.\u001b[0m\u001b[0mraise_from\u001b[0m\u001b[1;33m(\u001b[0m\u001b[0me\u001b[0m\u001b[1;33m,\u001b[0m \u001b[1;32mNone\u001b[0m\u001b[1;33m)\u001b[0m\u001b[1;33m\u001b[0m\u001b[1;33m\u001b[0m\u001b[0m\n\u001b[0m\u001b[0;32m    385\u001b[0m         \u001b[1;32mexcept\u001b[0m \u001b[1;33m(\u001b[0m\u001b[0mSocketTimeout\u001b[0m\u001b[1;33m,\u001b[0m \u001b[0mBaseSSLError\u001b[0m\u001b[1;33m,\u001b[0m \u001b[0mSocketError\u001b[0m\u001b[1;33m)\u001b[0m \u001b[1;32mas\u001b[0m \u001b[0me\u001b[0m\u001b[1;33m:\u001b[0m\u001b[1;33m\u001b[0m\u001b[1;33m\u001b[0m\u001b[0m\n",
      "\u001b[1;32m~\\Anaconda3\\lib\\site-packages\\urllib3\\packages\\six.py\u001b[0m in \u001b[0;36mraise_from\u001b[1;34m(value, from_value)\u001b[0m\n",
      "\u001b[1;32m~\\Anaconda3\\lib\\site-packages\\urllib3\\connectionpool.py\u001b[0m in \u001b[0;36m_make_request\u001b[1;34m(self, conn, method, url, timeout, chunked, **httplib_request_kw)\u001b[0m\n\u001b[0;32m    379\u001b[0m                 \u001b[1;32mtry\u001b[0m\u001b[1;33m:\u001b[0m\u001b[1;33m\u001b[0m\u001b[1;33m\u001b[0m\u001b[0m\n\u001b[1;32m--> 380\u001b[1;33m                     \u001b[0mhttplib_response\u001b[0m \u001b[1;33m=\u001b[0m \u001b[0mconn\u001b[0m\u001b[1;33m.\u001b[0m\u001b[0mgetresponse\u001b[0m\u001b[1;33m(\u001b[0m\u001b[1;33m)\u001b[0m\u001b[1;33m\u001b[0m\u001b[1;33m\u001b[0m\u001b[0m\n\u001b[0m\u001b[0;32m    381\u001b[0m                 \u001b[1;32mexcept\u001b[0m \u001b[0mException\u001b[0m \u001b[1;32mas\u001b[0m \u001b[0me\u001b[0m\u001b[1;33m:\u001b[0m\u001b[1;33m\u001b[0m\u001b[1;33m\u001b[0m\u001b[0m\n",
      "\u001b[1;32m~\\Anaconda3\\lib\\http\\client.py\u001b[0m in \u001b[0;36mgetresponse\u001b[1;34m(self)\u001b[0m\n\u001b[0;32m   1335\u001b[0m             \u001b[1;32mtry\u001b[0m\u001b[1;33m:\u001b[0m\u001b[1;33m\u001b[0m\u001b[1;33m\u001b[0m\u001b[0m\n\u001b[1;32m-> 1336\u001b[1;33m                 \u001b[0mresponse\u001b[0m\u001b[1;33m.\u001b[0m\u001b[0mbegin\u001b[0m\u001b[1;33m(\u001b[0m\u001b[1;33m)\u001b[0m\u001b[1;33m\u001b[0m\u001b[1;33m\u001b[0m\u001b[0m\n\u001b[0m\u001b[0;32m   1337\u001b[0m             \u001b[1;32mexcept\u001b[0m \u001b[0mConnectionError\u001b[0m\u001b[1;33m:\u001b[0m\u001b[1;33m\u001b[0m\u001b[1;33m\u001b[0m\u001b[0m\n",
      "\u001b[1;32m~\\Anaconda3\\lib\\http\\client.py\u001b[0m in \u001b[0;36mbegin\u001b[1;34m(self)\u001b[0m\n\u001b[0;32m    305\u001b[0m         \u001b[1;32mwhile\u001b[0m \u001b[1;32mTrue\u001b[0m\u001b[1;33m:\u001b[0m\u001b[1;33m\u001b[0m\u001b[1;33m\u001b[0m\u001b[0m\n\u001b[1;32m--> 306\u001b[1;33m             \u001b[0mversion\u001b[0m\u001b[1;33m,\u001b[0m \u001b[0mstatus\u001b[0m\u001b[1;33m,\u001b[0m \u001b[0mreason\u001b[0m \u001b[1;33m=\u001b[0m \u001b[0mself\u001b[0m\u001b[1;33m.\u001b[0m\u001b[0m_read_status\u001b[0m\u001b[1;33m(\u001b[0m\u001b[1;33m)\u001b[0m\u001b[1;33m\u001b[0m\u001b[1;33m\u001b[0m\u001b[0m\n\u001b[0m\u001b[0;32m    307\u001b[0m             \u001b[1;32mif\u001b[0m \u001b[0mstatus\u001b[0m \u001b[1;33m!=\u001b[0m \u001b[0mCONTINUE\u001b[0m\u001b[1;33m:\u001b[0m\u001b[1;33m\u001b[0m\u001b[1;33m\u001b[0m\u001b[0m\n",
      "\u001b[1;32m~\\Anaconda3\\lib\\http\\client.py\u001b[0m in \u001b[0;36m_read_status\u001b[1;34m(self)\u001b[0m\n\u001b[0;32m    266\u001b[0m     \u001b[1;32mdef\u001b[0m \u001b[0m_read_status\u001b[0m\u001b[1;33m(\u001b[0m\u001b[0mself\u001b[0m\u001b[1;33m)\u001b[0m\u001b[1;33m:\u001b[0m\u001b[1;33m\u001b[0m\u001b[1;33m\u001b[0m\u001b[0m\n\u001b[1;32m--> 267\u001b[1;33m         \u001b[0mline\u001b[0m \u001b[1;33m=\u001b[0m \u001b[0mstr\u001b[0m\u001b[1;33m(\u001b[0m\u001b[0mself\u001b[0m\u001b[1;33m.\u001b[0m\u001b[0mfp\u001b[0m\u001b[1;33m.\u001b[0m\u001b[0mreadline\u001b[0m\u001b[1;33m(\u001b[0m\u001b[0m_MAXLINE\u001b[0m \u001b[1;33m+\u001b[0m \u001b[1;36m1\u001b[0m\u001b[1;33m)\u001b[0m\u001b[1;33m,\u001b[0m \u001b[1;34m\"iso-8859-1\"\u001b[0m\u001b[1;33m)\u001b[0m\u001b[1;33m\u001b[0m\u001b[1;33m\u001b[0m\u001b[0m\n\u001b[0m\u001b[0;32m    268\u001b[0m         \u001b[1;32mif\u001b[0m \u001b[0mlen\u001b[0m\u001b[1;33m(\u001b[0m\u001b[0mline\u001b[0m\u001b[1;33m)\u001b[0m \u001b[1;33m>\u001b[0m \u001b[0m_MAXLINE\u001b[0m\u001b[1;33m:\u001b[0m\u001b[1;33m\u001b[0m\u001b[1;33m\u001b[0m\u001b[0m\n",
      "\u001b[1;32m~\\Anaconda3\\lib\\socket.py\u001b[0m in \u001b[0;36mreadinto\u001b[1;34m(self, b)\u001b[0m\n\u001b[0;32m    588\u001b[0m             \u001b[1;32mtry\u001b[0m\u001b[1;33m:\u001b[0m\u001b[1;33m\u001b[0m\u001b[1;33m\u001b[0m\u001b[0m\n\u001b[1;32m--> 589\u001b[1;33m                 \u001b[1;32mreturn\u001b[0m \u001b[0mself\u001b[0m\u001b[1;33m.\u001b[0m\u001b[0m_sock\u001b[0m\u001b[1;33m.\u001b[0m\u001b[0mrecv_into\u001b[0m\u001b[1;33m(\u001b[0m\u001b[0mb\u001b[0m\u001b[1;33m)\u001b[0m\u001b[1;33m\u001b[0m\u001b[1;33m\u001b[0m\u001b[0m\n\u001b[0m\u001b[0;32m    590\u001b[0m             \u001b[1;32mexcept\u001b[0m \u001b[0mtimeout\u001b[0m\u001b[1;33m:\u001b[0m\u001b[1;33m\u001b[0m\u001b[1;33m\u001b[0m\u001b[0m\n",
      "\u001b[1;32m~\\Anaconda3\\lib\\site-packages\\urllib3\\contrib\\pyopenssl.py\u001b[0m in \u001b[0;36mrecv_into\u001b[1;34m(self, *args, **kwargs)\u001b[0m\n\u001b[0;32m    301\u001b[0m             \u001b[1;32melse\u001b[0m\u001b[1;33m:\u001b[0m\u001b[1;33m\u001b[0m\u001b[1;33m\u001b[0m\u001b[0m\n\u001b[1;32m--> 302\u001b[1;33m                 \u001b[1;32mraise\u001b[0m \u001b[0mSocketError\u001b[0m\u001b[1;33m(\u001b[0m\u001b[0mstr\u001b[0m\u001b[1;33m(\u001b[0m\u001b[0me\u001b[0m\u001b[1;33m)\u001b[0m\u001b[1;33m)\u001b[0m\u001b[1;33m\u001b[0m\u001b[1;33m\u001b[0m\u001b[0m\n\u001b[0m\u001b[0;32m    303\u001b[0m         \u001b[1;32mexcept\u001b[0m \u001b[0mOpenSSL\u001b[0m\u001b[1;33m.\u001b[0m\u001b[0mSSL\u001b[0m\u001b[1;33m.\u001b[0m\u001b[0mZeroReturnError\u001b[0m \u001b[1;32mas\u001b[0m \u001b[0me\u001b[0m\u001b[1;33m:\u001b[0m\u001b[1;33m\u001b[0m\u001b[1;33m\u001b[0m\u001b[0m\n",
      "\u001b[1;31mProtocolError\u001b[0m: ('Connection aborted.', OSError(\"(10060, 'WSAETIMEDOUT')\"))",
      "\nDuring handling of the above exception, another exception occurred:\n",
      "\u001b[1;31mConnectionError\u001b[0m                           Traceback (most recent call last)",
      "\u001b[1;32m<ipython-input-40-5d9441d2f4e0>\u001b[0m in \u001b[0;36m<module>\u001b[1;34m\u001b[0m\n\u001b[1;32m----> 1\u001b[1;33m \u001b[0mtexts\u001b[0m \u001b[1;33m=\u001b[0m \u001b[1;33m[\u001b[0m\u001b[0mBeautifulSoup\u001b[0m\u001b[1;33m(\u001b[0m\u001b[0mrequests\u001b[0m\u001b[1;33m.\u001b[0m\u001b[0mget\u001b[0m\u001b[1;33m(\u001b[0m\u001b[0murl\u001b[0m\u001b[1;33m)\u001b[0m\u001b[1;33m.\u001b[0m\u001b[0mtext\u001b[0m\u001b[1;33m,\u001b[0m \u001b[1;34m\"html.parser\"\u001b[0m\u001b[1;33m)\u001b[0m \u001b[1;32mfor\u001b[0m \u001b[0murl\u001b[0m \u001b[1;32min\u001b[0m \u001b[0msources_df\u001b[0m\u001b[1;33m[\u001b[0m\u001b[1;34m\"Source\"\u001b[0m\u001b[1;33m]\u001b[0m\u001b[1;33m.\u001b[0m\u001b[0mvalues\u001b[0m\u001b[1;33m]\u001b[0m\u001b[1;33m\u001b[0m\u001b[1;33m\u001b[0m\u001b[0m\n\u001b[0m\u001b[0;32m      2\u001b[0m \u001b[0msources_df\u001b[0m\u001b[1;33m[\u001b[0m\u001b[1;34m\"Text\"\u001b[0m\u001b[1;33m]\u001b[0m \u001b[1;33m=\u001b[0m \u001b[0mtexts\u001b[0m\u001b[1;33m\u001b[0m\u001b[1;33m\u001b[0m\u001b[0m\n",
      "\u001b[1;32m<ipython-input-40-5d9441d2f4e0>\u001b[0m in \u001b[0;36m<listcomp>\u001b[1;34m(.0)\u001b[0m\n\u001b[1;32m----> 1\u001b[1;33m \u001b[0mtexts\u001b[0m \u001b[1;33m=\u001b[0m \u001b[1;33m[\u001b[0m\u001b[0mBeautifulSoup\u001b[0m\u001b[1;33m(\u001b[0m\u001b[0mrequests\u001b[0m\u001b[1;33m.\u001b[0m\u001b[0mget\u001b[0m\u001b[1;33m(\u001b[0m\u001b[0murl\u001b[0m\u001b[1;33m)\u001b[0m\u001b[1;33m.\u001b[0m\u001b[0mtext\u001b[0m\u001b[1;33m,\u001b[0m \u001b[1;34m\"html.parser\"\u001b[0m\u001b[1;33m)\u001b[0m \u001b[1;32mfor\u001b[0m \u001b[0murl\u001b[0m \u001b[1;32min\u001b[0m \u001b[0msources_df\u001b[0m\u001b[1;33m[\u001b[0m\u001b[1;34m\"Source\"\u001b[0m\u001b[1;33m]\u001b[0m\u001b[1;33m.\u001b[0m\u001b[0mvalues\u001b[0m\u001b[1;33m]\u001b[0m\u001b[1;33m\u001b[0m\u001b[1;33m\u001b[0m\u001b[0m\n\u001b[0m\u001b[0;32m      2\u001b[0m \u001b[0msources_df\u001b[0m\u001b[1;33m[\u001b[0m\u001b[1;34m\"Text\"\u001b[0m\u001b[1;33m]\u001b[0m \u001b[1;33m=\u001b[0m \u001b[0mtexts\u001b[0m\u001b[1;33m\u001b[0m\u001b[1;33m\u001b[0m\u001b[0m\n",
      "\u001b[1;32m~\\Anaconda3\\lib\\site-packages\\requests\\api.py\u001b[0m in \u001b[0;36mget\u001b[1;34m(url, params, **kwargs)\u001b[0m\n\u001b[0;32m     73\u001b[0m \u001b[1;33m\u001b[0m\u001b[0m\n\u001b[0;32m     74\u001b[0m     \u001b[0mkwargs\u001b[0m\u001b[1;33m.\u001b[0m\u001b[0msetdefault\u001b[0m\u001b[1;33m(\u001b[0m\u001b[1;34m'allow_redirects'\u001b[0m\u001b[1;33m,\u001b[0m \u001b[1;32mTrue\u001b[0m\u001b[1;33m)\u001b[0m\u001b[1;33m\u001b[0m\u001b[1;33m\u001b[0m\u001b[0m\n\u001b[1;32m---> 75\u001b[1;33m     \u001b[1;32mreturn\u001b[0m \u001b[0mrequest\u001b[0m\u001b[1;33m(\u001b[0m\u001b[1;34m'get'\u001b[0m\u001b[1;33m,\u001b[0m \u001b[0murl\u001b[0m\u001b[1;33m,\u001b[0m \u001b[0mparams\u001b[0m\u001b[1;33m=\u001b[0m\u001b[0mparams\u001b[0m\u001b[1;33m,\u001b[0m \u001b[1;33m**\u001b[0m\u001b[0mkwargs\u001b[0m\u001b[1;33m)\u001b[0m\u001b[1;33m\u001b[0m\u001b[1;33m\u001b[0m\u001b[0m\n\u001b[0m\u001b[0;32m     76\u001b[0m \u001b[1;33m\u001b[0m\u001b[0m\n\u001b[0;32m     77\u001b[0m \u001b[1;33m\u001b[0m\u001b[0m\n",
      "\u001b[1;32m~\\Anaconda3\\lib\\site-packages\\requests\\api.py\u001b[0m in \u001b[0;36mrequest\u001b[1;34m(method, url, **kwargs)\u001b[0m\n\u001b[0;32m     58\u001b[0m     \u001b[1;31m# cases, and look like a memory leak in others.\u001b[0m\u001b[1;33m\u001b[0m\u001b[1;33m\u001b[0m\u001b[1;33m\u001b[0m\u001b[0m\n\u001b[0;32m     59\u001b[0m     \u001b[1;32mwith\u001b[0m \u001b[0msessions\u001b[0m\u001b[1;33m.\u001b[0m\u001b[0mSession\u001b[0m\u001b[1;33m(\u001b[0m\u001b[1;33m)\u001b[0m \u001b[1;32mas\u001b[0m \u001b[0msession\u001b[0m\u001b[1;33m:\u001b[0m\u001b[1;33m\u001b[0m\u001b[1;33m\u001b[0m\u001b[0m\n\u001b[1;32m---> 60\u001b[1;33m         \u001b[1;32mreturn\u001b[0m \u001b[0msession\u001b[0m\u001b[1;33m.\u001b[0m\u001b[0mrequest\u001b[0m\u001b[1;33m(\u001b[0m\u001b[0mmethod\u001b[0m\u001b[1;33m=\u001b[0m\u001b[0mmethod\u001b[0m\u001b[1;33m,\u001b[0m \u001b[0murl\u001b[0m\u001b[1;33m=\u001b[0m\u001b[0murl\u001b[0m\u001b[1;33m,\u001b[0m \u001b[1;33m**\u001b[0m\u001b[0mkwargs\u001b[0m\u001b[1;33m)\u001b[0m\u001b[1;33m\u001b[0m\u001b[1;33m\u001b[0m\u001b[0m\n\u001b[0m\u001b[0;32m     61\u001b[0m \u001b[1;33m\u001b[0m\u001b[0m\n\u001b[0;32m     62\u001b[0m \u001b[1;33m\u001b[0m\u001b[0m\n",
      "\u001b[1;32m~\\Anaconda3\\lib\\site-packages\\requests\\sessions.py\u001b[0m in \u001b[0;36mrequest\u001b[1;34m(self, method, url, params, data, headers, cookies, files, auth, timeout, allow_redirects, proxies, hooks, stream, verify, cert, json)\u001b[0m\n\u001b[0;32m    531\u001b[0m         }\n\u001b[0;32m    532\u001b[0m         \u001b[0msend_kwargs\u001b[0m\u001b[1;33m.\u001b[0m\u001b[0mupdate\u001b[0m\u001b[1;33m(\u001b[0m\u001b[0msettings\u001b[0m\u001b[1;33m)\u001b[0m\u001b[1;33m\u001b[0m\u001b[1;33m\u001b[0m\u001b[0m\n\u001b[1;32m--> 533\u001b[1;33m         \u001b[0mresp\u001b[0m \u001b[1;33m=\u001b[0m \u001b[0mself\u001b[0m\u001b[1;33m.\u001b[0m\u001b[0msend\u001b[0m\u001b[1;33m(\u001b[0m\u001b[0mprep\u001b[0m\u001b[1;33m,\u001b[0m \u001b[1;33m**\u001b[0m\u001b[0msend_kwargs\u001b[0m\u001b[1;33m)\u001b[0m\u001b[1;33m\u001b[0m\u001b[1;33m\u001b[0m\u001b[0m\n\u001b[0m\u001b[0;32m    534\u001b[0m \u001b[1;33m\u001b[0m\u001b[0m\n\u001b[0;32m    535\u001b[0m         \u001b[1;32mreturn\u001b[0m \u001b[0mresp\u001b[0m\u001b[1;33m\u001b[0m\u001b[1;33m\u001b[0m\u001b[0m\n",
      "\u001b[1;32m~\\Anaconda3\\lib\\site-packages\\requests\\sessions.py\u001b[0m in \u001b[0;36msend\u001b[1;34m(self, request, **kwargs)\u001b[0m\n\u001b[0;32m    644\u001b[0m \u001b[1;33m\u001b[0m\u001b[0m\n\u001b[0;32m    645\u001b[0m         \u001b[1;31m# Send the request\u001b[0m\u001b[1;33m\u001b[0m\u001b[1;33m\u001b[0m\u001b[1;33m\u001b[0m\u001b[0m\n\u001b[1;32m--> 646\u001b[1;33m         \u001b[0mr\u001b[0m \u001b[1;33m=\u001b[0m \u001b[0madapter\u001b[0m\u001b[1;33m.\u001b[0m\u001b[0msend\u001b[0m\u001b[1;33m(\u001b[0m\u001b[0mrequest\u001b[0m\u001b[1;33m,\u001b[0m \u001b[1;33m**\u001b[0m\u001b[0mkwargs\u001b[0m\u001b[1;33m)\u001b[0m\u001b[1;33m\u001b[0m\u001b[1;33m\u001b[0m\u001b[0m\n\u001b[0m\u001b[0;32m    647\u001b[0m \u001b[1;33m\u001b[0m\u001b[0m\n\u001b[0;32m    648\u001b[0m         \u001b[1;31m# Total elapsed time of the request (approximately)\u001b[0m\u001b[1;33m\u001b[0m\u001b[1;33m\u001b[0m\u001b[1;33m\u001b[0m\u001b[0m\n",
      "\u001b[1;32m~\\Anaconda3\\lib\\site-packages\\requests\\adapters.py\u001b[0m in \u001b[0;36msend\u001b[1;34m(self, request, stream, timeout, verify, cert, proxies)\u001b[0m\n\u001b[0;32m    496\u001b[0m \u001b[1;33m\u001b[0m\u001b[0m\n\u001b[0;32m    497\u001b[0m         \u001b[1;32mexcept\u001b[0m \u001b[1;33m(\u001b[0m\u001b[0mProtocolError\u001b[0m\u001b[1;33m,\u001b[0m \u001b[0msocket\u001b[0m\u001b[1;33m.\u001b[0m\u001b[0merror\u001b[0m\u001b[1;33m)\u001b[0m \u001b[1;32mas\u001b[0m \u001b[0merr\u001b[0m\u001b[1;33m:\u001b[0m\u001b[1;33m\u001b[0m\u001b[1;33m\u001b[0m\u001b[0m\n\u001b[1;32m--> 498\u001b[1;33m             \u001b[1;32mraise\u001b[0m \u001b[0mConnectionError\u001b[0m\u001b[1;33m(\u001b[0m\u001b[0merr\u001b[0m\u001b[1;33m,\u001b[0m \u001b[0mrequest\u001b[0m\u001b[1;33m=\u001b[0m\u001b[0mrequest\u001b[0m\u001b[1;33m)\u001b[0m\u001b[1;33m\u001b[0m\u001b[1;33m\u001b[0m\u001b[0m\n\u001b[0m\u001b[0;32m    499\u001b[0m \u001b[1;33m\u001b[0m\u001b[0m\n\u001b[0;32m    500\u001b[0m         \u001b[1;32mexcept\u001b[0m \u001b[0mMaxRetryError\u001b[0m \u001b[1;32mas\u001b[0m \u001b[0me\u001b[0m\u001b[1;33m:\u001b[0m\u001b[1;33m\u001b[0m\u001b[1;33m\u001b[0m\u001b[0m\n",
      "\u001b[1;31mConnectionError\u001b[0m: ('Connection aborted.', OSError(\"(10060, 'WSAETIMEDOUT')\"))"
     ]
    }
   ],
   "source": [
    "sources_df[\"Text\"] = texts"
   ]
  },
  {
   "cell_type": "code",
   "execution_count": null,
   "metadata": {},
   "outputs": [],
   "source": [
    "sources_df.head()"
   ]
  },
  {
   "cell_type": "code",
   "execution_count": null,
   "metadata": {},
   "outputs": [],
   "source": []
  }
 ],
 "metadata": {
  "kernelspec": {
   "display_name": "Python 3",
   "language": "python",
   "name": "python3"
  },
  "language_info": {
   "codemirror_mode": {
    "name": "ipython",
    "version": 3
   },
   "file_extension": ".py",
   "mimetype": "text/x-python",
   "name": "python",
   "nbconvert_exporter": "python",
   "pygments_lexer": "ipython3",
   "version": "3.7.6"
  }
 },
 "nbformat": 4,
 "nbformat_minor": 2
}
