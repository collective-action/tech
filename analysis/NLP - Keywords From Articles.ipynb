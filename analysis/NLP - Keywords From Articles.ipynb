{
 "cells": [
  {
   "cell_type": "code",
   "execution_count": 1,
   "metadata": {},
   "outputs": [],
   "source": [
    "import requests\n",
    "import urllib.request\n",
    "import time\n",
    "from bs4 import BeautifulSoup"
   ]
  },
  {
   "cell_type": "code",
   "execution_count": 2,
   "metadata": {},
   "outputs": [],
   "source": [
    "import pandas as pd\n",
    "import numpy as np\n",
    "from datetime import datetime\n",
    "import matplotlib.pyplot as plt"
   ]
  },
  {
   "cell_type": "markdown",
   "metadata": {},
   "source": [
    "# Identifying Keywords from News Articles"
   ]
  },
  {
   "cell_type": "markdown",
   "metadata": {},
   "source": [
    "Idea:\n",
    "- Webscrape text from article links\n",
    "- Use TFIDF/NER to idenitfy keywords from the text for tagging purposes\n",
    "- Use Keywords to create a summary\n"
   ]
  },
  {
   "cell_type": "markdown",
   "metadata": {},
   "source": [
    "## Import Data"
   ]
  },
  {
   "cell_type": "code",
   "execution_count": 5,
   "metadata": {},
   "outputs": [
    {
     "data": {
      "text/html": [
       "<div>\n",
       "<style scoped>\n",
       "    .dataframe tbody tr th:only-of-type {\n",
       "        vertical-align: middle;\n",
       "    }\n",
       "\n",
       "    .dataframe tbody tr th {\n",
       "        vertical-align: top;\n",
       "    }\n",
       "\n",
       "    .dataframe thead th {\n",
       "        text-align: right;\n",
       "    }\n",
       "</style>\n",
       "<table border=\"1\" class=\"dataframe\">\n",
       "  <thead>\n",
       "    <tr style=\"text-align: right;\">\n",
       "      <th></th>\n",
       "      <th>Unnamed: 0</th>\n",
       "      <th>id</th>\n",
       "      <th>date</th>\n",
       "      <th>sources</th>\n",
       "      <th>actions</th>\n",
       "      <th>struggles</th>\n",
       "      <th>employment_types</th>\n",
       "      <th>description</th>\n",
       "      <th>online</th>\n",
       "      <th>locations</th>\n",
       "      <th>companies</th>\n",
       "      <th>workers</th>\n",
       "      <th>tags</th>\n",
       "      <th>author</th>\n",
       "      <th>latlngs</th>\n",
       "      <th>addresses</th>\n",
       "    </tr>\n",
       "  </thead>\n",
       "  <tbody>\n",
       "    <tr>\n",
       "      <td>0</td>\n",
       "      <td>0</td>\n",
       "      <td>1</td>\n",
       "      <td>1979-09-01</td>\n",
       "      <td>['https://twitter.com/clancynewyork/status/117...</td>\n",
       "      <td>['protest']</td>\n",
       "      <td>['ethics']</td>\n",
       "      <td>['white_collar_workers']</td>\n",
       "      <td>IBM workers formed an organization, IBM: Speak...</td>\n",
       "      <td>None</td>\n",
       "      <td>['worldwide']</td>\n",
       "      <td>['ibm']</td>\n",
       "      <td>None</td>\n",
       "      <td>['international_solidarity']</td>\n",
       "      <td>['nataliyaned']</td>\n",
       "      <td>None</td>\n",
       "      <td>None</td>\n",
       "    </tr>\n",
       "    <tr>\n",
       "      <td>1</td>\n",
       "      <td>1</td>\n",
       "      <td>2</td>\n",
       "      <td>1986-09-16</td>\n",
       "      <td>['https://www.nytimes.com/1986/09/16/science/s...</td>\n",
       "      <td>['open_letter']</td>\n",
       "      <td>['ethics']</td>\n",
       "      <td>['white_collar_workers']</td>\n",
       "      <td>Fourteen employees at AT&amp;T sign a letter warni...</td>\n",
       "      <td>None</td>\n",
       "      <td>['usa']</td>\n",
       "      <td>['at&amp;t']</td>\n",
       "      <td>14</td>\n",
       "      <td>None</td>\n",
       "      <td>['nataliyaned']</td>\n",
       "      <td>[(45.5733162, -122.5587111463347)]</td>\n",
       "      <td>['10025, Northeast Cascades Parkway, Portland,...</td>\n",
       "    </tr>\n",
       "    <tr>\n",
       "      <td>2</td>\n",
       "      <td>2</td>\n",
       "      <td>3</td>\n",
       "      <td>1986-09-16</td>\n",
       "      <td>['https://www.nytimes.com/1986/09/16/science/s...</td>\n",
       "      <td>['open_letter']</td>\n",
       "      <td>['ethics']</td>\n",
       "      <td>['white_collar_workers']</td>\n",
       "      <td>A group of computer professionals, led by Comp...</td>\n",
       "      <td>None</td>\n",
       "      <td>['usa']</td>\n",
       "      <td>None</td>\n",
       "      <td>30</td>\n",
       "      <td>None</td>\n",
       "      <td>['nataliyaned']</td>\n",
       "      <td>[(39.7837304, -100.4458825)]</td>\n",
       "      <td>['United States']</td>\n",
       "    </tr>\n",
       "    <tr>\n",
       "      <td>3</td>\n",
       "      <td>3</td>\n",
       "      <td>4</td>\n",
       "      <td>1994-01-24</td>\n",
       "      <td>['https://www.nytimes.com/1994/06/12/magazine/...</td>\n",
       "      <td>['open_letter']</td>\n",
       "      <td>['ethics']</td>\n",
       "      <td>['white_collar_workers']</td>\n",
       "      <td>Computer Professionals for Social Responsibili...</td>\n",
       "      <td>True</td>\n",
       "      <td>None</td>\n",
       "      <td>None</td>\n",
       "      <td>50000</td>\n",
       "      <td>None</td>\n",
       "      <td>['nataliyaned']</td>\n",
       "      <td>None</td>\n",
       "      <td>None</td>\n",
       "    </tr>\n",
       "    <tr>\n",
       "      <td>4</td>\n",
       "      <td>4</td>\n",
       "      <td>5</td>\n",
       "      <td>1998-11-23</td>\n",
       "      <td>['http://www.cnn.com/tech/computing/9811/23/ms...</td>\n",
       "      <td>['legal_action']</td>\n",
       "      <td>['unfair_labor_practices', 'pay_and_benefits']</td>\n",
       "      <td>['contract_workers']</td>\n",
       "      <td>A law firm representing 10 current and former ...</td>\n",
       "      <td>None</td>\n",
       "      <td>['usa']</td>\n",
       "      <td>['microsoft']</td>\n",
       "      <td>10</td>\n",
       "      <td>None</td>\n",
       "      <td>['organizejs']</td>\n",
       "      <td>[(35.139622349999996, -80.92306993327955)]</td>\n",
       "      <td>['Microsoft, Yorkwood, Charlotte, Mecklenburg ...</td>\n",
       "    </tr>\n",
       "  </tbody>\n",
       "</table>\n",
       "</div>"
      ],
      "text/plain": [
       "   Unnamed: 0  id       date  \\\n",
       "0           0   1 1979-09-01   \n",
       "1           1   2 1986-09-16   \n",
       "2           2   3 1986-09-16   \n",
       "3           3   4 1994-01-24   \n",
       "4           4   5 1998-11-23   \n",
       "\n",
       "                                             sources           actions  \\\n",
       "0  ['https://twitter.com/clancynewyork/status/117...       ['protest']   \n",
       "1  ['https://www.nytimes.com/1986/09/16/science/s...   ['open_letter']   \n",
       "2  ['https://www.nytimes.com/1986/09/16/science/s...   ['open_letter']   \n",
       "3  ['https://www.nytimes.com/1994/06/12/magazine/...   ['open_letter']   \n",
       "4  ['http://www.cnn.com/tech/computing/9811/23/ms...  ['legal_action']   \n",
       "\n",
       "                                        struggles          employment_types  \\\n",
       "0                                      ['ethics']  ['white_collar_workers']   \n",
       "1                                      ['ethics']  ['white_collar_workers']   \n",
       "2                                      ['ethics']  ['white_collar_workers']   \n",
       "3                                      ['ethics']  ['white_collar_workers']   \n",
       "4  ['unfair_labor_practices', 'pay_and_benefits']      ['contract_workers']   \n",
       "\n",
       "                                         description online      locations  \\\n",
       "0  IBM workers formed an organization, IBM: Speak...   None  ['worldwide']   \n",
       "1  Fourteen employees at AT&T sign a letter warni...   None        ['usa']   \n",
       "2  A group of computer professionals, led by Comp...   None        ['usa']   \n",
       "3  Computer Professionals for Social Responsibili...   True           None   \n",
       "4  A law firm representing 10 current and former ...   None        ['usa']   \n",
       "\n",
       "       companies workers                          tags           author  \\\n",
       "0        ['ibm']    None  ['international_solidarity']  ['nataliyaned']   \n",
       "1       ['at&t']      14                          None  ['nataliyaned']   \n",
       "2           None      30                          None  ['nataliyaned']   \n",
       "3           None   50000                          None  ['nataliyaned']   \n",
       "4  ['microsoft']      10                          None   ['organizejs']   \n",
       "\n",
       "                                      latlngs  \\\n",
       "0                                        None   \n",
       "1          [(45.5733162, -122.5587111463347)]   \n",
       "2                [(39.7837304, -100.4458825)]   \n",
       "3                                        None   \n",
       "4  [(35.139622349999996, -80.92306993327955)]   \n",
       "\n",
       "                                           addresses  \n",
       "0                                               None  \n",
       "1  ['10025, Northeast Cascades Parkway, Portland,...  \n",
       "2                                  ['United States']  \n",
       "3                                               None  \n",
       "4  ['Microsoft, Yorkwood, Charlotte, Mecklenburg ...  "
      ]
     },
     "execution_count": 5,
     "metadata": {},
     "output_type": "execute_result"
    }
   ],
   "source": [
    "date_range = pd.date_range('01-01-2006', datetime.today().date())\n",
    "df = pd.read_csv(\"../actions.csv\")\n",
    "df[\"date\"] = pd.to_datetime(df[\"date\"])\n",
    "df.head()"
   ]
  },
  {
   "cell_type": "markdown",
   "metadata": {},
   "source": [
    "## Links to Explore"
   ]
  },
  {
   "cell_type": "code",
   "execution_count": 6,
   "metadata": {},
   "outputs": [
    {
     "data": {
      "text/plain": [
       "0      ['https://twitter.com/clancynewyork/status/117...\n",
       "1      ['https://www.nytimes.com/1986/09/16/science/s...\n",
       "2      ['https://www.nytimes.com/1986/09/16/science/s...\n",
       "3      ['https://www.nytimes.com/1994/06/12/magazine/...\n",
       "4      ['http://www.cnn.com/tech/computing/9811/23/ms...\n",
       "                             ...                        \n",
       "277    ['https://rabble.ca/news/2020/06/foodsters-uni...\n",
       "278    ['https://medium.com/@macprac/open-letter-the-...\n",
       "279    ['https://medium.com/@catalina.brennan.gatica/...\n",
       "280    ['https://www.theverge.com/2020/6/22/21299736/...\n",
       "281    ['https://medium.com/@CoalitionForCriticalTech...\n",
       "Name: sources, Length: 282, dtype: object"
      ]
     },
     "execution_count": 6,
     "metadata": {},
     "output_type": "execute_result"
    }
   ],
   "source": [
    "df[\"sources\"]"
   ]
  },
  {
   "cell_type": "code",
   "execution_count": 7,
   "metadata": {},
   "outputs": [
    {
     "data": {
      "text/plain": [
       "\"['https://twitter.com/clancynewyork/status/1175872040814993408?s=19, http://www-cs-students.stanford.edu/~cale/cs201/apartheid.comp.html']\""
      ]
     },
     "execution_count": 7,
     "metadata": {},
     "output_type": "execute_result"
    }
   ],
   "source": [
    "df[\"sources\"][0]"
   ]
  },
  {
   "cell_type": "markdown",
   "metadata": {},
   "source": [
    "## Webscrape for source text"
   ]
  },
  {
   "cell_type": "code",
   "execution_count": 17,
   "metadata": {},
   "outputs": [],
   "source": [
    "url = \"http://www-cs-students.stanford.edu/~cale/cs201/apartheid.comp.html\"\n",
    "response = requests.get(url)"
   ]
  },
  {
   "cell_type": "code",
   "execution_count": 18,
   "metadata": {},
   "outputs": [],
   "source": [
    "soup = BeautifulSoup(response.text, \"html.parser\")"
   ]
  },
  {
   "cell_type": "code",
   "execution_count": 19,
   "metadata": {},
   "outputs": [
    {
     "name": "stdout",
     "output_type": "stream",
     "text": [
      "<html>\n",
      " <title>\n",
      "  The Use of Computers to Support Oppression\n",
      " </title>\n",
      " <body alink=\"#FFFF00\" background=\"pictures/olive_paper.gif\" link=\"#F2F295\" text=\"#FFFFFF\" vlink=\"#C9B720\">\n",
      "  <center>\n",
      "   <h1>\n",
      "    <b>\n",
      "     The Use of Computers to Support Oppression\n",
      "    </b>\n",
      "   </h1>\n",
      "   <p>\n",
      "   </p>\n",
      "  </center>\n",
      "  Computer technology enabled the government to organize and enforce such an atrocious system of segregation and control.\n",
      "  <blockquote>\n",
      "   More than any other single technological advancement, the computer fostered the concentration of administrative power in the hands of Africa's white elite.\n",
      "   <a href=\"apartheid.bib.html\">\n",
      "    <b>\n",
      "     [NAR82]\n",
      "    </b>\n",
      "   </a>\n",
      "  </blockquote>\n",
      "  Despite the U.N. arms embargoes, American computers were in widespread use throughout South Africa.  The United States was the largest supplier of computers used in South Africa. American computers were in use in virtually every governmental agency, the police system, and the military, all of which contributed to the control system known as apartheid.  Computer technology did not merely support the system of oppression, rather the entire country was utterly dependent upon it.  As the managing director of the South African subsidiary of\n",
      "  <a href=\"http://fs1.itdean.umn.edu/cbi/burros/burros.htm\">\n",
      "   <b>\n",
      "    Burroughs Corporations\n",
      "   </b>\n",
      "  </a>\n",
      "  said,\n",
      "  <blockquote>\n",
      "   We are entirely dependent on the U.S.  The economy would grind to a halt without access to the computer technology of the West.  No bank could function; the government couldn't collect its money and couldn't account for it; business couldn't operate; payrolls could not be paid.  Retail and wholesale marketing and related services would be disrupted.\n",
      "   <a href=\"apartheid.bib.html\">\n",
      "    <b>\n",
      "     [NAR82]\n",
      "    </b>\n",
      "   </a>\n",
      "  </blockquote>\n",
      "  <p>\n",
      "   <img align=\"LEFT\" alt=\"IBM advertisement\" src=\"pictures/ibm.jpg\"/>\n",
      "   The extensive history of the export of American computer technology began in 1952 with an order for the first \"electric tabulator\" to IBM-South Africa.  Three years later, the streamlining of the hated pass system resulted in an automated population register implemented on foreign computers.  1970 found South Africa with an estimated four hundred computers -- a value of about one hundred million dollars.  The number of computers continued to grow, totaling more than forty five hundred in 1982.  In 1977, only the U.S. and Britain spent more on computer technology than South Africa as a percentage of gross national product, while in 1980, 75% of the computers in South Africa were purchased from American corporations.  South Africa continued to import a large number of computers despite an attempt by the government to promote domestic production.  Local products accounted for less than 5% of South African computer equipment sales in 1988.  Many of these sales occured despite restrictions in U.S. law.\n",
      "   <p>\n",
      "    American corporation IBM was the largest computer supplier in South Africa throughout the years of apartheid.  In 1978 alone, IBM's South African sales jumped 250%; total annual sales amounted to approximately three hundred million dollars in 1982.  Not only did IBM contribute tremendous computing power to the South African apartheid system, but of the fifteen hundred South African workers employed by IBM in 1982, less than 20% were classified as coloured, black or Asian.  IBM continually asserted that the applications of their computers were not used to abridge human rights, despite acknowledgment that the uses to which their computers were put could not be known in all cases.  In fact, the South African Parliament made it illegal for companies to report the uses of their computers.  Although IBM officially divested from South Africa in 1987, their products continued to be distributed by Information Services Group.\n",
      "    <p>\n",
      "     We will first consider the sale of computers to the South African government, followed by an investigation of sales to the police, then to the military.  The number of computers used by the government is not to be underestimated: the government absorbed 41% of all South African computer sales in 1986. Even if thesesales were made to \"non-repressive\" agencies, or sold for supposedly \"non-repressive\" purposes, the technology contributed to the repressive system for two reasons.  First, the computers were often used for purposes other than the expressed intentions. Second, the government was extremely highly centralized and tightly controlled in order to protect the \"sovereignty\" of the country.\n",
      "     <blockquote>\n",
      "      The significance of the role of U.S. computers in S.A. [was] not restricted to their use by repressive agencies of the government.\n",
      "      <a href=\"apartheid.bib.html\">\n",
      "       <b>\n",
      "        [Leo80]\n",
      "       </b>\n",
      "      </a>\n",
      "     </blockquote>\n",
      "     <p>\n",
      "      It is likely that the tool which made the most crucial contribution to the system of apartheid was the computerized population register.  The Plural Affairs Department maintained the passbook system on the more than twenty five million Africans defined as black.  These records were all kept electronically on British-made ICL hardware.  The Department of the Interior maintained the \"Book of Life\" files on the other seven million citizens classified as non-blacks using an IBM hardware system.  The passbook records included data on \"racial classification\", name, sex, date of birth, residence, photo, marital status, drivers license, dates of departure from and return to the country, place of work or study, and fingerprints.  One South African described the population register at work as,\n",
      "      <blockquote>\n",
      "       Computers flashing out reference numbers, photocopies relayed by telephone, perhaps even instant transmission of fingerprints-all to keep track of members of the population. Sounds like George Orwell's 1984, doesn't it?  Well it's South Africa's way of modernizing and streamlining its pass and influx control system.\n",
      "       <a href=\"apartheid.bib.html\">\n",
      "        <b>\n",
      "         [NAR82]\n",
      "        </b>\n",
      "       </a>\n",
      "      </blockquote>\n",
      "      <p>\n",
      "       <img align=\"RIGHT\" alt=\"PASSBOOK PICTURE\" src=\"pictures/passbook2.jpg\"/>\n",
      "       The main purpose of the population registry was administration of the influx control system, a system which channeled needed black workers into the labor force to be exploited, and confined others to the desolate homelands.  The passbooks, which every black person was automatically given at the age of sixteen, coupled with the computer database, guaranteed one's instant identification and one's history of government opposition.  If these passbooks were properly endorsed, the owner had the right to work or live in \"white areas\", and lack of these endorsements or failure to produce the passbook resulted in arrest and jail.  Many were detained for months at a time without a trial and their families were not given notification of their whereabouts.\n",
      "       <p>\n",
      "        The Bantu boards were the local branches of the minority government for the black townships, which ran the housing for black workers, known as the hostel system, as well as the Bantu tax system. It also administered a complicated system of permits and controls which governed the movement of blacks.  This system broke down the structure of the African family, as the workers were prohibited from living with their families.  Rent and taxes were significantly higher for blacks than for whites in other districts, leaving the workers with very little on which to subsist.  This system is little different from organized slavery.  Virtually all the computers used in the Bantu Boards were of foreign origin.  In 1982, the East Rand Bantu Administration Board, a board located near Johannesburg, rented computers for which they paid R228,000 per year, a sum totaling over one fourth of what it spent on housing for blacks in an average year.  These computers were used for financial matters and registered blacks for the labor allocation system.\n",
      "        <p>\n",
      "         The Department of Justice used imported computer equipment , which implicitly sanctioned police violence and torture against opponents of apartheid, both black and white.  The Department of Prisons held political prisoners without trial, and used an IBM computer for \"financial\" purposes.  The Department of Prisons used two Data General Nova computers.  The Department of Labor controlled the terms and conditions of work under apartheid, i.e., no black worker could supervise a white worker, black trade unions were not recognized, and most strikes were illegal. Computer equipment was also used in the Department of the Prime Minister, the South African Reserve Bank, South Africa's electrical utility, and the Treasury Department.\n",
      "\n",
      "The South African police made active use of the population registry.  In 1982, they examined 179,285 fingerprints stored in the population registry, making 13,024 positive identifications.  Eight hundred and fifty thousand queries were made at display screens.\n",
      "         <blockquote>\n",
      "          Using remote terminal links, police operators at regional centers around the country [had] immediate access to a secret criminal data bank which stores details about anyone on the government's wanted list.\n",
      "          <a href=\"apartheid.bib.html\">\n",
      "           <b>\n",
      "            [Slo90]\n",
      "           </b>\n",
      "          </a>\n",
      "         </blockquote>\n",
      "         This gave the police remarkable power over political opposition.  The population registry was not the only computerized resource the police had to aid in controlling the citizens.  Foreign products such as X-ray machines to check personal possessions, passbook fingerprinting equipment, and communications logging recorders were all available to the South African police.  Electronic sensing equipment, infrared alarm systems, and photo identifications systems were on the market as well. Their use in repressing the citizens is obvious.  IBM even marketed a \"Law Enforcement System\" software package, but later denied that it had developed or marketed it when IBM realized the product might jeopardize sales at home.  Philips marketed an \"Access Control System\" which registers who enters a building where and when. Seemingly innocuous software could be applied to disastrous ends. For example, a city planning software package available in the 1980's helped the police to design black townships with the goal of allowing maximum police access and control in cases of revolt.\n",
      "         <blockquote>\n",
      "          Given the mission of the private police industry, its allegiance with Pretoria's police, military and other state departments, and given the complete lack of procedural rights and safeguards for non-whites, it would be naive to assume that U.S. security and surveillance gear sold in S.A. is not used as a tool of repression.\n",
      "          <a href=\"apartheid.bib.html\">\n",
      "           <b>\n",
      "            [NAR82]\n",
      "           </b>\n",
      "          </a>\n",
      "         </blockquote>\n",
      "         <p>\n",
      "          As the largest arm of the government, the bulk of the computer equipment purchased by the state undoubtedly found its way into the various military branches despite the fact that the military was the express target of the U.N. sanctions.  The military utilized advanced equipment not only in its invasion and occupation of Namibia, but also in the Total War against its people.  The South African Defense Force had six major computing centers; these computers were used to analyze battlefield data, guide weapons, transport equipment, and send notices to draftees. Computers were used at the Silvermine naval database to monitor naval movements around the coast of South Africa, in the Air Force's early-warning radar system, and in satellite communications.  A majority, if not all, of the components of these systems were of foreign origin.\n",
      "          <p>\n",
      "           One reason for the military's dependence on computers was the severe personnel shortage, since only whites were drafted.  The ratio of front-line soldiers to support troops was 1:1.3; the norm is at least 1:3.  Computers enabled the support of the front lines, and were also integral to many weapons used on the front lines.\n",
      "           <blockquote>\n",
      "            The speed of modern warfare necessitates support and help from several staff officers.  It is impossible to keep up with a lean mobile force unless you use a computer.\n",
      "            <a href=\"apartheid.bib.html\">\n",
      "             <b>\n",
      "              [Slo90]\n",
      "             </b>\n",
      "            </a>\n",
      "           </blockquote>\n",
      "           IBM lost no time in providing the military with all the computers it needed.  These and other foreign computers were routed around the sanctions by exporting to the Armaments Development Production Corporations (ARMSCOR), the government-owned company responsible for the development and acquisition of arms. The U.S. exported computers to ARMSCOR, under the pretense that they would be used for \"inventory maintenance\" purposes.\n",
      "           <p>\n",
      "            <p>\n",
      "             <hr size=\"5\"/>\n",
      "             <p>\n",
      "              <b>\n",
      "               Where to go from here:\n",
      "               <center>\n",
      "                Previous\n",
      "                <a href=\"apartheid.hist.html\">\n",
      "                 <img alt=\"[PREV]\" src=\"pictures/arrow.marble.left.gif\"/>\n",
      "                </a>\n",
      "                <a href=\"index.html\">\n",
      "                 <img alt=\"[INDEX]\" src=\"pictures/arrow.marble.up2.gif\"/>\n",
      "                </a>\n",
      "                <a href=\"apartheid.ethics.html\">\n",
      "                 <img alt=\"[NEXT]\" src=\"pictures/arrow.marble.right.gif\"/>\n",
      "                </a>\n",
      "                Next\n",
      "               </center>\n",
      "              </b>\n",
      "             </p>\n",
      "            </p>\n",
      "           </p>\n",
      "          </p>\n",
      "         </p>\n",
      "        </p>\n",
      "       </p>\n",
      "      </p>\n",
      "     </p>\n",
      "    </p>\n",
      "   </p>\n",
      "  </p>\n",
      " </body>\n",
      "</html>\n",
      "\n"
     ]
    }
   ],
   "source": [
    "print(soup.prettify())"
   ]
  },
  {
   "cell_type": "markdown",
   "metadata": {},
   "source": [
    "## Create Sources & Text DataFrame"
   ]
  },
  {
   "cell_type": "code",
   "execution_count": 20,
   "metadata": {},
   "outputs": [
    {
     "data": {
      "text/plain": [
       "0      ['https://twitter.com/clancynewyork/status/117...\n",
       "1      ['https://www.nytimes.com/1986/09/16/science/s...\n",
       "2      ['https://www.nytimes.com/1986/09/16/science/s...\n",
       "3      ['https://www.nytimes.com/1994/06/12/magazine/...\n",
       "4      ['http://www.cnn.com/tech/computing/9811/23/ms...\n",
       "                             ...                        \n",
       "277    ['https://rabble.ca/news/2020/06/foodsters-uni...\n",
       "278    ['https://medium.com/@macprac/open-letter-the-...\n",
       "279    ['https://medium.com/@catalina.brennan.gatica/...\n",
       "280    ['https://www.theverge.com/2020/6/22/21299736/...\n",
       "281    ['https://medium.com/@CoalitionForCriticalTech...\n",
       "Name: sources, Length: 282, dtype: object"
      ]
     },
     "execution_count": 20,
     "metadata": {},
     "output_type": "execute_result"
    }
   ],
   "source": [
    "df[\"sources\"] = "
   ]
  },
  {
   "cell_type": "code",
   "execution_count": null,
   "metadata": {},
   "outputs": [],
   "source": []
  }
 ],
 "metadata": {
  "kernelspec": {
   "display_name": "Python 3",
   "language": "python",
   "name": "python3"
  },
  "language_info": {
   "codemirror_mode": {
    "name": "ipython",
    "version": 3
   },
   "file_extension": ".py",
   "mimetype": "text/x-python",
   "name": "python",
   "nbconvert_exporter": "python",
   "pygments_lexer": "ipython3",
   "version": "3.7.4"
  }
 },
 "nbformat": 4,
 "nbformat_minor": 2
}
