{
 "cells": [
  {
   "cell_type": "code",
   "execution_count": 1,
   "metadata": {
    "collapsed": true
   },
   "outputs": [],
   "source": [
    "import pandas as pd\n",
    "import matplotlib.pyplot as plt\n",
    "import math\n",
    "from datetime import datetime\n",
    "%load_ext blackcellmagic"
   ]
  },
  {
   "cell_type": "markdown",
   "metadata": {},
   "source": [
    "# Configs"
   ]
  },
  {
   "cell_type": "code",
   "execution_count": 2,
   "metadata": {
    "collapsed": true
   },
   "outputs": [],
   "source": [
    "plt.rcParams['figure.figsize'] = (14, 7)"
   ]
  },
  {
   "cell_type": "markdown",
   "metadata": {},
   "source": [
    "# Params"
   ]
  },
  {
   "cell_type": "code",
   "execution_count": 3,
   "metadata": {
    "collapsed": true
   },
   "outputs": [],
   "source": [
    "start_year = 2011\n",
    "end_year = 2020\n",
    "y = end_year - start_year"
   ]
  },
  {
   "cell_type": "markdown",
   "metadata": {},
   "source": [
    "# Helpers"
   ]
  },
  {
   "cell_type": "code",
   "execution_count": 4,
   "metadata": {
    "collapsed": true
   },
   "outputs": [],
   "source": [
    "def add_value_labels(ax, spacing=5):\n",
    "    \"\"\"Add labels to the end of each bar in a bar chart.\n",
    "\n",
    "    Arguments:\n",
    "        ax (matplotlib.axes.Axes): The matplotlib object containing the axes\n",
    "            of the plot to annotate.\n",
    "        spacing (int): The distance between the labels and the bars.\n",
    "    \"\"\"\n",
    "\n",
    "    # For each bar: Place a label\n",
    "    for rect in ax.patches:\n",
    "        # Get X and Y placement of label from rect.\n",
    "        y_value = rect.get_height()\n",
    "        x_value = rect.get_x() + rect.get_width() / 2\n",
    "\n",
    "        # Number of points between bar and label. Change to your liking.\n",
    "        space = spacing\n",
    "        # Vertical alignment for positive values\n",
    "        va = 'bottom'\n",
    "\n",
    "        # If value of bar is negative: Place label below bar\n",
    "        if y_value < 0:\n",
    "            # Invert space to place label below\n",
    "            space *= -1\n",
    "            # Vertically align label at top\n",
    "            va = 'top'\n",
    "\n",
    "        # Use Y value as label and format number with one decimal place\n",
    "        label = \"{:.1f}\".format(y_value)\n",
    "\n",
    "        # Create annotation\n",
    "        ax.annotate(\n",
    "            label,                      # Use `label` as label\n",
    "            (x_value, y_value),         # Place label at end of the bar\n",
    "            xytext=(0, space),          # Vertically shift label by `space`\n",
    "            textcoords=\"offset points\", # Interpret `xytext` as offset in points\n",
    "            ha='center',                # Horizontally center label\n",
    "            va=va)                      # Vertically align label differently for\n",
    "                                        # positive and negative values."
   ]
  },
  {
   "cell_type": "markdown",
   "metadata": {},
   "source": [
    "# Data preparation"
   ]
  },
  {
   "cell_type": "code",
   "execution_count": 5,
   "metadata": {},
   "outputs": [
    {
     "data": {
      "text/html": [
       "<div>\n",
       "<style scoped>\n",
       "    .dataframe tbody tr th:only-of-type {\n",
       "        vertical-align: middle;\n",
       "    }\n",
       "\n",
       "    .dataframe tbody tr th {\n",
       "        vertical-align: top;\n",
       "    }\n",
       "\n",
       "    .dataframe thead th {\n",
       "        text-align: right;\n",
       "    }\n",
       "</style>\n",
       "<table border=\"1\" class=\"dataframe\">\n",
       "  <thead>\n",
       "    <tr style=\"text-align: right;\">\n",
       "      <th></th>\n",
       "      <th>id</th>\n",
       "      <th>date</th>\n",
       "      <th>sources</th>\n",
       "      <th>actions</th>\n",
       "      <th>struggles</th>\n",
       "      <th>employment_types</th>\n",
       "      <th>description</th>\n",
       "      <th>online</th>\n",
       "      <th>locations</th>\n",
       "      <th>companies</th>\n",
       "      <th>workers</th>\n",
       "      <th>tags</th>\n",
       "      <th>author</th>\n",
       "      <th>latlngs</th>\n",
       "      <th>addresses</th>\n",
       "    </tr>\n",
       "  </thead>\n",
       "  <tbody>\n",
       "    <tr>\n",
       "      <th>0</th>\n",
       "      <td>314</td>\n",
       "      <td>1970-01-01</td>\n",
       "      <td>[https://www.theguardian.com/commentisfree/201...</td>\n",
       "      <td>[resources]</td>\n",
       "      <td>[ethics, discrimination]</td>\n",
       "      <td>[white collar workers, inhouse workers]</td>\n",
       "      <td>Black IBM employees founded the National Black...</td>\n",
       "      <td>NaN</td>\n",
       "      <td>[usa]</td>\n",
       "      <td>[ibm]</td>\n",
       "      <td>NaN</td>\n",
       "      <td>[antiracism]</td>\n",
       "      <td>[nataliyaned]</td>\n",
       "      <td>[[44.05795005, -92.50701462052399]]</td>\n",
       "      <td>[IBM, Rochester, Olmsted County, Minnesota, Un...</td>\n",
       "    </tr>\n",
       "    <tr>\n",
       "      <th>1</th>\n",
       "      <td>313</td>\n",
       "      <td>1970-10-08</td>\n",
       "      <td>[https://www.dissentmagazine.org/online_articl...</td>\n",
       "      <td>[protest, boycott]</td>\n",
       "      <td>[ethics]</td>\n",
       "      <td>[white collar workers, inhouse workers]</td>\n",
       "      <td>Polaroid workers affiliated with the Polaroid ...</td>\n",
       "      <td>NaN</td>\n",
       "      <td>[cambridge-massachusetts-usa]</td>\n",
       "      <td>[polaroid]</td>\n",
       "      <td>2.0</td>\n",
       "      <td>[antiracism, surveillance]</td>\n",
       "      <td>[nataliyaned]</td>\n",
       "      <td>None</td>\n",
       "      <td>None</td>\n",
       "    </tr>\n",
       "    <tr>\n",
       "      <th>2</th>\n",
       "      <td>322</td>\n",
       "      <td>1970-12-01</td>\n",
       "      <td>[https://archive.scienceforthepeople.org/vol-6...</td>\n",
       "      <td>[union drive]</td>\n",
       "      <td>[unfair labor practices]</td>\n",
       "      <td>[white collar workers, blue collar workers]</td>\n",
       "      <td>The Committee to Plan a Computer Union meets t...</td>\n",
       "      <td>NaN</td>\n",
       "      <td>[new york city-new york-usa]</td>\n",
       "      <td>None</td>\n",
       "      <td>NaN</td>\n",
       "      <td>None</td>\n",
       "      <td>[nataliyaned]</td>\n",
       "      <td>[[40.7127281, -74.0060152]]</td>\n",
       "      <td>[New York, United States]</td>\n",
       "    </tr>\n",
       "    <tr>\n",
       "      <th>3</th>\n",
       "      <td>323</td>\n",
       "      <td>1973-01-01</td>\n",
       "      <td>[https://archive.scienceforthepeople.org/vol-8...</td>\n",
       "      <td>[union drive]</td>\n",
       "      <td>[unfair labor practices]</td>\n",
       "      <td>[white collar workers, inhouse workers]</td>\n",
       "      <td>Workers at Silicon Valley conglomerate Smith-C...</td>\n",
       "      <td>NaN</td>\n",
       "      <td>[california-usa]</td>\n",
       "      <td>[smith-corona-marchant]</td>\n",
       "      <td>50.0</td>\n",
       "      <td>None</td>\n",
       "      <td>[nataliyaned]</td>\n",
       "      <td>None</td>\n",
       "      <td>None</td>\n",
       "    </tr>\n",
       "    <tr>\n",
       "      <th>4</th>\n",
       "      <td>1</td>\n",
       "      <td>1979-09-01</td>\n",
       "      <td>[https://twitter.com/clancynewyork/status/1175...</td>\n",
       "      <td>[protest]</td>\n",
       "      <td>[ethics]</td>\n",
       "      <td>[white collar workers, inhouse workers]</td>\n",
       "      <td>IBM workers formed an organization, IBM: Speak...</td>\n",
       "      <td>NaN</td>\n",
       "      <td>[worldwide]</td>\n",
       "      <td>[ibm]</td>\n",
       "      <td>NaN</td>\n",
       "      <td>[international_solidarity]</td>\n",
       "      <td>[nataliyaned]</td>\n",
       "      <td>None</td>\n",
       "      <td>None</td>\n",
       "    </tr>\n",
       "    <tr>\n",
       "      <th>5</th>\n",
       "      <td>2</td>\n",
       "      <td>1986-09-16</td>\n",
       "      <td>[https://www.nytimes.com/1986/09/16/science/so...</td>\n",
       "      <td>[open letter]</td>\n",
       "      <td>[ethics]</td>\n",
       "      <td>[white collar workers, inhouse workers]</td>\n",
       "      <td>Fourteen employees at AT&amp;T sign a letter warni...</td>\n",
       "      <td>NaN</td>\n",
       "      <td>[usa]</td>\n",
       "      <td>[at&amp;t]</td>\n",
       "      <td>14.0</td>\n",
       "      <td>None</td>\n",
       "      <td>[nataliyaned]</td>\n",
       "      <td>[[33.80967965, -117.83605415]]</td>\n",
       "      <td>[AT&amp;T, 1302, North Tustin Street, Orange, Oran...</td>\n",
       "    </tr>\n",
       "    <tr>\n",
       "      <th>6</th>\n",
       "      <td>3</td>\n",
       "      <td>1986-09-16</td>\n",
       "      <td>[https://www.nytimes.com/1986/09/16/science/so...</td>\n",
       "      <td>[open letter]</td>\n",
       "      <td>[ethics]</td>\n",
       "      <td>[white collar workers]</td>\n",
       "      <td>A group of computer professionals, led by Comp...</td>\n",
       "      <td>NaN</td>\n",
       "      <td>[usa]</td>\n",
       "      <td>None</td>\n",
       "      <td>30.0</td>\n",
       "      <td>None</td>\n",
       "      <td>[nataliyaned]</td>\n",
       "      <td>[[39.7837304, -100.4458825]]</td>\n",
       "      <td>[United States]</td>\n",
       "    </tr>\n",
       "    <tr>\n",
       "      <th>7</th>\n",
       "      <td>4</td>\n",
       "      <td>1994-01-24</td>\n",
       "      <td>[https://www.nytimes.com/1994/06/12/magazine/b...</td>\n",
       "      <td>[open letter]</td>\n",
       "      <td>[ethics]</td>\n",
       "      <td>[white collar workers]</td>\n",
       "      <td>Computer Professionals for Social Responsibili...</td>\n",
       "      <td>1.0</td>\n",
       "      <td>None</td>\n",
       "      <td>None</td>\n",
       "      <td>50000.0</td>\n",
       "      <td>None</td>\n",
       "      <td>[nataliyaned]</td>\n",
       "      <td>None</td>\n",
       "      <td>None</td>\n",
       "    </tr>\n",
       "    <tr>\n",
       "      <th>8</th>\n",
       "      <td>5</td>\n",
       "      <td>1998-11-23</td>\n",
       "      <td>[http://www.cnn.com/tech/computing/9811/23/mst...</td>\n",
       "      <td>[legal action]</td>\n",
       "      <td>[unfair labor practices, pay and benefits]</td>\n",
       "      <td>[contract workers]</td>\n",
       "      <td>A law firm representing 10 current and former ...</td>\n",
       "      <td>NaN</td>\n",
       "      <td>[usa]</td>\n",
       "      <td>[microsoft]</td>\n",
       "      <td>10.0</td>\n",
       "      <td>None</td>\n",
       "      <td>[organizejs]</td>\n",
       "      <td>[[35.139622349999996, -80.92306993327955]]</td>\n",
       "      <td>[Microsoft, Ayrsley, Charlotte, Mecklenburg Co...</td>\n",
       "    </tr>\n",
       "    <tr>\n",
       "      <th>9</th>\n",
       "      <td>6</td>\n",
       "      <td>1999-06-04</td>\n",
       "      <td>[https://www.latimes.com/archives/la-xpm-1999-...</td>\n",
       "      <td>[union drive]</td>\n",
       "      <td>[pay and benefits]</td>\n",
       "      <td>[white collar workers, contract workers]</td>\n",
       "      <td>A group of temporary workers at Microsoft that...</td>\n",
       "      <td>NaN</td>\n",
       "      <td>[seattle-washington-usa]</td>\n",
       "      <td>[microsoft]</td>\n",
       "      <td>16.0</td>\n",
       "      <td>[washtech]</td>\n",
       "      <td>[nataliyaned]</td>\n",
       "      <td>[[47.5388725, -122.2901728]]</td>\n",
       "      <td>[Microsoft Gathering Hall, 7054, 32nd Avenue S...</td>\n",
       "    </tr>\n",
       "    <tr>\n",
       "      <th>10</th>\n",
       "      <td>7</td>\n",
       "      <td>1999-10-01</td>\n",
       "      <td>[https://www.computerworld.com/article/3019552...</td>\n",
       "      <td>[union drive]</td>\n",
       "      <td>[pay and benefits, working conditions]</td>\n",
       "      <td>[white collar workers, inhouse workers]</td>\n",
       "      <td>The Communications Workers of America have ren...</td>\n",
       "      <td>NaN</td>\n",
       "      <td>[worldwide]</td>\n",
       "      <td>[ibm]</td>\n",
       "      <td>NaN</td>\n",
       "      <td>[cwa]</td>\n",
       "      <td>[nataliyaned]</td>\n",
       "      <td>None</td>\n",
       "      <td>None</td>\n",
       "    </tr>\n",
       "    <tr>\n",
       "      <th>11</th>\n",
       "      <td>8</td>\n",
       "      <td>2000-11-16</td>\n",
       "      <td>[https://money.cnn.com/2000/11/16/technology/a...</td>\n",
       "      <td>[union drive]</td>\n",
       "      <td>[pay and benefits, working conditions]</td>\n",
       "      <td>[inhouse workers]</td>\n",
       "      <td>In one of the first reported unionization atte...</td>\n",
       "      <td>NaN</td>\n",
       "      <td>[seattle-washington-usa]</td>\n",
       "      <td>[amazon]</td>\n",
       "      <td>400.0</td>\n",
       "      <td>[washtech, cwa]</td>\n",
       "      <td>[nataliyaned]</td>\n",
       "      <td>[[47.6142939, -122.3239636]]</td>\n",
       "      <td>[Amazon Go Grocery, 610, East Pike Street, Fir...</td>\n",
       "    </tr>\n",
       "    <tr>\n",
       "      <th>12</th>\n",
       "      <td>9</td>\n",
       "      <td>2000-11-23</td>\n",
       "      <td>[https://www.nytimes.com/2000/11/23/business/t...</td>\n",
       "      <td>[union drive]</td>\n",
       "      <td>[pay and benefits, working conditions]</td>\n",
       "      <td>[blue collar workers]</td>\n",
       "      <td>The United Food and Commercial Workers Union i...</td>\n",
       "      <td>NaN</td>\n",
       "      <td>[usa]</td>\n",
       "      <td>[amazon]</td>\n",
       "      <td>5000.0</td>\n",
       "      <td>None</td>\n",
       "      <td>[nataliyaned]</td>\n",
       "      <td>[[47.6142939, -122.3239636]]</td>\n",
       "      <td>[Amazon Go Grocery, 610, East Pike Street, Fir...</td>\n",
       "    </tr>\n",
       "    <tr>\n",
       "      <th>13</th>\n",
       "      <td>10</td>\n",
       "      <td>2001-01-09</td>\n",
       "      <td>[https://www.nytimes.com/2001/01/09/business/t...</td>\n",
       "      <td>[union representation]</td>\n",
       "      <td>[pay and benefits, working conditions]</td>\n",
       "      <td>[inhouse workers]</td>\n",
       "      <td>Customer service representatives at etown.com,...</td>\n",
       "      <td>NaN</td>\n",
       "      <td>[san francisco-california-usa]</td>\n",
       "      <td>[etown]</td>\n",
       "      <td>13.0</td>\n",
       "      <td>[washtech, cwa, retaliation]</td>\n",
       "      <td>[nataliyaned]</td>\n",
       "      <td>None</td>\n",
       "      <td>None</td>\n",
       "    </tr>\n",
       "    <tr>\n",
       "      <th>14</th>\n",
       "      <td>11</td>\n",
       "      <td>2004-09-29</td>\n",
       "      <td>[http://www.nbcnews.com/id/6134119/ns/business...</td>\n",
       "      <td>[legal action]</td>\n",
       "      <td>[discrimination, pay and benefits]</td>\n",
       "      <td>[na]</td>\n",
       "      <td>IBM employees launched a class-action lawsuit ...</td>\n",
       "      <td>NaN</td>\n",
       "      <td>[usa]</td>\n",
       "      <td>[ibm]</td>\n",
       "      <td>140000.0</td>\n",
       "      <td>[ageism]</td>\n",
       "      <td>[nataliyaned]</td>\n",
       "      <td>[[44.05795005, -92.50701462052399]]</td>\n",
       "      <td>[IBM, Rochester, Olmsted County, Minnesota, Un...</td>\n",
       "    </tr>\n",
       "    <tr>\n",
       "      <th>15</th>\n",
       "      <td>12</td>\n",
       "      <td>2006-03-09</td>\n",
       "      <td>[http://old.seattletimes.com/html/businesstech...</td>\n",
       "      <td>[union drive]</td>\n",
       "      <td>[pay and benefits]</td>\n",
       "      <td>[white collar workers]</td>\n",
       "      <td>After anonymously receiving several pages of c...</td>\n",
       "      <td>NaN</td>\n",
       "      <td>[seattle-washington-usa]</td>\n",
       "      <td>[microsoft]</td>\n",
       "      <td>NaN</td>\n",
       "      <td>[washtech, cwa]</td>\n",
       "      <td>[nataliyaned]</td>\n",
       "      <td>[[47.5388725, -122.2901728]]</td>\n",
       "      <td>[Microsoft Gathering Hall, 7054, 32nd Avenue S...</td>\n",
       "    </tr>\n",
       "    <tr>\n",
       "      <th>16</th>\n",
       "      <td>13</td>\n",
       "      <td>2007-07-14</td>\n",
       "      <td>[https://www.bloomberg.com/news/articles/2007-...</td>\n",
       "      <td>[protest]</td>\n",
       "      <td>[job security]</td>\n",
       "      <td>[white collar workers]</td>\n",
       "      <td>Approximately a thousand foreign tech workers ...</td>\n",
       "      <td>NaN</td>\n",
       "      <td>[san jose-california-usa]</td>\n",
       "      <td>None</td>\n",
       "      <td>1000.0</td>\n",
       "      <td>[immigration]</td>\n",
       "      <td>[nataliyaned]</td>\n",
       "      <td>[[37.3361905, -121.890583]]</td>\n",
       "      <td>[San Jose, Santa Clara County, California, Uni...</td>\n",
       "    </tr>\n",
       "    <tr>\n",
       "      <th>17</th>\n",
       "      <td>14</td>\n",
       "      <td>2007-09-26</td>\n",
       "      <td>[https://money.cnn.com/2007/09/25/smbusiness/h...</td>\n",
       "      <td>[protest]</td>\n",
       "      <td>[job security]</td>\n",
       "      <td>[white collar workers]</td>\n",
       "      <td>Roughly  a thousand foreign tech workers prote...</td>\n",
       "      <td>NaN</td>\n",
       "      <td>[washington_dc-usa]</td>\n",
       "      <td>None</td>\n",
       "      <td>1000.0</td>\n",
       "      <td>[immigration]</td>\n",
       "      <td>[nataliyaned]</td>\n",
       "      <td>None</td>\n",
       "      <td>None</td>\n",
       "    </tr>\n",
       "    <tr>\n",
       "      <th>18</th>\n",
       "      <td>15</td>\n",
       "      <td>2007-10-30</td>\n",
       "      <td>[https://www.nytimes.com/2007/10/30/technology...</td>\n",
       "      <td>[protest]</td>\n",
       "      <td>[job security]</td>\n",
       "      <td>[white collar workers, inhouse workers]</td>\n",
       "      <td>Hundreds' of immigrant tech workers protested ...</td>\n",
       "      <td>NaN</td>\n",
       "      <td>[san jose-california-usa]</td>\n",
       "      <td>None</td>\n",
       "      <td>200.0</td>\n",
       "      <td>[immigration]</td>\n",
       "      <td>[nataliyaned]</td>\n",
       "      <td>[[37.3361905, -121.890583]]</td>\n",
       "      <td>[San Jose, Santa Clara County, California, Uni...</td>\n",
       "    </tr>\n",
       "    <tr>\n",
       "      <th>19</th>\n",
       "      <td>16</td>\n",
       "      <td>2009-05-18</td>\n",
       "      <td>[http://www.asianews.it/index.php?l=en&amp;art=152...</td>\n",
       "      <td>[legal action, protest]</td>\n",
       "      <td>[pay and benefits]</td>\n",
       "      <td>[na]</td>\n",
       "      <td>Thousands' of Baidu employees filed complaints...</td>\n",
       "      <td>NaN</td>\n",
       "      <td>[shenzen-china]</td>\n",
       "      <td>[baidu]</td>\n",
       "      <td>1000.0</td>\n",
       "      <td>None</td>\n",
       "      <td>[nataliyaned]</td>\n",
       "      <td>None</td>\n",
       "      <td>None</td>\n",
       "    </tr>\n",
       "  </tbody>\n",
       "</table>\n",
       "</div>"
      ],
      "text/plain": [
       "     id       date                                            sources  \\\n",
       "0   314 1970-01-01  [https://www.theguardian.com/commentisfree/201...   \n",
       "1   313 1970-10-08  [https://www.dissentmagazine.org/online_articl...   \n",
       "2   322 1970-12-01  [https://archive.scienceforthepeople.org/vol-6...   \n",
       "3   323 1973-01-01  [https://archive.scienceforthepeople.org/vol-8...   \n",
       "4     1 1979-09-01  [https://twitter.com/clancynewyork/status/1175...   \n",
       "5     2 1986-09-16  [https://www.nytimes.com/1986/09/16/science/so...   \n",
       "6     3 1986-09-16  [https://www.nytimes.com/1986/09/16/science/so...   \n",
       "7     4 1994-01-24  [https://www.nytimes.com/1994/06/12/magazine/b...   \n",
       "8     5 1998-11-23  [http://www.cnn.com/tech/computing/9811/23/mst...   \n",
       "9     6 1999-06-04  [https://www.latimes.com/archives/la-xpm-1999-...   \n",
       "10    7 1999-10-01  [https://www.computerworld.com/article/3019552...   \n",
       "11    8 2000-11-16  [https://money.cnn.com/2000/11/16/technology/a...   \n",
       "12    9 2000-11-23  [https://www.nytimes.com/2000/11/23/business/t...   \n",
       "13   10 2001-01-09  [https://www.nytimes.com/2001/01/09/business/t...   \n",
       "14   11 2004-09-29  [http://www.nbcnews.com/id/6134119/ns/business...   \n",
       "15   12 2006-03-09  [http://old.seattletimes.com/html/businesstech...   \n",
       "16   13 2007-07-14  [https://www.bloomberg.com/news/articles/2007-...   \n",
       "17   14 2007-09-26  [https://money.cnn.com/2007/09/25/smbusiness/h...   \n",
       "18   15 2007-10-30  [https://www.nytimes.com/2007/10/30/technology...   \n",
       "19   16 2009-05-18  [http://www.asianews.it/index.php?l=en&art=152...   \n",
       "\n",
       "                    actions                                   struggles  \\\n",
       "0               [resources]                    [ethics, discrimination]   \n",
       "1        [protest, boycott]                                    [ethics]   \n",
       "2             [union drive]                    [unfair labor practices]   \n",
       "3             [union drive]                    [unfair labor practices]   \n",
       "4                 [protest]                                    [ethics]   \n",
       "5             [open letter]                                    [ethics]   \n",
       "6             [open letter]                                    [ethics]   \n",
       "7             [open letter]                                    [ethics]   \n",
       "8            [legal action]  [unfair labor practices, pay and benefits]   \n",
       "9             [union drive]                          [pay and benefits]   \n",
       "10            [union drive]      [pay and benefits, working conditions]   \n",
       "11            [union drive]      [pay and benefits, working conditions]   \n",
       "12            [union drive]      [pay and benefits, working conditions]   \n",
       "13   [union representation]      [pay and benefits, working conditions]   \n",
       "14           [legal action]          [discrimination, pay and benefits]   \n",
       "15            [union drive]                          [pay and benefits]   \n",
       "16                [protest]                              [job security]   \n",
       "17                [protest]                              [job security]   \n",
       "18                [protest]                              [job security]   \n",
       "19  [legal action, protest]                          [pay and benefits]   \n",
       "\n",
       "                               employment_types  \\\n",
       "0       [white collar workers, inhouse workers]   \n",
       "1       [white collar workers, inhouse workers]   \n",
       "2   [white collar workers, blue collar workers]   \n",
       "3       [white collar workers, inhouse workers]   \n",
       "4       [white collar workers, inhouse workers]   \n",
       "5       [white collar workers, inhouse workers]   \n",
       "6                        [white collar workers]   \n",
       "7                        [white collar workers]   \n",
       "8                            [contract workers]   \n",
       "9      [white collar workers, contract workers]   \n",
       "10      [white collar workers, inhouse workers]   \n",
       "11                            [inhouse workers]   \n",
       "12                        [blue collar workers]   \n",
       "13                            [inhouse workers]   \n",
       "14                                         [na]   \n",
       "15                       [white collar workers]   \n",
       "16                       [white collar workers]   \n",
       "17                       [white collar workers]   \n",
       "18      [white collar workers, inhouse workers]   \n",
       "19                                         [na]   \n",
       "\n",
       "                                          description  online  \\\n",
       "0   Black IBM employees founded the National Black...     NaN   \n",
       "1   Polaroid workers affiliated with the Polaroid ...     NaN   \n",
       "2   The Committee to Plan a Computer Union meets t...     NaN   \n",
       "3   Workers at Silicon Valley conglomerate Smith-C...     NaN   \n",
       "4   IBM workers formed an organization, IBM: Speak...     NaN   \n",
       "5   Fourteen employees at AT&T sign a letter warni...     NaN   \n",
       "6   A group of computer professionals, led by Comp...     NaN   \n",
       "7   Computer Professionals for Social Responsibili...     1.0   \n",
       "8   A law firm representing 10 current and former ...     NaN   \n",
       "9   A group of temporary workers at Microsoft that...     NaN   \n",
       "10  The Communications Workers of America have ren...     NaN   \n",
       "11  In one of the first reported unionization atte...     NaN   \n",
       "12  The United Food and Commercial Workers Union i...     NaN   \n",
       "13  Customer service representatives at etown.com,...     NaN   \n",
       "14  IBM employees launched a class-action lawsuit ...     NaN   \n",
       "15  After anonymously receiving several pages of c...     NaN   \n",
       "16  Approximately a thousand foreign tech workers ...     NaN   \n",
       "17  Roughly  a thousand foreign tech workers prote...     NaN   \n",
       "18  Hundreds' of immigrant tech workers protested ...     NaN   \n",
       "19  Thousands' of Baidu employees filed complaints...     NaN   \n",
       "\n",
       "                         locations                companies   workers  \\\n",
       "0                            [usa]                    [ibm]       NaN   \n",
       "1    [cambridge-massachusetts-usa]               [polaroid]       2.0   \n",
       "2     [new york city-new york-usa]                     None       NaN   \n",
       "3                 [california-usa]  [smith-corona-marchant]      50.0   \n",
       "4                      [worldwide]                    [ibm]       NaN   \n",
       "5                            [usa]                   [at&t]      14.0   \n",
       "6                            [usa]                     None      30.0   \n",
       "7                             None                     None   50000.0   \n",
       "8                            [usa]              [microsoft]      10.0   \n",
       "9         [seattle-washington-usa]              [microsoft]      16.0   \n",
       "10                     [worldwide]                    [ibm]       NaN   \n",
       "11        [seattle-washington-usa]                 [amazon]     400.0   \n",
       "12                           [usa]                 [amazon]    5000.0   \n",
       "13  [san francisco-california-usa]                  [etown]      13.0   \n",
       "14                           [usa]                    [ibm]  140000.0   \n",
       "15        [seattle-washington-usa]              [microsoft]       NaN   \n",
       "16       [san jose-california-usa]                     None    1000.0   \n",
       "17             [washington_dc-usa]                     None    1000.0   \n",
       "18       [san jose-california-usa]                     None     200.0   \n",
       "19                 [shenzen-china]                  [baidu]    1000.0   \n",
       "\n",
       "                            tags         author  \\\n",
       "0                   [antiracism]  [nataliyaned]   \n",
       "1     [antiracism, surveillance]  [nataliyaned]   \n",
       "2                           None  [nataliyaned]   \n",
       "3                           None  [nataliyaned]   \n",
       "4     [international_solidarity]  [nataliyaned]   \n",
       "5                           None  [nataliyaned]   \n",
       "6                           None  [nataliyaned]   \n",
       "7                           None  [nataliyaned]   \n",
       "8                           None   [organizejs]   \n",
       "9                     [washtech]  [nataliyaned]   \n",
       "10                         [cwa]  [nataliyaned]   \n",
       "11               [washtech, cwa]  [nataliyaned]   \n",
       "12                          None  [nataliyaned]   \n",
       "13  [washtech, cwa, retaliation]  [nataliyaned]   \n",
       "14                      [ageism]  [nataliyaned]   \n",
       "15               [washtech, cwa]  [nataliyaned]   \n",
       "16                 [immigration]  [nataliyaned]   \n",
       "17                 [immigration]  [nataliyaned]   \n",
       "18                 [immigration]  [nataliyaned]   \n",
       "19                          None  [nataliyaned]   \n",
       "\n",
       "                                       latlngs  \\\n",
       "0          [[44.05795005, -92.50701462052399]]   \n",
       "1                                         None   \n",
       "2                  [[40.7127281, -74.0060152]]   \n",
       "3                                         None   \n",
       "4                                         None   \n",
       "5               [[33.80967965, -117.83605415]]   \n",
       "6                 [[39.7837304, -100.4458825]]   \n",
       "7                                         None   \n",
       "8   [[35.139622349999996, -80.92306993327955]]   \n",
       "9                 [[47.5388725, -122.2901728]]   \n",
       "10                                        None   \n",
       "11                [[47.6142939, -122.3239636]]   \n",
       "12                [[47.6142939, -122.3239636]]   \n",
       "13                                        None   \n",
       "14         [[44.05795005, -92.50701462052399]]   \n",
       "15                [[47.5388725, -122.2901728]]   \n",
       "16                 [[37.3361905, -121.890583]]   \n",
       "17                                        None   \n",
       "18                 [[37.3361905, -121.890583]]   \n",
       "19                                        None   \n",
       "\n",
       "                                            addresses  \n",
       "0   [IBM, Rochester, Olmsted County, Minnesota, Un...  \n",
       "1                                                None  \n",
       "2                           [New York, United States]  \n",
       "3                                                None  \n",
       "4                                                None  \n",
       "5   [AT&T, 1302, North Tustin Street, Orange, Oran...  \n",
       "6                                     [United States]  \n",
       "7                                                None  \n",
       "8   [Microsoft, Ayrsley, Charlotte, Mecklenburg Co...  \n",
       "9   [Microsoft Gathering Hall, 7054, 32nd Avenue S...  \n",
       "10                                               None  \n",
       "11  [Amazon Go Grocery, 610, East Pike Street, Fir...  \n",
       "12  [Amazon Go Grocery, 610, East Pike Street, Fir...  \n",
       "13                                               None  \n",
       "14  [IBM, Rochester, Olmsted County, Minnesota, Un...  \n",
       "15  [Microsoft Gathering Hall, 7054, 32nd Avenue S...  \n",
       "16  [San Jose, Santa Clara County, California, Uni...  \n",
       "17                                               None  \n",
       "18  [San Jose, Santa Clara County, California, Uni...  \n",
       "19                                               None  "
      ]
     },
     "execution_count": 5,
     "metadata": {},
     "output_type": "execute_result"
    }
   ],
   "source": [
    "json_url = \"https://raw.githubusercontent.com/collective-action/tech/master/actions.json\"\n",
    "df = pd.read_json(json_url)\n",
    "df[\"date\"] = pd.to_datetime(df[\"date\"])  # cast date col to datetime64\n",
    "df.head(20)"
   ]
  },
  {
   "cell_type": "markdown",
   "metadata": {},
   "source": [
    "# Clean up"
   ]
  },
  {
   "cell_type": "code",
   "execution_count": 6,
   "metadata": {
    "collapsed": true
   },
   "outputs": [],
   "source": [
    "# clean up strings:\n",
    "df[\"struggles\"] = df[\"struggles\"].astype(str).str.strip(\"[]\\'\\'\")\n",
    "df[\"actions\"] = df[\"actions\"].astype(str).str.strip(\"[]\\'\\'\")\n",
    "df[\"companies\"] = df[\"companies\"].astype(str).str.strip(\"[]\\'\\'\")\n",
    "df[\"employment_types\"] = df[\"employment_types\"].astype(str).str.strip(\"[]\\'\\'\")\n",
    "df[\"sources\"] = df[\"sources\"].astype(str).str.strip(\"[]\\'\\'\")\n",
    "df[\"tags\"] = df[\"tags\"].astype(str).str.strip(\"[]\\'\\'\")\n",
    "df[\"locations\"] = df[\"locations\"].astype(str).str.strip(\"[]\\'\\'\")\n",
    "\n",
    "df[\"struggles\"] = df[\"struggles\"].astype(str).str.replace(\"'\", \"\")\n",
    "df[\"actions\"] = df[\"actions\"].astype(str).str.replace(\"'\", \"\")\n",
    "df[\"companies\"] = df[\"companies\"].astype(str).str.replace(\"'\", \"\")\n",
    "df[\"employment_types\"] = df[\"employment_types\"].astype(str).str.replace(\"'\", \"\")\n",
    "df[\"sources\"] = df[\"sources\"].astype(str).str.replace(\"'\", \"\")\n",
    "df[\"tags\"] = df[\"tags\"].astype(str).str.replace(\"'\", \"\")\n",
    "df[\"locations\"] = df[\"locations\"].astype(str).str.replace(\"'\", \"\")\n",
    "\n",
    "# add a 'year' column\n",
    "df['year'] = pd.DatetimeIndex(df['date']).year\n",
    "df['month'] = pd.DatetimeIndex(df['date']).month\n",
    "\n",
    "# add precarity label\n",
    "df[\"precarious\"] = [\n",
    "    True\n",
    "    if \"blue collar workers\" in x.split(\", \")\n",
    "    or \"contract workers\" in x.split(\", \")\n",
    "    or \"gig workers\" in x.split(\", \")\n",
    "    else False\n",
    "    for x in df[\"employment_types\"]\n",
    "]\n",
    "\n",
    "# clean up \"online\" to be true or false\n",
    "df[\"online\"] = [\n",
    "    True\n",
    "    if x == 1\n",
    "    else False\n",
    "    for x in df[\"online\"]\n",
    "]"
   ]
  },
  {
   "cell_type": "code",
   "execution_count": 7,
   "metadata": {},
   "outputs": [
    {
     "data": {
      "text/html": [
       "<div>\n",
       "<style scoped>\n",
       "    .dataframe tbody tr th:only-of-type {\n",
       "        vertical-align: middle;\n",
       "    }\n",
       "\n",
       "    .dataframe tbody tr th {\n",
       "        vertical-align: top;\n",
       "    }\n",
       "\n",
       "    .dataframe thead th {\n",
       "        text-align: right;\n",
       "    }\n",
       "</style>\n",
       "<table border=\"1\" class=\"dataframe\">\n",
       "  <thead>\n",
       "    <tr style=\"text-align: right;\">\n",
       "      <th></th>\n",
       "      <th>id</th>\n",
       "      <th>date</th>\n",
       "      <th>sources</th>\n",
       "      <th>actions</th>\n",
       "      <th>struggles</th>\n",
       "      <th>employment_types</th>\n",
       "      <th>description</th>\n",
       "      <th>online</th>\n",
       "      <th>locations</th>\n",
       "      <th>companies</th>\n",
       "      <th>workers</th>\n",
       "      <th>tags</th>\n",
       "      <th>author</th>\n",
       "      <th>latlngs</th>\n",
       "      <th>addresses</th>\n",
       "      <th>year</th>\n",
       "      <th>month</th>\n",
       "      <th>precarious</th>\n",
       "    </tr>\n",
       "  </thead>\n",
       "  <tbody>\n",
       "    <tr>\n",
       "      <th>0</th>\n",
       "      <td>314</td>\n",
       "      <td>1970-01-01</td>\n",
       "      <td>https://www.theguardian.com/commentisfree/2019...</td>\n",
       "      <td>resources</td>\n",
       "      <td>ethics, discrimination</td>\n",
       "      <td>white collar workers, inhouse workers</td>\n",
       "      <td>Black IBM employees founded the National Black...</td>\n",
       "      <td>False</td>\n",
       "      <td>usa</td>\n",
       "      <td>ibm</td>\n",
       "      <td>NaN</td>\n",
       "      <td>antiracism</td>\n",
       "      <td>[nataliyaned]</td>\n",
       "      <td>[[44.05795005, -92.50701462052399]]</td>\n",
       "      <td>[IBM, Rochester, Olmsted County, Minnesota, Un...</td>\n",
       "      <td>1970</td>\n",
       "      <td>1</td>\n",
       "      <td>False</td>\n",
       "    </tr>\n",
       "    <tr>\n",
       "      <th>1</th>\n",
       "      <td>313</td>\n",
       "      <td>1970-10-08</td>\n",
       "      <td>https://www.dissentmagazine.org/online_article...</td>\n",
       "      <td>protest, boycott</td>\n",
       "      <td>ethics</td>\n",
       "      <td>white collar workers, inhouse workers</td>\n",
       "      <td>Polaroid workers affiliated with the Polaroid ...</td>\n",
       "      <td>False</td>\n",
       "      <td>cambridge-massachusetts-usa</td>\n",
       "      <td>polaroid</td>\n",
       "      <td>2.0</td>\n",
       "      <td>antiracism, surveillance</td>\n",
       "      <td>[nataliyaned]</td>\n",
       "      <td>None</td>\n",
       "      <td>None</td>\n",
       "      <td>1970</td>\n",
       "      <td>10</td>\n",
       "      <td>False</td>\n",
       "    </tr>\n",
       "    <tr>\n",
       "      <th>2</th>\n",
       "      <td>322</td>\n",
       "      <td>1970-12-01</td>\n",
       "      <td>https://archive.scienceforthepeople.org/vol-6/...</td>\n",
       "      <td>union drive</td>\n",
       "      <td>unfair labor practices</td>\n",
       "      <td>white collar workers, blue collar workers</td>\n",
       "      <td>The Committee to Plan a Computer Union meets t...</td>\n",
       "      <td>False</td>\n",
       "      <td>new york city-new york-usa</td>\n",
       "      <td>None</td>\n",
       "      <td>NaN</td>\n",
       "      <td>None</td>\n",
       "      <td>[nataliyaned]</td>\n",
       "      <td>[[40.7127281, -74.0060152]]</td>\n",
       "      <td>[New York, United States]</td>\n",
       "      <td>1970</td>\n",
       "      <td>12</td>\n",
       "      <td>True</td>\n",
       "    </tr>\n",
       "    <tr>\n",
       "      <th>3</th>\n",
       "      <td>323</td>\n",
       "      <td>1973-01-01</td>\n",
       "      <td>https://archive.scienceforthepeople.org/vol-8/...</td>\n",
       "      <td>union drive</td>\n",
       "      <td>unfair labor practices</td>\n",
       "      <td>white collar workers, inhouse workers</td>\n",
       "      <td>Workers at Silicon Valley conglomerate Smith-C...</td>\n",
       "      <td>False</td>\n",
       "      <td>california-usa</td>\n",
       "      <td>smith-corona-marchant</td>\n",
       "      <td>50.0</td>\n",
       "      <td>None</td>\n",
       "      <td>[nataliyaned]</td>\n",
       "      <td>None</td>\n",
       "      <td>None</td>\n",
       "      <td>1973</td>\n",
       "      <td>1</td>\n",
       "      <td>False</td>\n",
       "    </tr>\n",
       "    <tr>\n",
       "      <th>4</th>\n",
       "      <td>1</td>\n",
       "      <td>1979-09-01</td>\n",
       "      <td>https://twitter.com/clancynewyork/status/11758...</td>\n",
       "      <td>protest</td>\n",
       "      <td>ethics</td>\n",
       "      <td>white collar workers, inhouse workers</td>\n",
       "      <td>IBM workers formed an organization, IBM: Speak...</td>\n",
       "      <td>False</td>\n",
       "      <td>worldwide</td>\n",
       "      <td>ibm</td>\n",
       "      <td>NaN</td>\n",
       "      <td>international_solidarity</td>\n",
       "      <td>[nataliyaned]</td>\n",
       "      <td>None</td>\n",
       "      <td>None</td>\n",
       "      <td>1979</td>\n",
       "      <td>9</td>\n",
       "      <td>False</td>\n",
       "    </tr>\n",
       "  </tbody>\n",
       "</table>\n",
       "</div>"
      ],
      "text/plain": [
       "    id       date                                            sources  \\\n",
       "0  314 1970-01-01  https://www.theguardian.com/commentisfree/2019...   \n",
       "1  313 1970-10-08  https://www.dissentmagazine.org/online_article...   \n",
       "2  322 1970-12-01  https://archive.scienceforthepeople.org/vol-6/...   \n",
       "3  323 1973-01-01  https://archive.scienceforthepeople.org/vol-8/...   \n",
       "4    1 1979-09-01  https://twitter.com/clancynewyork/status/11758...   \n",
       "\n",
       "            actions               struggles  \\\n",
       "0         resources  ethics, discrimination   \n",
       "1  protest, boycott                  ethics   \n",
       "2       union drive  unfair labor practices   \n",
       "3       union drive  unfair labor practices   \n",
       "4           protest                  ethics   \n",
       "\n",
       "                            employment_types  \\\n",
       "0      white collar workers, inhouse workers   \n",
       "1      white collar workers, inhouse workers   \n",
       "2  white collar workers, blue collar workers   \n",
       "3      white collar workers, inhouse workers   \n",
       "4      white collar workers, inhouse workers   \n",
       "\n",
       "                                         description  online  \\\n",
       "0  Black IBM employees founded the National Black...   False   \n",
       "1  Polaroid workers affiliated with the Polaroid ...   False   \n",
       "2  The Committee to Plan a Computer Union meets t...   False   \n",
       "3  Workers at Silicon Valley conglomerate Smith-C...   False   \n",
       "4  IBM workers formed an organization, IBM: Speak...   False   \n",
       "\n",
       "                     locations              companies  workers  \\\n",
       "0                          usa                    ibm      NaN   \n",
       "1  cambridge-massachusetts-usa               polaroid      2.0   \n",
       "2   new york city-new york-usa                   None      NaN   \n",
       "3               california-usa  smith-corona-marchant     50.0   \n",
       "4                    worldwide                    ibm      NaN   \n",
       "\n",
       "                       tags         author  \\\n",
       "0                antiracism  [nataliyaned]   \n",
       "1  antiracism, surveillance  [nataliyaned]   \n",
       "2                      None  [nataliyaned]   \n",
       "3                      None  [nataliyaned]   \n",
       "4  international_solidarity  [nataliyaned]   \n",
       "\n",
       "                               latlngs  \\\n",
       "0  [[44.05795005, -92.50701462052399]]   \n",
       "1                                 None   \n",
       "2          [[40.7127281, -74.0060152]]   \n",
       "3                                 None   \n",
       "4                                 None   \n",
       "\n",
       "                                           addresses  year  month  precarious  \n",
       "0  [IBM, Rochester, Olmsted County, Minnesota, Un...  1970      1       False  \n",
       "1                                               None  1970     10       False  \n",
       "2                          [New York, United States]  1970     12        True  \n",
       "3                                               None  1973      1       False  \n",
       "4                                               None  1979      9       False  "
      ]
     },
     "execution_count": 7,
     "metadata": {},
     "output_type": "execute_result"
    }
   ],
   "source": [
    "df.head()"
   ]
  },
  {
   "cell_type": "markdown",
   "metadata": {},
   "source": [
    "# Show actions per year"
   ]
  },
  {
   "cell_type": "code",
   "execution_count": 8,
   "metadata": {},
   "outputs": [
    {
     "data": {
      "image/png": "[encoded data removed]",
      "text/plain": [
       "<Figure size 1008x504 with 1 Axes>"
      ]
     },
     "metadata": {
      "needs_background": "light"
     },
     "output_type": "display_data"
    }
   ],
   "source": [
    "_df = df[\"year\"].value_counts(sort=False)[-y:]\n",
    "ax = _df.plot(kind=\"bar\")\n",
    "ax.set_ylabel(\"Number of Actions\", fontsize=14)\n",
    "add_value_labels(ax)"
   ]
  },
  {
   "cell_type": "markdown",
   "metadata": {},
   "source": [
    "# Show actions per year by precarity"
   ]
  },
  {
   "cell_type": "code",
   "execution_count": 9,
   "metadata": {},
   "outputs": [
    {
     "data": {
      "image/png": "[encoded data removed]",
      "text/plain": [
       "<Figure size 1008x504 with 1 Axes>"
      ]
     },
     "metadata": {
      "needs_background": "light"
     },
     "output_type": "display_data"
    }
   ],
   "source": [
    "is_p = df[df[\"precarious\"]==True][\"year\"].value_counts(sort=False).rename(\"Precarious\")\n",
    "not_p = df[df[\"precarious\"]==False][\"year\"].value_counts(sort=False).rename(\"Not Precarious\")\n",
    "_df = pd.concat([is_p, not_p], axis=1)[-y:]\n",
    "\n",
    "ax = _df.plot(kind=\"bar\")\n",
    "ax.set_ylabel(\"Number of Actions\", fontsize=14)\n",
    "add_value_labels(ax)"
   ]
  },
  {
   "cell_type": "markdown",
   "metadata": {},
   "source": [
    "\n",
    "# Show actions per year by white collar, blue collar, vs gig worker"
   ]
  },
  {
   "cell_type": "code",
   "execution_count": 10,
   "metadata": {},
   "outputs": [
    {
     "data": {
      "image/png": "[encoded data removed]",
      "text/plain": [
       "<Figure size 1008x504 with 1 Axes>"
      ]
     },
     "metadata": {
      "needs_background": "light"
     },
     "output_type": "display_data"
    }
   ],
   "source": [
    "white_collar = (\n",
    "    df[df[\"employment_types\"].str.contains(\"white collar worker\")][\"year\"]\n",
    "    .value_counts(sort=False)\n",
    "    .rename(\"White Collar\")\n",
    ")\n",
    "blue_collar = (\n",
    "    df[df[\"employment_types\"].str.contains(\"blue collar worker\")][\"year\"]\n",
    "    .value_counts(sort=False)\n",
    "    .rename(\"Blue Collar\")\n",
    ")\n",
    "gig = (\n",
    "    df[df[\"employment_types\"].str.contains(\"gig worker\")][\"year\"]\n",
    "    .value_counts(sort=False)\n",
    "    .rename(\"Gig\")\n",
    ")\n",
    "\n",
    "_df = pd.concat([white_collar, blue_collar, gig], axis=1)[-y:]\n",
    "ax = _df.plot(kind=\"bar\")\n",
    "ax.set_ylabel(\"Number of Actions\", fontsize=14)\n",
    "add_value_labels(ax)"
   ]
  },
  {
   "cell_type": "markdown",
   "metadata": {},
   "source": [
    "# Show actions per year comparing online vs offline\n"
   ]
  },
  {
   "cell_type": "code",
   "execution_count": 11,
   "metadata": {},
   "outputs": [
    {
     "data": {
      "image/png": "[encoded data removed]",
      "text/plain": [
       "<Figure size 1008x504 with 1 Axes>"
      ]
     },
     "metadata": {
      "needs_background": "light"
     },
     "output_type": "display_data"
    }
   ],
   "source": [
    "is_o = df[df[\"online\"]==True][\"year\"].value_counts(sort=False).rename(\"Online\")\n",
    "not_o = df[df[\"online\"]==False][\"year\"].value_counts(sort=False).rename(\"Not Online\")\n",
    "_df = pd.concat([is_o, not_o], axis=1)[-y:]\n",
    "ax = _df.plot(kind=\"bar\")\n",
    "ax.set_ylabel(\"Number of Actions\", fontsize=14)\n",
    "add_value_labels(ax)"
   ]
  },
  {
   "cell_type": "markdown",
   "metadata": {},
   "source": [
    "# Unionization rates"
   ]
  },
  {
   "cell_type": "code",
   "execution_count": 23,
   "metadata": {},
   "outputs": [
    {
     "name": "stdout",
     "output_type": "stream",
     "text": [
      "3 2 7 11\n"
     ]
    },
    {
     "data": {
      "text/html": [
       "<div>\n",
       "<style scoped>\n",
       "    .dataframe tbody tr th:only-of-type {\n",
       "        vertical-align: middle;\n",
       "    }\n",
       "\n",
       "    .dataframe tbody tr th {\n",
       "        vertical-align: top;\n",
       "    }\n",
       "\n",
       "    .dataframe thead th {\n",
       "        text-align: right;\n",
       "    }\n",
       "</style>\n",
       "<table border=\"1\" class=\"dataframe\">\n",
       "  <thead>\n",
       "    <tr style=\"text-align: right;\">\n",
       "      <th></th>\n",
       "      <th>date</th>\n",
       "      <th>locations</th>\n",
       "      <th>employment_types</th>\n",
       "      <th>companies</th>\n",
       "      <th>description</th>\n",
       "    </tr>\n",
       "  </thead>\n",
       "  <tbody>\n",
       "    <tr>\n",
       "      <th>230</th>\n",
       "      <td>2020-01-01</td>\n",
       "      <td>hong kong-china</td>\n",
       "      <td>white collar workers</td>\n",
       "      <td>None</td>\n",
       "      <td>The Hong Kong Information Technology Workers’ ...</td>\n",
       "    </tr>\n",
       "    <tr>\n",
       "      <th>233</th>\n",
       "      <td>2020-02-03</td>\n",
       "      <td>chicago-illinois-usa</td>\n",
       "      <td>blue collar workers, gig workers</td>\n",
       "      <td>instacart</td>\n",
       "      <td>A group of Instacart employees in the Chicago ...</td>\n",
       "    </tr>\n",
       "    <tr>\n",
       "      <th>239</th>\n",
       "      <td>2020-02-18</td>\n",
       "      <td>new york city-new york-usa</td>\n",
       "      <td>white collar workers</td>\n",
       "      <td>kickstarter</td>\n",
       "      <td>Employees at the crowdfunding platform Kicksta...</td>\n",
       "    </tr>\n",
       "    <tr>\n",
       "      <th>244</th>\n",
       "      <td>2020-03-13</td>\n",
       "      <td>new york city-new york-usa</td>\n",
       "      <td>white collar workers, inhouse workers</td>\n",
       "      <td>glitch</td>\n",
       "      <td>Employees of online software collaboration too...</td>\n",
       "    </tr>\n",
       "    <tr>\n",
       "      <th>252</th>\n",
       "      <td>2020-03-19</td>\n",
       "      <td>brooklyn-new york city-new york-usa</td>\n",
       "      <td>white collar workers, contract workers, inhous...</td>\n",
       "      <td>spotify, gimlet media</td>\n",
       "      <td>The staff of podcasting company Gimlet Media, ...</td>\n",
       "    </tr>\n",
       "    <tr>\n",
       "      <th>289</th>\n",
       "      <td>2020-06-12</td>\n",
       "      <td>toronto-ontario-canada</td>\n",
       "      <td>gig workers</td>\n",
       "      <td>foodora</td>\n",
       "      <td>Foodora couriers overwhelmingly voted to join ...</td>\n",
       "    </tr>\n",
       "    <tr>\n",
       "      <th>295</th>\n",
       "      <td>2020-06-26</td>\n",
       "      <td>toronto-canada</td>\n",
       "      <td>gig workers</td>\n",
       "      <td>uber</td>\n",
       "      <td>Approximately 300 Uber Black drivers in the To...</td>\n",
       "    </tr>\n",
       "    <tr>\n",
       "      <th>300</th>\n",
       "      <td>2020-07-20</td>\n",
       "      <td>zurich-switzerland</td>\n",
       "      <td>white collar workers, inhouse workers</td>\n",
       "      <td>google</td>\n",
       "      <td>Employees at Google's Zurich office voted to r...</td>\n",
       "    </tr>\n",
       "    <tr>\n",
       "      <th>308</th>\n",
       "      <td>2020-08-13</td>\n",
       "      <td>berlin-germany</td>\n",
       "      <td>white collar workers, contract workers</td>\n",
       "      <td>N26</td>\n",
       "      <td>After workers of N26 (digital bank) announced ...</td>\n",
       "    </tr>\n",
       "    <tr>\n",
       "      <th>326</th>\n",
       "      <td>2020-10-05</td>\n",
       "      <td>None</td>\n",
       "      <td>white collar workers, inhouse workers</td>\n",
       "      <td>spotify, parcast</td>\n",
       "      <td>Parcast, a Spotify-owned podcast company, anno...</td>\n",
       "    </tr>\n",
       "    <tr>\n",
       "      <th>344</th>\n",
       "      <td>2020-12-11</td>\n",
       "      <td>None</td>\n",
       "      <td>white collar workers, in-house workers</td>\n",
       "      <td>the ringer, spotify, gimlet media, parcast</td>\n",
       "      <td>Three unions at Spotify kicked off a two hour ...</td>\n",
       "    </tr>\n",
       "  </tbody>\n",
       "</table>\n",
       "</div>"
      ],
      "text/plain": [
       "          date                            locations  \\\n",
       "230 2020-01-01                      hong kong-china   \n",
       "233 2020-02-03                 chicago-illinois-usa   \n",
       "239 2020-02-18           new york city-new york-usa   \n",
       "244 2020-03-13           new york city-new york-usa   \n",
       "252 2020-03-19  brooklyn-new york city-new york-usa   \n",
       "289 2020-06-12               toronto-ontario-canada   \n",
       "295 2020-06-26                       toronto-canada   \n",
       "300 2020-07-20                   zurich-switzerland   \n",
       "308 2020-08-13                       berlin-germany   \n",
       "326 2020-10-05                                 None   \n",
       "344 2020-12-11                                 None   \n",
       "\n",
       "                                      employment_types  \\\n",
       "230                               white collar workers   \n",
       "233                   blue collar workers, gig workers   \n",
       "239                               white collar workers   \n",
       "244              white collar workers, inhouse workers   \n",
       "252  white collar workers, contract workers, inhous...   \n",
       "289                                        gig workers   \n",
       "295                                        gig workers   \n",
       "300              white collar workers, inhouse workers   \n",
       "308             white collar workers, contract workers   \n",
       "326              white collar workers, inhouse workers   \n",
       "344             white collar workers, in-house workers   \n",
       "\n",
       "                                      companies  \\\n",
       "230                                        None   \n",
       "233                                   instacart   \n",
       "239                                 kickstarter   \n",
       "244                                      glitch   \n",
       "252                       spotify, gimlet media   \n",
       "289                                     foodora   \n",
       "295                                        uber   \n",
       "300                                      google   \n",
       "308                                         N26   \n",
       "326                            spotify, parcast   \n",
       "344  the ringer, spotify, gimlet media, parcast   \n",
       "\n",
       "                                           description  \n",
       "230  The Hong Kong Information Technology Workers’ ...  \n",
       "233  A group of Instacart employees in the Chicago ...  \n",
       "239  Employees at the crowdfunding platform Kicksta...  \n",
       "244  Employees of online software collaboration too...  \n",
       "252  The staff of podcasting company Gimlet Media, ...  \n",
       "289  Foodora couriers overwhelmingly voted to join ...  \n",
       "295  Approximately 300 Uber Black drivers in the To...  \n",
       "300  Employees at Google's Zurich office voted to r...  \n",
       "308  After workers of N26 (digital bank) announced ...  \n",
       "326  Parcast, a Spotify-owned podcast company, anno...  \n",
       "344  Three unions at Spotify kicked off a two hour ...  "
      ]
     },
     "execution_count": 23,
     "metadata": {},
     "output_type": "execute_result"
    }
   ],
   "source": [
    "is_ur = df[(df[\"actions\"].str.contains(\"union representation\")) & (df[\"year\"]==2020)]\n",
    "\n",
    "is_ur_17 = len(df[(df[\"actions\"].str.contains(\"union representation\")) & (df[\"year\"]==2017)])\n",
    "is_ur_18 = len(df[(df[\"actions\"].str.contains(\"union representation\")) & (df[\"year\"]==2018)])\n",
    "is_ur_19 = len(df[(df[\"actions\"].str.contains(\"union representation\")) & (df[\"year\"]==2019)])\n",
    "is_ur_20 = len(df[(df[\"actions\"].str.contains(\"union representation\")) & (df[\"year\"]==2020)])\n",
    "print(is_ur_17, is_ur_18, is_ur_19, is_ur_20)\n",
    "is_ur[[\"date\", \"locations\", \"employment_types\", \"companies\", \"description\"]]\n"
   ]
  },
  {
   "cell_type": "code",
   "execution_count": 13,
   "metadata": {},
   "outputs": [
    {
     "data": {
      "image/png": "[encoded data removed]",
      "text/plain": [
       "<Figure size 1008x504 with 1 Axes>"
      ]
     },
     "metadata": {
      "needs_background": "light"
     },
     "output_type": "display_data"
    }
   ],
   "source": [
    "is_r = df[df[\"tags\"].str.contains(\"retaliation\")][\"year\"].value_counts(sort=False).rename(\"Retaliation\")\n",
    "_df = pd.concat([is_r], axis=1)[-y:]\n",
    "ax = _df.plot(kind=\"bar\")\n",
    "ax.set_ylabel(\"Number of Actions\", fontsize=14)\n",
    "add_value_labels(ax)"
   ]
  },
  {
   "cell_type": "markdown",
   "metadata": {},
   "source": [
    "# Show actions per year by open letter\n"
   ]
  },
  {
   "cell_type": "code",
   "execution_count": 26,
   "metadata": {},
   "outputs": [
    {
     "data": {
      "image/png": "[encoded data removed]",
      "text/plain": [
       "<Figure size 1008x504 with 1 Axes>"
      ]
     },
     "metadata": {
      "needs_background": "light"
     },
     "output_type": "display_data"
    }
   ],
   "source": [
    "is_ol_wc = df[(df[\"actions\"]=='open letter') & (df[\"employment_types\"].str.contains(\"white\"))][\"year\"].value_counts(sort=False).rename(\"White collar\")\n",
    "is_ol_nwc = df[(df[\"actions\"]=='open letter') & (~df[\"employment_types\"].str.contains(\"white\"))][\"year\"].value_counts(sort=False).rename(\"Non-white collar\")\n",
    "\n",
    "_df = pd.concat([is_ol_wc, is_ol_nwc], axis=1)[-y:]\n",
    "ax = _df.plot(kind=\"bar\")\n",
    "ax.set_ylabel(\"Number of Actions\", fontsize=14)\n",
    "add_value_labels(ax)"
   ]
  },
  {
   "cell_type": "markdown",
   "metadata": {},
   "source": [
    "# Show actions per year by struggle type"
   ]
  },
  {
   "cell_type": "code",
   "execution_count": 22,
   "metadata": {},
   "outputs": [
    {
     "data": {
      "image/png": "[encoded data removed]",
      "text/plain": [
       "<Figure size 1008x504 with 1 Axes>"
      ]
     },
     "metadata": {
      "needs_background": "light"
     },
     "output_type": "display_data"
    }
   ],
   "source": [
    "ethics = (\n",
    "    df[df[\"struggles\"].str.contains(\"ethics\")][\"year\"]\n",
    "    .value_counts(sort=False)\n",
    "    .rename(\"Ethics\")\n",
    ")\n",
    "working_conditions = (\n",
    "    df[df[\"struggles\"].str.contains(\"working conditions\")][\"year\"]\n",
    "    .value_counts(sort=False)\n",
    "    .rename(\"Working Conditions\")\n",
    ")\n",
    "pay_benefits = (\n",
    "    df[df[\"struggles\"].str.contains(\"pay and benefits\")][\"year\"]\n",
    "    .value_counts(sort=False)\n",
    "    .rename(\"Pay and Benefits\")\n",
    ")\n",
    "job_security = (\n",
    "    df[df[\"struggles\"].str.contains(\"job security\")][\"year\"]\n",
    "    .value_counts(sort=False)\n",
    "    .rename(\"Job Security\")\n",
    ")\n",
    "unfair_labor_practices = (\n",
    "    df[df[\"struggles\"].str.contains(\"unfair labor practices\")][\"year\"]\n",
    "    .value_counts(sort=False)\n",
    "    .rename(\"Unfair Labor Practices\")\n",
    ")\n",
    "\n",
    "_df = pd.concat([ethics, working_conditions, pay_benefits, job_security, unfair_labor_practices], axis=1)[-y:]\n",
    "ax = _df.plot(kind=\"bar\",)\n",
    "ax.set_ylabel(\"Number of Actions\", fontsize=14)\n",
    "add_value_labels(ax)\n",
    "\n",
    "# NOTE: some actions are motivated by multiple struggles, and so will be double-counted in the graph below."
   ]
  },
  {
   "cell_type": "markdown",
   "metadata": {},
   "source": [
    "# Show actions by FAAMG (Facebook, Apple, Amazon, Microsoft, Google)"
   ]
  },
  {
   "cell_type": "code",
   "execution_count": 35,
   "metadata": {},
   "outputs": [
    {
     "data": {
      "image/png": "[encoded data removed]",
      "text/plain": [
       "<Figure size 1008x504 with 1 Axes>"
      ]
     },
     "metadata": {
      "needs_background": "light"
     },
     "output_type": "display_data"
    }
   ],
   "source": [
    "google = (\n",
    "    df[df[\"companies\"].str.contains(\"google\")][\"year\"]\n",
    "    .value_counts(sort=False)\n",
    "    .rename(\"google\")\n",
    ")\n",
    "amazon = (\n",
    "    df[df[\"companies\"].str.contains(\"amazon\")][\"year\"]\n",
    "    .value_counts(sort=False)\n",
    "    .rename(\"amazon\")\n",
    ")\n",
    "apple = (\n",
    "    df[df[\"companies\"].str.contains(\"apple\")][\"year\"]\n",
    "    .value_counts(sort=False)\n",
    "    .rename(\"apple\")\n",
    ")\n",
    "microsoft = (\n",
    "    df[df[\"companies\"].str.contains(\"microsoft\")][\"year\"]\n",
    "    .value_counts(sort=False)\n",
    "    .rename(\"microsoft\")\n",
    ")\n",
    "facebook = (\n",
    "    df[df[\"companies\"].str.contains(\"facebook\")][\"year\"]\n",
    "    .value_counts(sort=False)\n",
    "    .rename(\"facebook\")\n",
    ")\n",
    "\n",
    "_df = pd.concat([apple, amazon, google, microsoft, facebook], axis=1)[-y:]\n",
    "ax = _df.plot(kind=\"bar\",)\n",
    "ax.set_ylabel(\"Number of Actions\", fontsize=14)\n",
    "add_value_labels(ax)"
   ]
  },
  {
   "cell_type": "markdown",
   "metadata": {},
   "source": [
    "# Big tech (FAAMG) vs other"
   ]
  },
  {
   "cell_type": "code",
   "execution_count": 17,
   "metadata": {},
   "outputs": [
    {
     "data": {
      "image/png": "[encoded data removed]",
      "text/plain": [
       "<Figure size 1008x504 with 1 Axes>"
      ]
     },
     "metadata": {
      "needs_background": "light"
     },
     "output_type": "display_data"
    }
   ],
   "source": [
    "big_tech = [\"apple\", \"google\", \"amazon\", \"facebook\", \"microsoft\"]\n",
    "is_b = df[df[\"companies\"].str.contains('|'.join(big_tech))][\"year\"].value_counts(sort=False).rename(\"Big tech\")\n",
    "not_b = df[~df[\"companies\"].str.contains('|'.join(big_tech))][\"year\"].value_counts(sort=False).rename(\"Other\")\n",
    "_df = pd.concat([is_b, not_b], axis=1)[-y:]\n",
    "ax = _df.plot(kind=\"bar\")\n",
    "ax.set_ylabel(\"Number of Actions\", fontsize=14)\n",
    "add_value_labels(ax)"
   ]
  },
  {
   "cell_type": "markdown",
   "metadata": {},
   "source": [
    "# Covid-19 actions in 2020"
   ]
  },
  {
   "cell_type": "code",
   "execution_count": 28,
   "metadata": {},
   "outputs": [
    {
     "data": {
      "image/png": "[encoded data removed]",
      "text/plain": [
       "<Figure size 1008x504 with 1 Axes>"
      ]
     },
     "metadata": {},
     "output_type": "display_data"
    },
    {
     "data": {
      "text/plain": [
       "[46, 19, 54]"
      ]
     },
     "execution_count": 28,
     "metadata": {},
     "output_type": "execute_result"
    }
   ],
   "source": [
    "is_covid = len(df[(df[\"year\"] == 2020) & (df[\"tags\"].str.contains(\"coronavirus\"))])\n",
    "is_antiracism = len(df[(df[\"year\"] == 2020) & (df[\"tags\"].str.contains(\"antiracism\"))])\n",
    "not_covid_nor_antiracism = len(df[(df[\"year\"] == 2020) & (~df[\"tags\"].str.contains(\"coronavirus\")) & (~df[\"tags\"].str.contains(\"antiracism\"))])\n",
    "\n",
    "labels = [\"covid related\", \"antiracism related\", \"neither\"]\n",
    "sizes = [is_covid, is_antiracism, not_covid_nor_antiracism]\n",
    "# explode = (0.1, 0, 0)  # only \"explode\" the 2nd slice (i.e. 'covid related')\n",
    "\n",
    "fig1, ax1 = plt.subplots()\n",
    "ax1.pie(\n",
    "    sizes, labels=labels, autopct=\"%1.1f%%\", startangle=90, # explode=explode, \n",
    ")\n",
    "ax1.axis(\"equal\")  # Equal aspect ratio ensures that pie is drawn as a circle\n",
    "plt.tight_layout()\n",
    "plt.show()\n",
    "sizes"
   ]
  },
  {
   "cell_type": "markdown",
   "metadata": {},
   "source": [
    "# Actions by kinds of discrimination"
   ]
  },
  {
   "cell_type": "code",
   "execution_count": 19,
   "metadata": {},
   "outputs": [
    {
     "data": {
      "text/plain": [
       "<matplotlib.axes._subplots.AxesSubplot at 0x7faafccb5cc0>"
      ]
     },
     "execution_count": 19,
     "metadata": {},
     "output_type": "execute_result"
    },
    {
     "data": {
      "image/png": "[encoded data removed]",
      "text/plain": [
       "<Figure size 1008x504 with 1 Axes>"
      ]
     },
     "metadata": {
      "needs_background": "light"
     },
     "output_type": "display_data"
    }
   ],
   "source": [
    "y = end_year - start_year\n",
    "racism = (\n",
    "    df[df[\"tags\"].str.contains(\"antiracism\")][\"year\"]\n",
    "    .value_counts(sort=False)\n",
    "    .rename(\"racism\")\n",
    ")\n",
    "sexism = (\n",
    "    df[df[\"tags\"].str.contains(\"sexism\")][\"year\"]\n",
    "    .value_counts(sort=False)\n",
    "    .rename(\"sexism\")\n",
    ")\n",
    "lgbtq = (\n",
    "    df[df[\"tags\"].str.contains(\"lgbtq\")][\"year\"]\n",
    "    .value_counts(sort=False)\n",
    "    .rename(\"lgbtq\")\n",
    ")\n",
    "ageism = (\n",
    "    df[df[\"tags\"].str.contains(\"ageism\")][\"year\"]\n",
    "    .value_counts(sort=False)\n",
    "    .rename(\"ageism\")\n",
    ")\n",
    "religious = (\n",
    "    df[df[\"tags\"].str.contains(\"religious\")][\"year\"]\n",
    "    .value_counts(sort=False)\n",
    "    .rename(\"religious\")\n",
    ")\n",
    "immigration = (\n",
    "    df[df[\"tags\"].str.contains(\"immigration_status\")][\"year\"]\n",
    "    .value_counts(sort=False)\n",
    "    .rename(\"immigration\")\n",
    ")\n",
    "\n",
    "pd.concat([racism, sexism, lgbtq, ageism, religious, immigration], axis=1)[-y:].plot(\n",
    "    kind=\"bar\", stacked=True,\n",
    ")"
   ]
  },
  {
   "cell_type": "code",
   "execution_count": 20,
   "metadata": {},
   "outputs": [
    {
     "data": {
      "image/png": "[encoded data removed]",
      "text/plain": [
       "<Figure size 1008x504 with 1 Axes>"
      ]
     },
     "metadata": {
      "needs_background": "light"
     },
     "output_type": "display_data"
    }
   ],
   "source": [
    "ohe_df = df[df[\"year\"]==2020][\"companies\"].str.replace(\" \", \"\").str.lower().str.get_dummies(sep=\",\")#.add_prefix(f\"\")\n",
    "_df = ohe_df.sum().sort_values()[-10:]#.plot(kind='barh')\n",
    "ax = _df.plot(kind=\"bar\")\n",
    "ax.set_ylabel(\"Number of Actions\", fontsize=14)\n",
    "add_value_labels(ax)"
   ]
  },
  {
   "cell_type": "markdown",
   "metadata": {},
   "source": [
    "# Actions by month"
   ]
  },
  {
   "cell_type": "code",
   "execution_count": 21,
   "metadata": {},
   "outputs": [
    {
     "data": {
      "image/png": "[encoded data removed]",
      "text/plain": [
       "<Figure size 1152x576 with 1 Axes>"
      ]
     },
     "metadata": {
      "needs_background": "light"
     },
     "output_type": "display_data"
    }
   ],
   "source": [
    "# fill dataframe with zeros for dates where no actions happened\n",
    "sparse_df = df.loc[:, \"date\"].value_counts()\n",
    "\n",
    "# set date range for month graph\n",
    "today = datetime.today().date()\n",
    "three_yrs_ago = f\"{today.month}-{today.day}-{today.year-4}\"\n",
    "date_range_month = pd.date_range(three_yrs_ago, datetime.today().date())\n",
    "\n",
    "# fill dataframe with zeros for dates where no actions happened\n",
    "sparse_df = (\n",
    "    df.loc[:, \"date\"]\n",
    "    .value_counts()\n",
    "    .reindex(date_range_month, fill_value=0)\n",
    "    .to_frame(name=\"count\")\n",
    ")\n",
    "\n",
    "# aggregate our dataframe by month\n",
    "df_1 = sparse_df.groupby([(sparse_df.index.year),(sparse_df.index.month)]).sum()\n",
    "\n",
    "# plot the bar graph with annotation|\n",
    "ax = df_1.plot(kind=\"bar\", figsize=(16, 8), legend=False)\n",
    "ax.set_xlabel(\"Month\", fontsize=14)\n",
    "ax.set_ylabel(\"Number of Actions\", fontsize=14)\n",
    "ax.set_title(\"Total actions by Month\", fontsize=18)\n",
    "add_value_labels(ax)"
   ]
  },
  {
   "cell_type": "code",
   "execution_count": 30,
   "metadata": {},
   "outputs": [
    {
     "name": "stderr",
     "output_type": "stream",
     "text": [
      "/home/jianshentan/anaconda3/envs/cait/lib/python3.7/site-packages/pandas/core/computation/expressions.py:178: UserWarning: evaluating in Python space because the '*' operator is not supported by numexpr for the bool dtype, use '&' instead\n",
      "  f\"evaluating in Python space because the {repr(op_str)} \"\n"
     ]
    },
    {
     "data": {
      "text/plain": [
       "40"
      ]
     },
     "execution_count": 30,
     "metadata": {},
     "output_type": "execute_result"
    }
   ],
   "source": [
    "len(df[(df[\"companies\"].str.contains(\"amazon\")) * (df[\"year\"]==2020)])"
   ]
  },
  {
   "cell_type": "code",
   "execution_count": 34,
   "metadata": {},
   "outputs": [
    {
     "data": {
      "text/plain": [
       "30"
      ]
     },
     "execution_count": 34,
     "metadata": {},
     "output_type": "execute_result"
    }
   ],
   "source": [
    "len(df[(df[\"companies\"].str.contains(\"amazon\")) & (df[\"year\"]==2020) & (df[\"tags\"].str.contains(\"coronavirus\"))])"
   ]
  },
  {
   "cell_type": "code",
   "execution_count": null,
   "metadata": {
    "collapsed": true
   },
   "outputs": [],
   "source": []
  }
 ],
 "metadata": {
  "kernelspec": {
   "display_name": "Python (cait)",
   "language": "python",
   "name": "cait"
  },
  "language_info": {
   "codemirror_mode": {
    "name": "ipython",
    "version": 3
   },
   "file_extension": ".py",
   "mimetype": "text/x-python",
   "name": "python",
   "nbconvert_exporter": "python",
   "pygments_lexer": "ipython3",
   "version": "3.7.2"
  }
 },
 "nbformat": 4,
 "nbformat_minor": 4
}
